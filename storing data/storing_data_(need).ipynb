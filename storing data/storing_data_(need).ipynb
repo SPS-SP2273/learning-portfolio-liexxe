{
 "cells": [
  {
   "cell_type": "markdown",
   "id": "123456",
   "metadata": {},
   "source": [
    "<div style=\"text-align:left;font-size:2em\"><span style=\"font-weight:bolder;font-size:1.25em\">SP2273 | Learning Portfolio</span><br><br><span style=\"font-weight:bold;color:darkred\">Storing Data (Need)</span></div>"
   ]
  },
  {
   "cell_type": "markdown",
   "id": "c5c2c6fa",
   "metadata": {},
   "source": [
    "## 1 Lists, Arrays & Dictionaries"
   ]
  },
  {
   "cell_type": "markdown",
   "id": "607229f5",
   "metadata": {},
   "source": [
    "### 1.1 Let’s compare"
   ]
  },
  {
   "cell_type": "code",
   "execution_count": 1,
   "id": "d2fa77bc",
   "metadata": {},
   "outputs": [],
   "source": [
    "import numpy as np"
   ]
  },
  {
   "cell_type": "code",
   "execution_count": 2,
   "id": "6f72b708",
   "metadata": {},
   "outputs": [],
   "source": [
    "py_super_names = [\"Black Widow\", \"Iron Man\", \"Doctor Strange\"]\n",
    "py_real_names = [\"Natasha Romanoff\", \"Tony Stark\", \"Stephen Strange\"]"
   ]
  },
  {
   "cell_type": "code",
   "execution_count": 3,
   "id": "8beb887a",
   "metadata": {},
   "outputs": [],
   "source": [
    "np_super_names = np.array([\"Black Widow\", \"Iron Man\", \"Doctor Strange\"])\n",
    "np_real_names = np.array([\"Natasha Romanoff\", \"Tony Stark\", \"Stephen Strange\"])"
   ]
  },
  {
   "cell_type": "code",
   "execution_count": 4,
   "id": "adae06d1",
   "metadata": {},
   "outputs": [],
   "source": [
    "superhero_info = {\"Natasha Romanoff\": \"Black Widow\",\n",
    "                  \"Tony Stark\": \"Iron Man\",\n",
    "                  \"Stephen Strange\": \"Doctor Strange\"\n",
    "                  } #Dictionary uses : to separate\n",
    "#order matters lists --> arrays"
   ]
  },
  {
   "cell_type": "markdown",
   "id": "9019d07e",
   "metadata": {},
   "source": [
    "### 1.2 Accessing data from a list (or array)"
   ]
  },
  {
   "cell_type": "code",
   "execution_count": 2,
   "id": "d464dc47",
   "metadata": {},
   "outputs": [],
   "source": [
    "py_super_names = [\"Black Widow\", \"Iron Man\", \"Doctor Strange\"]\n",
    "py_real_names = [\"Natasha Romanoff\", \"Tony Stark\", \"Stephen Strange\"]"
   ]
  },
  {
   "cell_type": "code",
   "execution_count": 3,
   "id": "8b85bf5d",
   "metadata": {},
   "outputs": [],
   "source": [
    "np_super_names = np.array([\"Black Widow\", \"Iron Man\", \"Doctor Strange\"])\n",
    "np_real_names = np.array([\"Natasha Romanoff\", \"Tony Stark\", \"Stephen Strange\"])"
   ]
  },
  {
   "cell_type": "code",
   "execution_count": 9,
   "id": "70869f45",
   "metadata": {},
   "outputs": [
    {
     "name": "stdout",
     "output_type": "stream",
     "text": [
      "Stephen Strange\n"
     ]
    }
   ],
   "source": [
    "print(py_real_names[2]) #python uses a zero-based index; starts from 0"
   ]
  },
  {
   "cell_type": "code",
   "execution_count": 10,
   "id": "13ef283a",
   "metadata": {},
   "outputs": [
    {
     "name": "stdout",
     "output_type": "stream",
     "text": [
      "Iron Man\n"
     ]
    }
   ],
   "source": [
    "print(np_super_names[1])"
   ]
  },
  {
   "cell_type": "code",
   "execution_count": 11,
   "id": "af1f0c32",
   "metadata": {},
   "outputs": [
    {
     "name": "stdout",
     "output_type": "stream",
     "text": [
      "Doctor Strange\n"
     ]
    }
   ],
   "source": [
    "print(py_super_names[-1]) #reverse indexing, start from right"
   ]
  },
  {
   "cell_type": "markdown",
   "id": "68ecb4e7",
   "metadata": {},
   "source": [
    "### 1.3 Accessing data from a dictionary"
   ]
  },
  {
   "cell_type": "code",
   "execution_count": 4,
   "id": "2a7f6987",
   "metadata": {},
   "outputs": [],
   "source": [
    "superhero_info = {\"Natasha Romanoff\": \"Black Widow\",\n",
    "                  \"Tony Stark\": \"Iron Man\",\n",
    "                  \"Stephen Strange\": \"Doctor Strange\"\n",
    "                  } #Dictionary uses : to separate keys and values\n",
    "#order matters lists --> arrays"
   ]
  },
  {
   "cell_type": "code",
   "execution_count": 12,
   "id": "ca2fa616",
   "metadata": {},
   "outputs": [
    {
     "name": "stdout",
     "output_type": "stream",
     "text": [
      "Black Widow\n"
     ]
    }
   ],
   "source": [
    "print(superhero_info[\"Natasha Romanoff\"])"
   ]
  },
  {
   "cell_type": "code",
   "execution_count": 13,
   "id": "b4c121e7",
   "metadata": {},
   "outputs": [
    {
     "data": {
      "text/plain": [
       "dict_keys(['Natasha Romanoff', 'Tony Stark', 'Stephen Strange'])"
      ]
     },
     "execution_count": 13,
     "metadata": {},
     "output_type": "execute_result"
    }
   ],
   "source": [
    "superhero_info.keys()"
   ]
  },
  {
   "cell_type": "code",
   "execution_count": 14,
   "id": "2cb2b64f",
   "metadata": {},
   "outputs": [
    {
     "data": {
      "text/plain": [
       "dict_values(['Black Widow', 'Iron Man', 'Doctor Strange'])"
      ]
     },
     "execution_count": 14,
     "metadata": {},
     "output_type": "execute_result"
    }
   ],
   "source": [
    "superhero_info.values()"
   ]
  },
  {
   "cell_type": "markdown",
   "id": "60867201",
   "metadata": {},
   "source": [
    "### 1.4 Higher dimensional lists"
   ]
  },
  {
   "cell_type": "code",
   "execution_count": 15,
   "id": "91b25e9b",
   "metadata": {},
   "outputs": [],
   "source": [
    "py_superhero_info = [['Natasha Romanoff', 'Black Widow'],\n",
    "                     ['Tony Stark', 'Iron Man'],\n",
    "                     ['Stephen Strange', 'Doctor Strange']]"
   ]
  },
  {
   "cell_type": "code",
   "execution_count": 16,
   "id": "7a3c5f94",
   "metadata": {},
   "outputs": [
    {
     "name": "stdout",
     "output_type": "stream",
     "text": [
      "['Natasha Romanoff', 'Black Widow']\n"
     ]
    }
   ],
   "source": [
    "print(py_superhero_info[0])"
   ]
  },
  {
   "cell_type": "markdown",
   "id": "ad019cb7",
   "metadata": {},
   "source": [
    "## 2 Lists vs. Arrays"
   ]
  },
  {
   "cell_type": "markdown",
   "id": "760708eb",
   "metadata": {},
   "source": [
    "### 2.1 Size"
   ]
  },
  {
   "cell_type": "code",
   "execution_count": 17,
   "id": "2b3e6680",
   "metadata": {},
   "outputs": [],
   "source": [
    "#Set up\n",
    "py_list_2d = [[1, \"A\"], [2, \"B\"], [3, \"C\"], [4, \"D\"],\n",
    "              [5, \"E\"], [6, \"F\"], [7, \"G\"], [8, \"H\"],\n",
    "              [9, \"I\"], [10, \"J\"]]\n",
    "\n",
    "np_array_2d = np.array(py_list_2d)      # Reusing the Python list \n",
    "                                        # to create a NEW\n",
    "                                        # NumPy array"
   ]
  },
  {
   "cell_type": "code",
   "execution_count": 20,
   "id": "ee2ab97a",
   "metadata": {},
   "outputs": [
    {
     "data": {
      "text/plain": [
       "10"
      ]
     },
     "execution_count": 20,
     "metadata": {},
     "output_type": "execute_result"
    }
   ],
   "source": [
    "#2D lists\n",
    "len(py_list_2d)"
   ]
  },
  {
   "cell_type": "code",
   "execution_count": 21,
   "id": "d9e87a73",
   "metadata": {},
   "outputs": [
    {
     "data": {
      "text/plain": [
       "10"
      ]
     },
     "execution_count": 21,
     "metadata": {},
     "output_type": "execute_result"
    }
   ],
   "source": [
    "#2D arrays\n",
    "len(np_array_2d)"
   ]
  },
  {
   "cell_type": "code",
   "execution_count": 22,
   "id": "69b66c9e",
   "metadata": {},
   "outputs": [
    {
     "data": {
      "text/plain": [
       "(10, 2)"
      ]
     },
     "execution_count": 22,
     "metadata": {},
     "output_type": "execute_result"
    }
   ],
   "source": [
    "np_array_2d.shape #shape is not a function, hence no brackets ()"
   ]
  },
  {
   "cell_type": "markdown",
   "id": "0b57914b",
   "metadata": {},
   "source": [
    "### 2.2 Arrays are fussy about type"
   ]
  },
  {
   "cell_type": "code",
   "execution_count": null,
   "id": "cb29783c",
   "metadata": {},
   "outputs": [],
   "source": [
    "#Arrays require a single type of data, whereas lists are more flexible"
   ]
  },
  {
   "cell_type": "code",
   "execution_count": 23,
   "id": "9d973e9f",
   "metadata": {},
   "outputs": [
    {
     "data": {
      "text/plain": [
       "array(['1', '1.5', 'A'], dtype='<U32')"
      ]
     },
     "execution_count": 23,
     "metadata": {},
     "output_type": "execute_result"
    }
   ],
   "source": [
    "py_list = [1, 1.5, 'A']\n",
    "np.array(py_list)"
   ]
  },
  {
   "cell_type": "markdown",
   "id": "8e534caf",
   "metadata": {},
   "source": [
    "### 2.3 Adding a number"
   ]
  },
  {
   "cell_type": "code",
   "execution_count": 24,
   "id": "03bbf5c7",
   "metadata": {},
   "outputs": [],
   "source": [
    "#Set up\n",
    "py_list = [1, 2, 3, 4, 5]\n",
    "np_array = np.array(py_list)         # Reusing the Python list\n",
    "                                     # to create a NEW\n",
    "                                     # NumPy array"
   ]
  },
  {
   "cell_type": "code",
   "execution_count": 25,
   "id": "643d9122",
   "metadata": {},
   "outputs": [
    {
     "ename": "NameError",
     "evalue": "name 'py_lists' is not defined",
     "output_type": "error",
     "traceback": [
      "\u001b[0;31m---------------------------------------------------------------------------\u001b[0m",
      "\u001b[0;31mNameError\u001b[0m                                 Traceback (most recent call last)",
      "Cell \u001b[0;32mIn[25], line 2\u001b[0m\n\u001b[1;32m      1\u001b[0m \u001b[38;5;66;03m#Lists\u001b[39;00m\n\u001b[0;32m----> 2\u001b[0m \u001b[43mpy_lists\u001b[49m\u001b[38;5;241m+\u001b[39m\u001b[38;5;241m10\u001b[39m \u001b[38;5;66;03m#will not work\u001b[39;00m\n",
      "\u001b[0;31mNameError\u001b[0m: name 'py_lists' is not defined"
     ]
    }
   ],
   "source": [
    "#Lists\n",
    "py_lists + 10 #will not work"
   ]
  },
  {
   "cell_type": "code",
   "execution_count": 26,
   "id": "53303762",
   "metadata": {},
   "outputs": [
    {
     "data": {
      "text/plain": [
       "array([11, 12, 13, 14, 15])"
      ]
     },
     "execution_count": 26,
     "metadata": {},
     "output_type": "execute_result"
    }
   ],
   "source": [
    "#Arrays\n",
    "np_array + 10"
   ]
  },
  {
   "cell_type": "markdown",
   "id": "b9628ff4",
   "metadata": {},
   "source": [
    "### 2.4 Adding another list"
   ]
  },
  {
   "cell_type": "code",
   "execution_count": 27,
   "id": "3ecd7f90",
   "metadata": {},
   "outputs": [],
   "source": [
    "#Set up\n",
    "py_list_1 = [1, 2, 3, 4, 5]\n",
    "py_list_2 = [10, 20, 30, 40, 50]\n",
    "\n",
    "np_array_1 = np.array(py_list_1)\n",
    "np_array_2 = np.array(py_list_2)"
   ]
  },
  {
   "cell_type": "code",
   "execution_count": 28,
   "id": "74b0c28f",
   "metadata": {},
   "outputs": [
    {
     "data": {
      "text/plain": [
       "[1, 2, 3, 4, 5, 10, 20, 30, 40, 50]"
      ]
     },
     "execution_count": 28,
     "metadata": {},
     "output_type": "execute_result"
    }
   ],
   "source": [
    "#Lists\n",
    "py_list_1 + py_list_2 #separate, 10 values"
   ]
  },
  {
   "cell_type": "code",
   "execution_count": 30,
   "id": "e9d2ed92",
   "metadata": {},
   "outputs": [
    {
     "data": {
      "text/plain": [
       "array([11, 22, 33, 44, 55])"
      ]
     },
     "execution_count": 30,
     "metadata": {},
     "output_type": "execute_result"
    }
   ],
   "source": [
    "#Arrays\n",
    "np_array_1 + np_array_2 #adds values together"
   ]
  },
  {
   "cell_type": "markdown",
   "id": "e82f04a9",
   "metadata": {},
   "source": [
    "### 2.5 Multiplying by a Number"
   ]
  },
  {
   "cell_type": "code",
   "execution_count": 31,
   "id": "539d19a3",
   "metadata": {},
   "outputs": [],
   "source": [
    "#Set up\n",
    "py_list = [1, 2, 3, 4, 5]\n",
    "np_array = np.array(py_list)         "
   ]
  },
  {
   "cell_type": "code",
   "execution_count": 33,
   "id": "f3dbbafa",
   "metadata": {},
   "outputs": [
    {
     "data": {
      "text/plain": [
       "[1, 2, 3, 4, 5, 1, 2, 3, 4, 5]"
      ]
     },
     "execution_count": 33,
     "metadata": {},
     "output_type": "execute_result"
    }
   ],
   "source": [
    "#Lists\n",
    "py_list*2"
   ]
  },
  {
   "cell_type": "code",
   "execution_count": 34,
   "id": "4b73136b",
   "metadata": {},
   "outputs": [
    {
     "data": {
      "text/plain": [
       "array([ 2,  4,  6,  8, 10])"
      ]
     },
     "execution_count": 34,
     "metadata": {},
     "output_type": "execute_result"
    }
   ],
   "source": [
    "#Arrays\n",
    "np_array*2"
   ]
  },
  {
   "cell_type": "markdown",
   "id": "baf2b12d",
   "metadata": {},
   "source": [
    "### 2.6 Squaring"
   ]
  },
  {
   "cell_type": "code",
   "execution_count": 35,
   "id": "3e9d794f",
   "metadata": {},
   "outputs": [],
   "source": [
    "#Set up\n",
    "py_list = [1, 2, 3, 4, 5]\n",
    "np_array = np.array(py_list)"
   ]
  },
  {
   "cell_type": "code",
   "execution_count": null,
   "id": "bbcdcbd8",
   "metadata": {},
   "outputs": [],
   "source": [
    "#Lists\n",
    "py_list**2 # Wil not work!  "
   ]
  },
  {
   "cell_type": "code",
   "execution_count": 36,
   "id": "c4db86a0",
   "metadata": {},
   "outputs": [
    {
     "data": {
      "text/plain": [
       "array([ 1,  4,  9, 16, 25])"
      ]
     },
     "execution_count": 36,
     "metadata": {},
     "output_type": "execute_result"
    }
   ],
   "source": [
    "#Arrays\n",
    "np_array**2"
   ]
  },
  {
   "cell_type": "markdown",
   "id": "83804836",
   "metadata": {},
   "source": [
    "### 2.7 Asking questions"
   ]
  },
  {
   "cell_type": "code",
   "execution_count": 45,
   "id": "bfd5f59e",
   "metadata": {},
   "outputs": [],
   "source": [
    "#Set up\n",
    "py_list = [1, 2, 3, 4, 5]\n",
    "np_array = np.array(py_list)         "
   ]
  },
  {
   "cell_type": "code",
   "execution_count": 48,
   "id": "98af5516",
   "metadata": {},
   "outputs": [
    {
     "name": "stdout",
     "output_type": "stream",
     "text": [
      "B\n"
     ]
    }
   ],
   "source": [
    "py_list=[]\n",
    "if py_list:\n",
    "    print('A')\n",
    "else:\n",
    "    print('B')"
   ]
  },
  {
   "cell_type": "code",
   "execution_count": 38,
   "id": "5a1fba47",
   "metadata": {},
   "outputs": [
    {
     "data": {
      "text/plain": [
       "False"
      ]
     },
     "execution_count": 38,
     "metadata": {},
     "output_type": "execute_result"
    }
   ],
   "source": [
    "#Lists\n",
    "py_list == 3     # Works, but what IS the question?"
   ]
  },
  {
   "cell_type": "code",
   "execution_count": 43,
   "id": "14133f72",
   "metadata": {},
   "outputs": [
    {
     "ename": "TypeError",
     "evalue": "'>' not supported between instances of 'list' and 'int'",
     "output_type": "error",
     "traceback": [
      "\u001b[0;31m---------------------------------------------------------------------------\u001b[0m",
      "\u001b[0;31mTypeError\u001b[0m                                 Traceback (most recent call last)",
      "Cell \u001b[0;32mIn[43], line 1\u001b[0m\n\u001b[0;32m----> 1\u001b[0m \u001b[43mpy_list\u001b[49m\u001b[43m \u001b[49m\u001b[38;5;241;43m>\u001b[39;49m\u001b[43m \u001b[49m\u001b[38;5;241;43m3\u001b[39;49m      \u001b[38;5;66;03m# Won't work!\u001b[39;00m\n",
      "\u001b[0;31mTypeError\u001b[0m: '>' not supported between instances of 'list' and 'int'"
     ]
    }
   ],
   "source": [
    "py_list > 3      # Won't work!"
   ]
  },
  {
   "cell_type": "code",
   "execution_count": 40,
   "id": "7aa597ed",
   "metadata": {},
   "outputs": [
    {
     "data": {
      "text/plain": [
       "array([False, False,  True, False, False])"
      ]
     },
     "execution_count": 40,
     "metadata": {},
     "output_type": "execute_result"
    }
   ],
   "source": [
    "#Arrays\n",
    "np_array == 3  "
   ]
  },
  {
   "cell_type": "code",
   "execution_count": 44,
   "id": "b47cec08",
   "metadata": {},
   "outputs": [
    {
     "data": {
      "text/plain": [
       "array([False, False, False,  True,  True])"
      ]
     },
     "execution_count": 44,
     "metadata": {},
     "output_type": "execute_result"
    }
   ],
   "source": [
    "np_array > 3  "
   ]
  },
  {
   "cell_type": "markdown",
   "id": "105d42ff",
   "metadata": {},
   "source": [
    "### 2.8 Mathematics"
   ]
  },
  {
   "cell_type": "code",
   "execution_count": 49,
   "id": "ddffd29f",
   "metadata": {},
   "outputs": [],
   "source": [
    "#Setup\n",
    "py_list = [1, 2, 3, 4, 5]\n",
    "np_array = np.array(py_list)         "
   ]
  },
  {
   "cell_type": "code",
   "execution_count": 50,
   "id": "01c8b154",
   "metadata": {},
   "outputs": [
    {
     "data": {
      "text/plain": [
       "15"
      ]
     },
     "execution_count": 50,
     "metadata": {},
     "output_type": "execute_result"
    }
   ],
   "source": [
    "#Lists\n",
    "sum(py_list)     # sum() is a base Python function"
   ]
  },
  {
   "cell_type": "code",
   "execution_count": 51,
   "id": "5a6bed20",
   "metadata": {},
   "outputs": [
    {
     "data": {
      "text/plain": [
       "5"
      ]
     },
     "execution_count": 51,
     "metadata": {},
     "output_type": "execute_result"
    }
   ],
   "source": [
    "max(py_list)     # max() is a base Python function"
   ]
  },
  {
   "cell_type": "code",
   "execution_count": 52,
   "id": "858cd31d",
   "metadata": {},
   "outputs": [
    {
     "data": {
      "text/plain": [
       "1"
      ]
     },
     "execution_count": 52,
     "metadata": {},
     "output_type": "execute_result"
    }
   ],
   "source": [
    "min(py_list)     # min() is a base Python function"
   ]
  },
  {
   "cell_type": "code",
   "execution_count": 53,
   "id": "4075d1ec",
   "metadata": {},
   "outputs": [
    {
     "ename": "AttributeError",
     "evalue": "'list' object has no attribute 'sum'",
     "output_type": "error",
     "traceback": [
      "\u001b[0;31m---------------------------------------------------------------------------\u001b[0m",
      "\u001b[0;31mAttributeError\u001b[0m                            Traceback (most recent call last)",
      "Cell \u001b[0;32mIn[53], line 1\u001b[0m\n\u001b[0;32m----> 1\u001b[0m \u001b[43mpy_list\u001b[49m\u001b[38;5;241;43m.\u001b[39;49m\u001b[43msum\u001b[49m()   \u001b[38;5;66;03m# Won't work!\u001b[39;00m\n",
      "\u001b[0;31mAttributeError\u001b[0m: 'list' object has no attribute 'sum'"
     ]
    }
   ],
   "source": [
    "py_list.sum()   # Won't work!"
   ]
  },
  {
   "cell_type": "code",
   "execution_count": 54,
   "id": "f61f31d6",
   "metadata": {},
   "outputs": [
    {
     "data": {
      "text/plain": [
       "15"
      ]
     },
     "execution_count": 54,
     "metadata": {},
     "output_type": "execute_result"
    }
   ],
   "source": [
    "#Arrays\n",
    "np_array.sum()"
   ]
  },
  {
   "cell_type": "code",
   "execution_count": 55,
   "id": "cd27e2a4",
   "metadata": {},
   "outputs": [
    {
     "data": {
      "text/plain": [
       "3.0"
      ]
     },
     "execution_count": 55,
     "metadata": {},
     "output_type": "execute_result"
    }
   ],
   "source": [
    "np_array.mean()"
   ]
  },
  {
   "cell_type": "code",
   "execution_count": 56,
   "id": "a92d6814",
   "metadata": {},
   "outputs": [
    {
     "data": {
      "text/plain": [
       "5"
      ]
     },
     "execution_count": 56,
     "metadata": {},
     "output_type": "execute_result"
    }
   ],
   "source": [
    "np_array.max()"
   ]
  },
  {
   "cell_type": "code",
   "execution_count": 57,
   "id": "d8bf0cf9",
   "metadata": {},
   "outputs": [
    {
     "data": {
      "text/plain": [
       "1"
      ]
     },
     "execution_count": 57,
     "metadata": {},
     "output_type": "execute_result"
    }
   ],
   "source": [
    "np_array.min()"
   ]
  },
  {
   "cell_type": "markdown",
   "id": "5c34f342",
   "metadata": {},
   "source": [
    "## Exercise 1 :  Total recall?"
   ]
  },
  {
   "cell_type": "markdown",
   "id": "8fcdce48",
   "metadata": {},
   "source": [
    "1. Lists and arrays use [] and , between values unlike dictionary which uses {} and :\n",
    "2. Adding lists together join strings, while adding arrays together adds  element by element. Arrays require single type of data (srting, float, int) while lists are more flexible. For arrays with different types, use np.array(py_list)\n",
    "3. A dictionary stores data which relates keys to values, uses {} and :"
   ]
  },
  {
   "cell_type": "markdown",
   "id": "b5c56b51",
   "metadata": {},
   "source": [
    "## Exercise 2 :  Index me"
   ]
  },
  {
   "cell_type": "code",
   "execution_count": 63,
   "id": "40cdc151",
   "metadata": {},
   "outputs": [
    {
     "name": "stdout",
     "output_type": "stream",
     "text": [
      "a1\n",
      "c3\n",
      "e5\n",
      "g7\n",
      "i9\n"
     ]
    }
   ],
   "source": [
    "py_list = [\"a1\", \"b2\", \"c3\", \"d4\", \"e5\", \"f6\", \"g7\", \"h8\", \"i9\", \"j10\"]\n",
    "print(py_list[0])   # Prints 'a1'\n",
    "print(py_list[2])   # Prints 'c3'\n",
    "print(py_list[4])   # Prints 'e5'\n",
    "print(py_list[6])   # Prints 'g7'\n",
    "print(py_list[8])   # Prints 'i9'"
   ]
  },
  {
   "cell_type": "markdown",
   "id": "5efa698b",
   "metadata": {},
   "source": [
    "## Exercise 3 :  Capitalise Heros"
   ]
  },
  {
   "cell_type": "code",
   "execution_count": 70,
   "id": "d9735fb1",
   "metadata": {},
   "outputs": [
    {
     "name": "stdout",
     "output_type": "stream",
     "text": [
      "{'Natasha Romanoff': 'BLACK WIDOW', 'Tony Stark': 'IRON MAN', 'Stephen Strange': 'DOCTOR STRANGE'}\n"
     ]
    }
   ],
   "source": [
    "superhero_info = {\"Natasha Romanoff\": \"Black Widow\",\n",
    "                  \"Tony Stark\": \"Iron Man\",\n",
    "                  \"Stephen Strange\": \"Doctor Strange\",\n",
    "                  }\n",
    "\n",
    "superhero_info[\"Natasha Romanoff\"] = superhero_info[\"Natasha Romanoff\"].upper()\n",
    "superhero_info[\"Tony Stark\"] = superhero_info[\"Tony Stark\"].upper()\n",
    "superhero_info[\"Stephen Strange\"] = superhero_info[\"Stephen Strange\"].upper()\n",
    "#keys used to access the dictionary, cannot access values directly\n",
    "\n",
    "print(superhero_info)"
   ]
  },
  {
   "cell_type": "markdown",
   "id": "455fc192",
   "metadata": {},
   "source": [
    "## Exercise 4 :  How many ones"
   ]
  },
  {
   "cell_type": "code",
   "execution_count": 76,
   "id": "2055148a",
   "metadata": {},
   "outputs": [],
   "source": [
    "numbers=[45, 60, 1, 30, 96, 1, 96, 57, 16, 1,\n",
    "        99, 62, 86, 43, 42, 60, 59, 1, 1, 35,\n",
    "        83, 47, 34, 28, 68, 23, 22, 92, 1, 79,\n",
    "        1, 29, 94, 72, 46, 47, 1, 74, 32, 20,\n",
    "        8, 37, 35, 1, 89, 29, 86, 19, 43, 61] \n",
    "np_numbers=np.array(numbers)"
   ]
  },
  {
   "cell_type": "code",
   "execution_count": 82,
   "id": "0929dee2",
   "metadata": {},
   "outputs": [
    {
     "data": {
      "text/plain": [
       "array([False, False,  True, False, False,  True, False, False, False,\n",
       "        True, False, False, False, False, False, False, False,  True,\n",
       "        True, False, False, False, False, False, False, False, False,\n",
       "       False,  True, False,  True, False, False, False, False, False,\n",
       "        True, False, False, False, False, False, False,  True, False,\n",
       "       False, False, False, False, False])"
      ]
     },
     "execution_count": 82,
     "metadata": {},
     "output_type": "execute_result"
    }
   ],
   "source": [
    "np_numbers_1=np_numbers== 1  \n",
    "np_numbers_1"
   ]
  },
  {
   "cell_type": "code",
   "execution_count": 84,
   "id": "80623d10",
   "metadata": {},
   "outputs": [
    {
     "data": {
      "text/plain": [
       "9"
      ]
     },
     "execution_count": 84,
     "metadata": {},
     "output_type": "execute_result"
    }
   ],
   "source": [
    "sum(np_numbers_1)"
   ]
  }
 ],
 "metadata": {
  "kernelspec": {
   "display_name": "Python 3 (ipykernel)",
   "language": "python",
   "name": "python3"
  },
  "language_info": {
   "codemirror_mode": {
    "name": "ipython",
    "version": 3
   },
   "file_extension": ".py",
   "mimetype": "text/x-python",
   "name": "python",
   "nbconvert_exporter": "python",
   "pygments_lexer": "ipython3",
   "version": "3.10.8"
  },
  "toc": {
   "base_numbering": 1,
   "nav_menu": {},
   "number_sections": true,
   "sideBar": true,
   "skip_h1_title": false,
   "title_cell": "Table of Contents",
   "title_sidebar": "Contents",
   "toc_cell": false,
   "toc_position": {},
   "toc_section_display": true,
   "toc_window_display": false
  },
  "varInspector": {
   "cols": {
    "lenName": 16,
    "lenType": 16,
    "lenVar": 40
   },
   "kernels_config": {
    "python": {
     "delete_cmd_postfix": "",
     "delete_cmd_prefix": "del ",
     "library": "var_list.py",
     "varRefreshCmd": "print(var_dic_list())"
    },
    "r": {
     "delete_cmd_postfix": ") ",
     "delete_cmd_prefix": "rm(",
     "library": "var_list.r",
     "varRefreshCmd": "cat(var_dic_list()) "
    }
   },
   "types_to_exclude": [
    "module",
    "function",
    "builtin_function_or_method",
    "instance",
    "_Feature"
   ],
   "window_display": false
  },
  "vscode": {
   "interpreter": {
    "hash": "31f2aee4e71d21fbe5cf8b01ff0e069b9275f58929596ceb00d14d90e3e16cd6"
   }
  }
 },
 "nbformat": 4,
 "nbformat_minor": 5
}
