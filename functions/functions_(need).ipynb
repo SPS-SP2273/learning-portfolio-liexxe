{
 "cells": [
  {
   "cell_type": "markdown",
   "id": "123456",
   "metadata": {},
   "source": [
    "<div style=\"text-align:left;font-size:2em\"><span style=\"font-weight:bolder;font-size:1.25em\">SP2273 | Learning Portfolio</span><br><br><span style=\"font-weight:bold;color:darkred\">Functions (Need)</span></div>"
   ]
  },
  {
   "cell_type": "markdown",
   "id": "c243945f",
   "metadata": {},
   "source": [
    "## 1 User defined functions"
   ]
  },
  {
   "cell_type": "markdown",
   "id": "5ba19353",
   "metadata": {},
   "source": [
    "### 1.1 Named functions that return"
   ]
  },
  {
   "cell_type": "code",
   "execution_count": 6,
   "id": "a50d3ef8",
   "metadata": {},
   "outputs": [],
   "source": [
    "def greeting(name): #function is greeting, accepts a single argument name\n",
    "    if name == 'Batman':\n",
    "        return 'Hello Batman! So, nice to meet you!'\n",
    "    else:\n",
    "        return f'Hello {name}!'"
   ]
  },
  {
   "cell_type": "code",
   "execution_count": 2,
   "id": "fe163d79",
   "metadata": {},
   "outputs": [
    {
     "data": {
      "text/plain": [
       "'Hello Super Man!'"
      ]
     },
     "execution_count": 2,
     "metadata": {},
     "output_type": "execute_result"
    }
   ],
   "source": [
    "greeting(\"Super Man\")"
   ]
  },
  {
   "cell_type": "code",
   "execution_count": 3,
   "id": "3fb98ab5",
   "metadata": {},
   "outputs": [
    {
     "data": {
      "text/plain": [
       "'Hello Super Man!'"
      ]
     },
     "execution_count": 3,
     "metadata": {},
     "output_type": "execute_result"
    }
   ],
   "source": [
    "greeting(name=\"Super Man\")"
   ]
  },
  {
   "cell_type": "code",
   "execution_count": 4,
   "id": "3fccaf46",
   "metadata": {},
   "outputs": [
    {
     "data": {
      "text/plain": [
       "'Hello Batman! So, nice to meet you!'"
      ]
     },
     "execution_count": 4,
     "metadata": {},
     "output_type": "execute_result"
    }
   ],
   "source": [
    "greeting(\"Batman\")"
   ]
  },
  {
   "cell_type": "code",
   "execution_count": 7,
   "id": "773add45",
   "metadata": {},
   "outputs": [
    {
     "name": "stdout",
     "output_type": "stream",
     "text": [
      "Hello Super Man!\n"
     ]
    }
   ],
   "source": [
    "greet=greeting(name='Super Man')\n",
    "print(greet)"
   ]
  },
  {
   "cell_type": "code",
   "execution_count": 8,
   "id": "8dc32c74",
   "metadata": {},
   "outputs": [
    {
     "name": "stdout",
     "output_type": "stream",
     "text": [
      "Hello Super Man!\n"
     ]
    }
   ],
   "source": [
    "print(greeting(name='Super Man'))"
   ]
  },
  {
   "cell_type": "code",
   "execution_count": 9,
   "id": "69bf9d19",
   "metadata": {},
   "outputs": [],
   "source": [
    "def basic_stats(numbers):\n",
    "    np_numbers=np.array(numbers)\n",
    "    return np_numbers.min(), np_numbers.max(), np_numbers.mean()"
   ]
  },
  {
   "cell_type": "code",
   "execution_count": 10,
   "id": "54ada49a",
   "metadata": {},
   "outputs": [],
   "source": [
    "list_min, list_max, list_mean = basic_stats([1, 2, 3, 4, 5])"
   ]
  },
  {
   "cell_type": "markdown",
   "id": "44914efe",
   "metadata": {},
   "source": [
    "### 1.2 Named functions that don’t return"
   ]
  },
  {
   "cell_type": "code",
   "execution_count": 12,
   "id": "494fd868",
   "metadata": {},
   "outputs": [
    {
     "name": "stdout",
     "output_type": "stream",
     "text": [
      "hello\n"
     ]
    }
   ],
   "source": [
    "print('hello')"
   ]
  },
  {
   "cell_type": "markdown",
   "id": "8719ff9d",
   "metadata": {},
   "source": [
    "### 1.3 Anonymous/lambda functions"
   ]
  },
  {
   "cell_type": "code",
   "execution_count": 15,
   "id": "8edc0ad4",
   "metadata": {},
   "outputs": [],
   "source": [
    "my_short_function = lambda name: f\"Hello {name}!\"\n",
    "#lambda returns value of the last statement"
   ]
  },
  {
   "cell_type": "code",
   "execution_count": 14,
   "id": "3e629120",
   "metadata": {},
   "outputs": [
    {
     "data": {
      "text/plain": [
       "'Hello Super Man!'"
      ]
     },
     "execution_count": 14,
     "metadata": {},
     "output_type": "execute_result"
    }
   ],
   "source": [
    "my_short_function(name=\"Super Man\")"
   ]
  },
  {
   "cell_type": "code",
   "execution_count": 16,
   "id": "050e7e93",
   "metadata": {},
   "outputs": [
    {
     "data": {
      "text/plain": [
       "[[0, 9, 19],\n",
       " [1, 8, 18],\n",
       " [2, 7, 17],\n",
       " [3, 6, 16],\n",
       " [4, 5, 15],\n",
       " [5, 4, 14],\n",
       " [6, 3, 13],\n",
       " [7, 2, 12],\n",
       " [8, 1, 11],\n",
       " [9, 0, 10]]"
      ]
     },
     "execution_count": 16,
     "metadata": {},
     "output_type": "execute_result"
    }
   ],
   "source": [
    "numbers=[[9, 0, 10],\n",
    "         [8, 1, 11],\n",
    "         [7, 2, 12],\n",
    "         [6, 3, 13],\n",
    "         [5, 4, 14],\n",
    "         [4, 5, 15],\n",
    "         [3, 6, 16],\n",
    "         [2, 7, 17],\n",
    "         [1, 8, 18],\n",
    "         [0, 9, 19]]\n",
    "\n",
    "sorted(numbers)                         # Sort by comparing the default key \n",
    "                                        # (i.e. the 1st element) "
   ]
  },
  {
   "cell_type": "code",
   "execution_count": 17,
   "id": "3e0137db",
   "metadata": {},
   "outputs": [
    {
     "data": {
      "text/plain": [
       "[[9, 0, 10],\n",
       " [8, 1, 11],\n",
       " [7, 2, 12],\n",
       " [6, 3, 13],\n",
       " [5, 4, 14],\n",
       " [4, 5, 15],\n",
       " [3, 6, 16],\n",
       " [2, 7, 17],\n",
       " [1, 8, 18],\n",
       " [0, 9, 19]]"
      ]
     },
     "execution_count": 17,
     "metadata": {},
     "output_type": "execute_result"
    }
   ],
   "source": [
    "sorted(numbers, key=lambda x: x[1])     # Sort by comparing a custom key\n",
    "                                        # that uses the 2nd element"
   ]
  },
  {
   "cell_type": "code",
   "execution_count": 18,
   "id": "aa28dbb8",
   "metadata": {},
   "outputs": [
    {
     "data": {
      "text/plain": [
       "[[9, 0, 10],\n",
       " [8, 1, 11],\n",
       " [7, 2, 12],\n",
       " [6, 3, 13],\n",
       " [5, 4, 14],\n",
       " [4, 5, 15],\n",
       " [3, 6, 16],\n",
       " [2, 7, 17],\n",
       " [1, 8, 18],\n",
       " [0, 9, 19]]"
      ]
     },
     "execution_count": 18,
     "metadata": {},
     "output_type": "execute_result"
    }
   ],
   "source": [
    "sorted(numbers, key=lambda x: sum(x))   # Sort by comparing a custom key\n",
    "                                        # that uses the sum of the elements"
   ]
  },
  {
   "cell_type": "markdown",
   "id": "be190b41",
   "metadata": {},
   "source": [
    "### 1.4 Optional arguments"
   ]
  },
  {
   "cell_type": "code",
   "execution_count": 19,
   "id": "5444a416",
   "metadata": {},
   "outputs": [],
   "source": [
    "def greeting(name='no one'):\n",
    "    if name == 'Batman':\n",
    "        return 'Hello Batman! So, nice to meet you!'\n",
    "    else:\n",
    "        return f'Hello {name}!'"
   ]
  },
  {
   "cell_type": "code",
   "execution_count": 20,
   "id": "77f173bf",
   "metadata": {},
   "outputs": [
    {
     "data": {
      "text/plain": [
       "'Hello no one!'"
      ]
     },
     "execution_count": 20,
     "metadata": {},
     "output_type": "execute_result"
    }
   ],
   "source": [
    "greeting()"
   ]
  },
  {
   "cell_type": "code",
   "execution_count": 21,
   "id": "d1f9a67b",
   "metadata": {},
   "outputs": [],
   "source": [
    "?print"
   ]
  },
  {
   "cell_type": "code",
   "execution_count": 22,
   "id": "530a5c9a",
   "metadata": {},
   "outputs": [
    {
     "name": "stdout",
     "output_type": "stream",
     "text": [
      "I am Batman!\n",
      "I---am---Batman!\n"
     ]
    }
   ],
   "source": [
    "print('I', 'am', 'Batman!')                 # Just for comparison\n",
    "#> I am Batman!\n",
    "print('I', 'am', 'Batman!', sep='---') #seperated by --- \n",
    "#> I---am---Batman!"
   ]
  },
  {
   "cell_type": "markdown",
   "id": "5c17109e",
   "metadata": {},
   "source": [
    "## 2 The importance of functions?"
   ]
  },
  {
   "cell_type": "markdown",
   "id": "4b37b3db",
   "metadata": {},
   "source": [
    "### 2.1 An argument for functions"
   ]
  },
  {
   "cell_type": "markdown",
   "id": "eea004d9",
   "metadata": {},
   "source": [
    "### 2.2 A word of caution"
   ]
  },
  {
   "cell_type": "markdown",
   "id": "0d4bbf1a",
   "metadata": {},
   "source": [
    "## Exercise 1 :  Do you know why?"
   ]
  },
  {
   "cell_type": "code",
   "execution_count": 23,
   "id": "d72515c5",
   "metadata": {},
   "outputs": [],
   "source": [
    "def greeting(name):\n",
    "    if name == 'Batman':\n",
    "        return 'Hello Batman! So, nice to meet you!'\n",
    "    return f'Hello {name}!'"
   ]
  },
  {
   "cell_type": "code",
   "execution_count": 25,
   "id": "04557436",
   "metadata": {},
   "outputs": [
    {
     "data": {
      "text/plain": [
       "'Hello Batman! So, nice to meet you!'"
      ]
     },
     "execution_count": 25,
     "metadata": {},
     "output_type": "execute_result"
    }
   ],
   "source": [
    "greeting('Batman')"
   ]
  },
  {
   "cell_type": "code",
   "execution_count": 24,
   "id": "3cb97cce",
   "metadata": {},
   "outputs": [
    {
     "data": {
      "text/plain": [
       "'Hello Superman!'"
      ]
     },
     "execution_count": 24,
     "metadata": {},
     "output_type": "execute_result"
    }
   ],
   "source": [
    "greeting('Superman')"
   ]
  },
  {
   "cell_type": "markdown",
   "id": "c140796f",
   "metadata": {},
   "source": [
    "Function requires an output. Using greeting('Batman') gives condition true and returns the next line to give the output 'Hello Batman! So, nice to meet you!'. Using greeting('Superman') gives condition false, next line does not run, return f'Hello {name}!' will run to give an output 'Hello {name}!'."
   ]
  },
  {
   "cell_type": "markdown",
   "id": "505069a7",
   "metadata": {},
   "source": [
    "## Exercise 2 :  Calculator functions"
   ]
  },
  {
   "cell_type": "code",
   "execution_count": 56,
   "id": "9b016a17",
   "metadata": {},
   "outputs": [],
   "source": [
    "def add(x,y):\n",
    "    return (x+y) #use return for output for functions,\n",
    "                 #print does not store values\n",
    "z=add(1,2)"
   ]
  },
  {
   "cell_type": "code",
   "execution_count": 57,
   "id": "5fe236ac",
   "metadata": {},
   "outputs": [
    {
     "name": "stdout",
     "output_type": "stream",
     "text": [
      "3\n"
     ]
    }
   ],
   "source": [
    "print(z)"
   ]
  },
  {
   "cell_type": "code",
   "execution_count": 61,
   "id": "2d621a12",
   "metadata": {},
   "outputs": [],
   "source": [
    "def subtract(x,y):\n",
    "    return (x-y)\n",
    "z=subtract(2,1)"
   ]
  },
  {
   "cell_type": "code",
   "execution_count": 62,
   "id": "5f1c06b3",
   "metadata": {},
   "outputs": [
    {
     "name": "stdout",
     "output_type": "stream",
     "text": [
      "1\n"
     ]
    }
   ],
   "source": [
    "print(z)"
   ]
  },
  {
   "cell_type": "code",
   "execution_count": 66,
   "id": "d7501efc",
   "metadata": {},
   "outputs": [],
   "source": [
    "def multiply(x,y):\n",
    "    return (x*y)\n",
    "z=multiply(2,2)"
   ]
  },
  {
   "cell_type": "code",
   "execution_count": 67,
   "id": "3144de29",
   "metadata": {},
   "outputs": [
    {
     "name": "stdout",
     "output_type": "stream",
     "text": [
      "4\n"
     ]
    }
   ],
   "source": [
    "print(z)"
   ]
  },
  {
   "cell_type": "code",
   "execution_count": 71,
   "id": "13c996ce",
   "metadata": {},
   "outputs": [],
   "source": [
    "def divide(x,y):\n",
    "    return (x/y)\n",
    "z=divide(1,3)"
   ]
  },
  {
   "cell_type": "code",
   "execution_count": 72,
   "id": "d7c85cba",
   "metadata": {},
   "outputs": [
    {
     "name": "stdout",
     "output_type": "stream",
     "text": [
      "0.3333333333333333\n"
     ]
    }
   ],
   "source": [
    "print(z)"
   ]
  },
  {
   "cell_type": "code",
   "execution_count": 25,
   "id": "93562ef9",
   "metadata": {},
   "outputs": [
    {
     "name": "stdout",
     "output_type": "stream",
     "text": [
      "admonish\n"
     ]
    },
    {
     "data": {
      "text/plain": [
       "3.0"
      ]
     },
     "execution_count": 25,
     "metadata": {},
     "output_type": "execute_result"
    }
   ],
   "source": [
    "def divide(x,y):\n",
    "    if np.any(y==0): #np.any() for at least one true value            #np.all() for all values are true\n",
    "        print(\"admonish\") #exit kills the kernel\n",
    "    else:\n",
    "        return (x/y)\n",
    "divide(3,0)\n",
    "divide(3,1)"
   ]
  },
  {
   "cell_type": "code",
   "execution_count": 20,
   "id": "64c8d044",
   "metadata": {},
   "outputs": [],
   "source": [
    "x=np.array([36, 34, 44, 76, 27])\n",
    "y=np.array([64, 66, 56, 24, 73])"
   ]
  },
  {
   "cell_type": "code",
   "execution_count": 74,
   "id": "2022e9d2",
   "metadata": {},
   "outputs": [
    {
     "data": {
      "text/plain": [
       "array([100, 100, 100, 100, 100])"
      ]
     },
     "execution_count": 74,
     "metadata": {},
     "output_type": "execute_result"
    }
   ],
   "source": [
    "add(x,y)"
   ]
  },
  {
   "cell_type": "code",
   "execution_count": 75,
   "id": "b7de2879",
   "metadata": {},
   "outputs": [
    {
     "data": {
      "text/plain": [
       "array([-28, -32, -12,  52, -46])"
      ]
     },
     "execution_count": 75,
     "metadata": {},
     "output_type": "execute_result"
    }
   ],
   "source": [
    "subtract(x,y)"
   ]
  },
  {
   "cell_type": "code",
   "execution_count": 76,
   "id": "ed0a799f",
   "metadata": {},
   "outputs": [
    {
     "data": {
      "text/plain": [
       "array([2304, 2244, 2464, 1824, 1971])"
      ]
     },
     "execution_count": 76,
     "metadata": {},
     "output_type": "execute_result"
    }
   ],
   "source": [
    "multiply(x,y)"
   ]
  },
  {
   "cell_type": "code",
   "execution_count": 77,
   "id": "464285c2",
   "metadata": {},
   "outputs": [
    {
     "data": {
      "text/plain": [
       "array([0.5625    , 0.51515152, 0.78571429, 3.16666667, 0.36986301])"
      ]
     },
     "execution_count": 77,
     "metadata": {},
     "output_type": "execute_result"
    }
   ],
   "source": [
    "divide(x,y)"
   ]
  },
  {
   "cell_type": "code",
   "execution_count": 28,
   "id": "33b76708",
   "metadata": {},
   "outputs": [],
   "source": [
    "##test\n",
    "y=np.array([0,0,0])\n",
    "x=np.array([1,1,1])"
   ]
  },
  {
   "cell_type": "code",
   "execution_count": 29,
   "id": "d3b73fd1",
   "metadata": {},
   "outputs": [
    {
     "name": "stdout",
     "output_type": "stream",
     "text": [
      "admonish\n"
     ]
    }
   ],
   "source": [
    "divide(x,y)"
   ]
  },
  {
   "cell_type": "code",
   "execution_count": 8,
   "id": "03e90d27",
   "metadata": {},
   "outputs": [
    {
     "data": {
      "text/plain": [
       "<function ndarray.any>"
      ]
     },
     "execution_count": 8,
     "metadata": {},
     "output_type": "execute_result"
    }
   ],
   "source": [
    "(y==0).any"
   ]
  },
  {
   "cell_type": "code",
   "execution_count": 9,
   "id": "b7df2f0c",
   "metadata": {
    "scrolled": true
   },
   "outputs": [
    {
     "data": {
      "text/plain": [
       "True"
      ]
     },
     "execution_count": 9,
     "metadata": {},
     "output_type": "execute_result"
    }
   ],
   "source": [
    "np.any(y==0)"
   ]
  },
  {
   "cell_type": "code",
   "execution_count": 10,
   "id": "7e5db32c",
   "metadata": {},
   "outputs": [
    {
     "data": {
      "text/plain": [
       "False"
      ]
     },
     "execution_count": 10,
     "metadata": {},
     "output_type": "execute_result"
    }
   ],
   "source": [
    "(y!=0).all()"
   ]
  },
  {
   "cell_type": "code",
   "execution_count": 30,
   "id": "c168b8d1",
   "metadata": {},
   "outputs": [
    {
     "data": {
      "text/plain": [
       "False"
      ]
     },
     "execution_count": 30,
     "metadata": {},
     "output_type": "execute_result"
    }
   ],
   "source": [
    "np.all(y!=0)"
   ]
  },
  {
   "cell_type": "code",
   "execution_count": 13,
   "id": "9bea1591",
   "metadata": {},
   "outputs": [],
   "source": [
    "y=np.array([1,1,1])"
   ]
  },
  {
   "cell_type": "code",
   "execution_count": 14,
   "id": "6c07afc6",
   "metadata": {},
   "outputs": [
    {
     "data": {
      "text/plain": [
       "True"
      ]
     },
     "execution_count": 14,
     "metadata": {},
     "output_type": "execute_result"
    }
   ],
   "source": [
    "(y==0).any"
   ]
  },
  {
   "cell_type": "code",
   "execution_count": 17,
   "id": "a781a863",
   "metadata": {},
   "outputs": [
    {
     "data": {
      "text/plain": [
       "False"
      ]
     },
     "execution_count": 17,
     "metadata": {},
     "output_type": "execute_result"
    }
   ],
   "source": [
    "np.any(y==0)"
   ]
  },
  {
   "cell_type": "code",
   "execution_count": 16,
   "id": "5c1f54b0",
   "metadata": {},
   "outputs": [
    {
     "data": {
      "text/plain": [
       "True"
      ]
     },
     "execution_count": 16,
     "metadata": {},
     "output_type": "execute_result"
    }
   ],
   "source": [
    "(y!=0).all()"
   ]
  },
  {
   "cell_type": "code",
   "execution_count": 15,
   "id": "f7d7bea4",
   "metadata": {},
   "outputs": [
    {
     "data": {
      "text/plain": [
       "True"
      ]
     },
     "execution_count": 15,
     "metadata": {},
     "output_type": "execute_result"
    }
   ],
   "source": [
    "np.all(y!=0)"
   ]
  },
  {
   "cell_type": "markdown",
   "id": "ae0f49a0",
   "metadata": {},
   "source": [
    "## Exercise 3 :  max_info() with NumPy"
   ]
  },
  {
   "cell_type": "code",
   "execution_count": 17,
   "id": "58a2000f",
   "metadata": {},
   "outputs": [],
   "source": [
    "#Answer\n",
    "def max_info(numbers):\n",
    "    return np.max(numbers), np.argmax(numbers)"
   ]
  },
  {
   "cell_type": "code",
   "execution_count": 18,
   "id": "c82b6108",
   "metadata": {},
   "outputs": [],
   "source": [
    "numbers = [40, 27, 83, 44, 74, 51, 76, 77, 10, 49]"
   ]
  },
  {
   "cell_type": "code",
   "execution_count": 19,
   "id": "6b72a3ed",
   "metadata": {},
   "outputs": [
    {
     "data": {
      "text/plain": [
       "(83, 2)"
      ]
     },
     "execution_count": 19,
     "metadata": {},
     "output_type": "execute_result"
    }
   ],
   "source": [
    "max_info(numbers)"
   ]
  },
  {
   "cell_type": "code",
   "execution_count": null,
   "id": "07f8e699",
   "metadata": {},
   "outputs": [],
   "source": [
    "#Other tries"
   ]
  },
  {
   "cell_type": "code",
   "execution_count": 20,
   "id": "cfde3b95",
   "metadata": {},
   "outputs": [],
   "source": [
    "def max_info(numbers):\n",
    "    numbers=sorted(numbers)\n",
    "    return numbers[-1]"
   ]
  },
  {
   "cell_type": "code",
   "execution_count": 41,
   "id": "1f1dbe2e",
   "metadata": {},
   "outputs": [
    {
     "data": {
      "text/plain": [
       "83"
      ]
     },
     "execution_count": 41,
     "metadata": {},
     "output_type": "execute_result"
    }
   ],
   "source": [
    "max_info(numbers)"
   ]
  },
  {
   "cell_type": "code",
   "execution_count": 64,
   "id": "3c5ea7f9",
   "metadata": {},
   "outputs": [],
   "source": [
    "len(numbers)\n",
    "index = [i for i in range(0,len(numbers))]"
   ]
  },
  {
   "cell_type": "code",
   "execution_count": 55,
   "id": "df82ce18",
   "metadata": {},
   "outputs": [
    {
     "name": "stdout",
     "output_type": "stream",
     "text": [
      "[1, 2, 3, 4, 5, 6, 7, 8, 9, 10]\n"
     ]
    }
   ],
   "source": [
    "print(index)"
   ]
  },
  {
   "cell_type": "code",
   "execution_count": 54,
   "id": "99fe9c43",
   "metadata": {},
   "outputs": [
    {
     "name": "stdout",
     "output_type": "stream",
     "text": [
      "[40, 27, 83, 44, 74, 51, 76, 77, 10, 49]\n"
     ]
    }
   ],
   "source": [
    "print(numbers)"
   ]
  },
  {
   "cell_type": "code",
   "execution_count": 57,
   "id": "42f745b3",
   "metadata": {},
   "outputs": [
    {
     "data": {
      "text/plain": [
       "2"
      ]
     },
     "execution_count": 57,
     "metadata": {},
     "output_type": "execute_result"
    }
   ],
   "source": [
    "numbers.index(83)"
   ]
  },
  {
   "cell_type": "code",
   "execution_count": 58,
   "id": "a933f821",
   "metadata": {},
   "outputs": [
    {
     "data": {
      "text/plain": [
       "<zip at 0x114e8c400>"
      ]
     },
     "execution_count": 58,
     "metadata": {},
     "output_type": "execute_result"
    }
   ],
   "source": [
    "zip(index,numbers)"
   ]
  },
  {
   "cell_type": "code",
   "execution_count": 66,
   "id": "5da56579",
   "metadata": {},
   "outputs": [
    {
     "name": "stdout",
     "output_type": "stream",
     "text": [
      "0 40\n",
      "1 27\n",
      "2 83\n",
      "3 44\n",
      "4 74\n",
      "5 51\n",
      "6 76\n",
      "7 77\n",
      "8 10\n",
      "9 49\n"
     ]
    }
   ],
   "source": [
    "index_number = 0\n",
    "biggest_number = 0\n",
    "for i,number in zip(index,numbers):\n",
    "    print (i,number)\n",
    "    if biggest_number<number:\n",
    "        biggest_number=number\n",
    "        index_number=i"
   ]
  },
  {
   "cell_type": "code",
   "execution_count": 67,
   "id": "c903e0ad",
   "metadata": {
    "scrolled": true
   },
   "outputs": [
    {
     "name": "stdout",
     "output_type": "stream",
     "text": [
      "83\n"
     ]
    }
   ],
   "source": [
    "print(biggest_number)"
   ]
  },
  {
   "cell_type": "code",
   "execution_count": 70,
   "id": "8087893b",
   "metadata": {
    "scrolled": true
   },
   "outputs": [
    {
     "name": "stdout",
     "output_type": "stream",
     "text": [
      "2\n"
     ]
    }
   ],
   "source": [
    "print(index_number)"
   ]
  },
  {
   "cell_type": "code",
   "execution_count": 2,
   "id": "70131be2",
   "metadata": {},
   "outputs": [],
   "source": [
    "def max_info(numbers):\n",
    "    return np.max(numbers)\n",
    "    np.argmax"
   ]
  },
  {
   "cell_type": "code",
   "execution_count": 9,
   "id": "f9964291",
   "metadata": {},
   "outputs": [],
   "source": [
    "numbers = [2,4,6,2,6,8]\n",
    "max_info(numbers)"
   ]
  },
  {
   "cell_type": "code",
   "execution_count": null,
   "id": "09bd3759",
   "metadata": {},
   "outputs": [],
   "source": []
  }
 ],
 "metadata": {
  "kernelspec": {
   "display_name": "Python 3 (ipykernel)",
   "language": "python",
   "name": "python3"
  },
  "language_info": {
   "codemirror_mode": {
    "name": "ipython",
    "version": 3
   },
   "file_extension": ".py",
   "mimetype": "text/x-python",
   "name": "python",
   "nbconvert_exporter": "python",
   "pygments_lexer": "ipython3",
   "version": "3.10.8"
  },
  "toc": {
   "base_numbering": 1,
   "nav_menu": {},
   "number_sections": true,
   "sideBar": true,
   "skip_h1_title": false,
   "title_cell": "Table of Contents",
   "title_sidebar": "Contents",
   "toc_cell": false,
   "toc_position": {},
   "toc_section_display": true,
   "toc_window_display": false
  },
  "varInspector": {
   "cols": {
    "lenName": 16,
    "lenType": 16,
    "lenVar": 40
   },
   "kernels_config": {
    "python": {
     "delete_cmd_postfix": "",
     "delete_cmd_prefix": "del ",
     "library": "var_list.py",
     "varRefreshCmd": "print(var_dic_list())"
    },
    "r": {
     "delete_cmd_postfix": ") ",
     "delete_cmd_prefix": "rm(",
     "library": "var_list.r",
     "varRefreshCmd": "cat(var_dic_list()) "
    }
   },
   "types_to_exclude": [
    "module",
    "function",
    "builtin_function_or_method",
    "instance",
    "_Feature"
   ],
   "window_display": false
  },
  "vscode": {
   "interpreter": {
    "hash": "31f2aee4e71d21fbe5cf8b01ff0e069b9275f58929596ceb00d14d90e3e16cd6"
   }
  }
 },
 "nbformat": 4,
 "nbformat_minor": 5
}
