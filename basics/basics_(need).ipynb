{
 "cells": [
  {
   "cell_type": "markdown",
   "id": "123456",
   "metadata": {},
   "source": [
    "<div style=\"text-align:left;font-size:2em\"><span style=\"font-weight:bolder;font-size:1.25em\">SP2273 | Learning Portfolio</span><br><br><span style=\"font-weight:bold;color:darkred\">Basics (Need)</span></div>"
   ]
  },
  {
   "cell_type": "markdown",
   "id": "6ac87d41",
   "metadata": {},
   "source": [
    "## 1 Some Python Basics"
   ]
  },
  {
   "cell_type": "markdown",
   "id": "abb836d4",
   "metadata": {},
   "source": [
    "### 1.1 Functions"
   ]
  },
  {
   "cell_type": "code",
   "execution_count": 4,
   "id": "dc211df9",
   "metadata": {},
   "outputs": [
    {
     "name": "stdout",
     "output_type": "stream",
     "text": [
      "hehehe\n"
     ]
    }
   ],
   "source": [
    "print('hehehe')"
   ]
  },
  {
   "cell_type": "markdown",
   "id": "2f8342e0",
   "metadata": {},
   "source": [
    "Parentheses = ( )"
   ]
  },
  {
   "cell_type": "markdown",
   "id": "268be15f",
   "metadata": {},
   "source": [
    "### 1.2 Python is interpreted"
   ]
  },
  {
   "cell_type": "code",
   "execution_count": 5,
   "id": "618e99cc",
   "metadata": {},
   "outputs": [
    {
     "name": "stdout",
     "output_type": "stream",
     "text": [
      "Hello World\n"
     ]
    }
   ],
   "source": [
    "print('Hello World')"
   ]
  },
  {
   "cell_type": "code",
   "execution_count": 6,
   "id": "265b24e2",
   "metadata": {},
   "outputs": [
    {
     "name": "stdout",
     "output_type": "stream",
     "text": [
      "Hello World again\n"
     ]
    }
   ],
   "source": [
    "print('Hello World again')"
   ]
  },
  {
   "cell_type": "markdown",
   "id": "003ecda4",
   "metadata": {},
   "source": [
    "### 1.3 Python is sensitive."
   ]
  },
  {
   "cell_type": "markdown",
   "id": "b0257a91",
   "metadata": {},
   "source": [
    "print not Print"
   ]
  },
  {
   "cell_type": "code",
   "execution_count": 7,
   "id": "42646404",
   "metadata": {},
   "outputs": [
    {
     "ename": "NameError",
     "evalue": "name 'Print' is not defined",
     "output_type": "error",
     "traceback": [
      "\u001b[0;31m---------------------------------------------------------------------------\u001b[0m",
      "\u001b[0;31mNameError\u001b[0m                                 Traceback (most recent call last)",
      "Cell \u001b[0;32mIn[7], line 1\u001b[0m\n\u001b[0;32m----> 1\u001b[0m \u001b[43mPrint\u001b[49m(\u001b[38;5;124m'\u001b[39m\u001b[38;5;124mHello World\u001b[39m\u001b[38;5;124m'\u001b[39m)\n",
      "\u001b[0;31mNameError\u001b[0m: name 'Print' is not defined"
     ]
    }
   ],
   "source": [
    "Print('Hello World')"
   ]
  },
  {
   "cell_type": "markdown",
   "id": "7d65e382",
   "metadata": {},
   "source": [
    "### 1.4 Comments"
   ]
  },
  {
   "cell_type": "code",
   "execution_count": 9,
   "id": "a43e2a8d",
   "metadata": {},
   "outputs": [
    {
     "name": "stdout",
     "output_type": "stream",
     "text": [
      "Hello World\n"
     ]
    }
   ],
   "source": [
    "print('Hello World') #will work"
   ]
  },
  {
   "cell_type": "code",
   "execution_count": 8,
   "id": "45475541",
   "metadata": {},
   "outputs": [
    {
     "ename": "NameError",
     "evalue": "name 'Print' is not defined",
     "output_type": "error",
     "traceback": [
      "\u001b[0;31m---------------------------------------------------------------------------\u001b[0m",
      "\u001b[0;31mNameError\u001b[0m                                 Traceback (most recent call last)",
      "Cell \u001b[0;32mIn[8], line 1\u001b[0m\n\u001b[0;32m----> 1\u001b[0m \u001b[43mPrint\u001b[49m (\u001b[38;5;124m'\u001b[39m\u001b[38;5;124mHello World\u001b[39m\u001b[38;5;124m'\u001b[39m) \u001b[38;5;66;03m#will not work\u001b[39;00m\n",
      "\u001b[0;31mNameError\u001b[0m: name 'Print' is not defined"
     ]
    }
   ],
   "source": [
    "Print ('Hello World') #will not work"
   ]
  },
  {
   "cell_type": "code",
   "execution_count": 11,
   "id": "167eb2f5",
   "metadata": {},
   "outputs": [
    {
     "data": {
      "text/plain": [
       "10"
      ]
     },
     "execution_count": 11,
     "metadata": {},
     "output_type": "execute_result"
    }
   ],
   "source": [
    "1+2+3+4 #math <3"
   ]
  },
  {
   "cell_type": "markdown",
   "id": "2cc355f6",
   "metadata": {},
   "source": [
    "### 1.5 = is not the same as =="
   ]
  },
  {
   "cell_type": "code",
   "execution_count": 13,
   "id": "247988f8",
   "metadata": {},
   "outputs": [],
   "source": [
    "# = to set something equal\n",
    "# == to check if something is equal"
   ]
  },
  {
   "cell_type": "code",
   "execution_count": 16,
   "id": "ef6a9b63",
   "metadata": {},
   "outputs": [
    {
     "ename": "NameError",
     "evalue": "name 'Batman' is not defined",
     "output_type": "error",
     "traceback": [
      "\u001b[0;31m---------------------------------------------------------------------------\u001b[0m",
      "\u001b[0;31mNameError\u001b[0m                                 Traceback (most recent call last)",
      "Cell \u001b[0;32mIn[16], line 1\u001b[0m\n\u001b[0;32m----> 1\u001b[0m name \u001b[38;5;241m=\u001b[39m \u001b[43mBatman\u001b[49m \u001b[38;5;66;03m# have to define with backticks (`)\u001b[39;00m\n",
      "\u001b[0;31mNameError\u001b[0m: name 'Batman' is not defined"
     ]
    }
   ],
   "source": [
    "name = Batman # have to define with ('')"
   ]
  },
  {
   "cell_type": "code",
   "execution_count": 20,
   "id": "ea07edbc",
   "metadata": {},
   "outputs": [],
   "source": [
    "name = 'Batman'"
   ]
  },
  {
   "cell_type": "code",
   "execution_count": 21,
   "id": "c9c04521",
   "metadata": {},
   "outputs": [
    {
     "data": {
      "text/plain": [
       "True"
      ]
     },
     "execution_count": 21,
     "metadata": {},
     "output_type": "execute_result"
    }
   ],
   "source": [
    "name == 'Batman'"
   ]
  },
  {
   "cell_type": "markdown",
   "id": "d473c8f3",
   "metadata": {},
   "source": [
    "### 1.6 Use if to make decisions"
   ]
  },
  {
   "cell_type": "code",
   "execution_count": 27,
   "id": "f660a55c",
   "metadata": {},
   "outputs": [
    {
     "name": "stdout",
     "output_type": "stream",
     "text": [
      "Hello Hero|Batman!\n"
     ]
    }
   ],
   "source": [
    "name = 'Batman'\n",
    "if name == 'Batman':\n",
    "    print('Hello Hero|Batman!')\n",
    "else:\n",
    "    print('Hello World!') \n",
    "#note the use of : and indentations (spaces/tabs)"
   ]
  },
  {
   "cell_type": "markdown",
   "id": "1189697d",
   "metadata": {},
   "source": [
    "### 1.7 Indentations (spaces) are sooo IMPORTANT!"
   ]
  },
  {
   "cell_type": "code",
   "execution_count": 24,
   "id": "f7c7a866",
   "metadata": {},
   "outputs": [
    {
     "name": "stdout",
     "output_type": "stream",
     "text": [
      "10\n"
     ]
    }
   ],
   "source": [
    "x=10\n",
    "print(x)"
   ]
  },
  {
   "cell_type": "code",
   "execution_count": 29,
   "id": "9453de83",
   "metadata": {},
   "outputs": [
    {
     "ename": "IndentationError",
     "evalue": "unexpected indent (2859545721.py, line 2)",
     "output_type": "error",
     "traceback": [
      "\u001b[0;36m  Cell \u001b[0;32mIn[29], line 2\u001b[0;36m\u001b[0m\n\u001b[0;31m    print(x) #indentations will not work here, is used for True and False blocks\u001b[0m\n\u001b[0m    ^\u001b[0m\n\u001b[0;31mIndentationError\u001b[0m\u001b[0;31m:\u001b[0m unexpected indent\n"
     ]
    }
   ],
   "source": [
    "x=10\n",
    "    print(x) #indentations will not work here, is used for True and False blocks"
   ]
  },
  {
   "cell_type": "markdown",
   "id": "7f5a081c",
   "metadata": {},
   "source": [
    "### 1.8 ‘age’ is English, age is a variable."
   ]
  },
  {
   "cell_type": "code",
   "execution_count": 41,
   "id": "a57cdf8b",
   "metadata": {},
   "outputs": [
    {
     "name": "stdout",
     "output_type": "stream",
     "text": [
      "24\n"
     ]
    }
   ],
   "source": [
    "student_age = 24\n",
    "print(student_age) # print value, require to be in the same block of code"
   ]
  },
  {
   "cell_type": "code",
   "execution_count": 40,
   "id": "b44cff46",
   "metadata": {},
   "outputs": [
    {
     "name": "stdout",
     "output_type": "stream",
     "text": [
      "student_age\n"
     ]
    }
   ],
   "source": [
    "print ('student_age') # print word"
   ]
  },
  {
   "cell_type": "code",
   "execution_count": 45,
   "id": "cce1edba",
   "metadata": {},
   "outputs": [
    {
     "name": "stdout",
     "output_type": "stream",
     "text": [
      "24\n"
     ]
    }
   ],
   "source": [
    "# student age = 24\n",
    "print(student_age)"
   ]
  },
  {
   "cell_type": "code",
   "execution_count": 46,
   "id": "c99d3cc4",
   "metadata": {},
   "outputs": [],
   "source": [
    "# can use either '' or \"\", but good to be consistent"
   ]
  },
  {
   "cell_type": "code",
   "execution_count": 47,
   "id": "0a32068f",
   "metadata": {},
   "outputs": [
    {
     "name": "stdout",
     "output_type": "stream",
     "text": [
      "You're twenty years old\n"
     ]
    }
   ],
   "source": [
    "print(\"You're twenty years old\")"
   ]
  },
  {
   "cell_type": "markdown",
   "id": "dc6a67c4",
   "metadata": {},
   "source": [
    "### 1.9 Escape sequences"
   ]
  },
  {
   "cell_type": "markdown",
   "id": "d31fa4aa",
   "metadata": {},
   "source": [
    "| Escape sequences    |  Meaning   |\n",
    "| :--- | :--: |\n",
    "| `\\'`   |  Single quote  |\n",
    "| `\\''`   |  Backslash  |\n",
    "| \\n   |  Newline  |\n",
    "| \\t   |  Horizontal tab  |"
   ]
  },
  {
   "cell_type": "code",
   "execution_count": 54,
   "id": "a41e5390",
   "metadata": {},
   "outputs": [
    {
     "name": "stdout",
     "output_type": "stream",
     "text": [
      "You're twenty years old\n"
     ]
    }
   ],
   "source": [
    "print('You\\'re twenty years old')"
   ]
  },
  {
   "cell_type": "code",
   "execution_count": 55,
   "id": "7899d978",
   "metadata": {},
   "outputs": [
    {
     "name": "stdout",
     "output_type": "stream",
     "text": [
      "A\\B\\C\n"
     ]
    }
   ],
   "source": [
    "print('A\\\\B\\\\C')"
   ]
  },
  {
   "cell_type": "code",
   "execution_count": 56,
   "id": "ac7d71a1",
   "metadata": {},
   "outputs": [
    {
     "name": "stdout",
     "output_type": "stream",
     "text": [
      "A\n",
      "B\n",
      "C\n"
     ]
    }
   ],
   "source": [
    "print('A\\nB\\nC')"
   ]
  },
  {
   "cell_type": "code",
   "execution_count": 57,
   "id": "026bb387",
   "metadata": {},
   "outputs": [
    {
     "name": "stdout",
     "output_type": "stream",
     "text": [
      "A\tB\tC\n"
     ]
    }
   ],
   "source": [
    "print('A\\tB\\tC')"
   ]
  },
  {
   "cell_type": "markdown",
   "id": "bc18a88e",
   "metadata": {},
   "source": [
    "### 1.10 Brackets"
   ]
  },
  {
   "cell_type": "code",
   "execution_count": 60,
   "id": "285b1f71",
   "metadata": {},
   "outputs": [
    {
     "name": "stdout",
     "output_type": "stream",
     "text": [
      "Hello\n"
     ]
    }
   ],
   "source": [
    "# () for function\n",
    "print('Hello')"
   ]
  },
  {
   "cell_type": "code",
   "execution_count": 61,
   "id": "e8ea2c25",
   "metadata": {},
   "outputs": [
    {
     "data": {
      "text/plain": [
       "15"
      ]
     },
     "execution_count": 61,
     "metadata": {},
     "output_type": "execute_result"
    }
   ],
   "source": [
    "# () for mathmatics\n",
    "(1+2)*5"
   ]
  },
  {
   "cell_type": "code",
   "execution_count": 70,
   "id": "ad55ab7b",
   "metadata": {},
   "outputs": [
    {
     "name": "stdout",
     "output_type": "stream",
     "text": [
      "[[1, 'A'], [2, 'B'], [3, 'C'], [4, 'D'], [5, 'E']]\n"
     ]
    }
   ],
   "source": [
    "# [] for lists of data\n",
    "python_list = [1,2,3,4,5]   # A 1D list\n",
    "\n",
    "python_list_2 = [[1, \"A\"],  # A 2D list\n",
    "             [2, \"B\"],\n",
    "             [3, \"C\"],\n",
    "             [4, \"D\"],\n",
    "             [5, \"E\"]]\n",
    "\n",
    "print(python_list_2)"
   ]
  },
  {
   "cell_type": "code",
   "execution_count": 74,
   "id": "fc29be00",
   "metadata": {},
   "outputs": [
    {
     "name": "stdout",
     "output_type": "stream",
     "text": [
      "{'Names': 'Batman', 'Real Name': 'Bruce Wayne', 'Age': 55, 'Affiliation': 'Justice League', 'Universe': 'DC'}\n"
     ]
    }
   ],
   "source": [
    "# {} to store data key --> value\n",
    "personal_info = {\n",
    "    'Names': 'Batman',\n",
    "    'Real Name': 'Bruce Wayne',\n",
    "    'Age': 55,\n",
    "    'Affiliation': 'Justice League',\n",
    "    'Universe': 'DC'\n",
    "}\n",
    "print(personal_info)"
   ]
  },
  {
   "cell_type": "code",
   "execution_count": 73,
   "id": "0037ea47",
   "metadata": {},
   "outputs": [
    {
     "name": "stdout",
     "output_type": "stream",
     "text": [
      "Bruce Wayne\n"
     ]
    }
   ],
   "source": [
    "print(personal_info['Real Name'])"
   ]
  },
  {
   "cell_type": "code",
   "execution_count": 75,
   "id": "df808a4a",
   "metadata": {},
   "outputs": [],
   "source": [
    "# Esc to select box (not typing)\n",
    "# B to add cell above\n",
    "# A to add cell below \n",
    "# DD to delete cell"
   ]
  },
  {
   "cell_type": "markdown",
   "id": "6b12bab4",
   "metadata": {},
   "source": [
    "## 2 Giving Python superpowers"
   ]
  },
  {
   "cell_type": "markdown",
   "id": "98bed492",
   "metadata": {},
   "source": [
    "### 2.1 Packages"
   ]
  },
  {
   "cell_type": "markdown",
   "id": "1143e1c4",
   "metadata": {},
   "source": [
    "$$\\dfrac{1*((2-3)+4)^5}{6}$$"
   ]
  },
  {
   "cell_type": "code",
   "execution_count": 78,
   "id": "538ca1cb",
   "metadata": {},
   "outputs": [
    {
     "data": {
      "text/plain": [
       "40.5"
      ]
     },
     "execution_count": 78,
     "metadata": {},
     "output_type": "execute_result"
    }
   ],
   "source": [
    "1 * ((2 - 3) + 4) ** 5 / 6 #** for to the power of"
   ]
  },
  {
   "cell_type": "code",
   "execution_count": 79,
   "id": "22fcdb89",
   "metadata": {},
   "outputs": [
    {
     "ename": "NameError",
     "evalue": "name 'sqrt' is not defined",
     "output_type": "error",
     "traceback": [
      "\u001b[0;31m---------------------------------------------------------------------------\u001b[0m",
      "\u001b[0;31mNameError\u001b[0m                                 Traceback (most recent call last)",
      "Cell \u001b[0;32mIn[79], line 1\u001b[0m\n\u001b[0;32m----> 1\u001b[0m \u001b[43msqrt\u001b[49m(\u001b[38;5;241m4\u001b[39m)\n",
      "\u001b[0;31mNameError\u001b[0m: name 'sqrt' is not defined"
     ]
    }
   ],
   "source": [
    "sqrt(4)"
   ]
  },
  {
   "cell_type": "code",
   "execution_count": 84,
   "id": "709c5c0d",
   "metadata": {},
   "outputs": [],
   "source": [
    "import math #importing math package"
   ]
  },
  {
   "cell_type": "code",
   "execution_count": 82,
   "id": "4633e90a",
   "metadata": {},
   "outputs": [
    {
     "data": {
      "text/plain": [
       "2.0"
      ]
     },
     "execution_count": 82,
     "metadata": {},
     "output_type": "execute_result"
    }
   ],
   "source": [
    "math.sqrt(4)"
   ]
  },
  {
   "cell_type": "code",
   "execution_count": 86,
   "id": "1807b7dd",
   "metadata": {},
   "outputs": [],
   "source": [
    "import numpy as np #importing Numpy and giving it an alias np (short name)"
   ]
  },
  {
   "cell_type": "code",
   "execution_count": 87,
   "id": "98cd03ce",
   "metadata": {},
   "outputs": [
    {
     "data": {
      "text/plain": [
       "2.0"
      ]
     },
     "execution_count": 87,
     "metadata": {},
     "output_type": "execute_result"
    }
   ],
   "source": [
    "np.sqrt(4)"
   ]
  },
  {
   "cell_type": "code",
   "execution_count": 88,
   "id": "7564cb3e",
   "metadata": {},
   "outputs": [
    {
     "data": {
      "text/plain": [
       "array([2., 3., 4.])"
      ]
     },
     "execution_count": 88,
     "metadata": {},
     "output_type": "execute_result"
    }
   ],
   "source": [
    "np.sqrt([4,9,16])"
   ]
  },
  {
   "cell_type": "markdown",
   "id": "ed167686",
   "metadata": {},
   "source": [
    "### 2.2 The dot (.)"
   ]
  },
  {
   "cell_type": "code",
   "execution_count": 89,
   "id": "22895f0e",
   "metadata": {},
   "outputs": [
    {
     "data": {
      "text/plain": [
       "2.0"
      ]
     },
     "execution_count": 89,
     "metadata": {},
     "output_type": "execute_result"
    }
   ],
   "source": [
    "# . to indicate ownership\n",
    "math.sqrt(4)\n",
    "np.sqrt(4)"
   ]
  },
  {
   "cell_type": "code",
   "execution_count": 91,
   "id": "ce0f6c13",
   "metadata": {},
   "outputs": [
    {
     "data": {
      "text/plain": [
       "['I', 'am', 'Batman']"
      ]
     },
     "execution_count": 91,
     "metadata": {},
     "output_type": "execute_result"
    }
   ],
   "source": [
    "\"I am Batman\".split()"
   ]
  },
  {
   "cell_type": "code",
   "execution_count": 99,
   "id": "6bae30b2",
   "metadata": {},
   "outputs": [
    {
     "ename": "SyntaxError",
     "evalue": "invalid decimal literal (3080927244.py, line 1)",
     "output_type": "error",
     "traceback": [
      "\u001b[0;36m  Cell \u001b[0;32mIn[99], line 1\u001b[0;36m\u001b[0m\n\u001b[0;31m    1234.split() # will not work for numbers, can split many ways\u001b[0m\n\u001b[0m        ^\u001b[0m\n\u001b[0;31mSyntaxError\u001b[0m\u001b[0;31m:\u001b[0m invalid decimal literal\n"
     ]
    }
   ],
   "source": [
    "1234.split() # will not work for numbers, can split many ways"
   ]
  },
  {
   "cell_type": "markdown",
   "id": "93d1cc32",
   "metadata": {},
   "source": [
    "## Exercise 1 :  Total recall?"
   ]
  },
  {
   "cell_type": "markdown",
   "id": "e9d268ae",
   "metadata": {},
   "source": [
    "- `print( )` function, any functions is followed by parentheses **( )**\n",
    "- python is case sensitive, `Print()` will not work\n",
    "- `#` for comments \n",
    "- ***`=` not equal `==`**\n",
    "    - `=` is to **set**, `==` is a question used to check **T or F**\n",
    "- _if, else requires `:` and indentations for the if/else statements_\n",
    "- functions with indentations will not work\n",
    "- ability to store value to a variable\n",
    "- _escape sequences`\\'` for single quote,`\\\\` for backslash,_`\\n` for newline,`\\t` _for tab, used in between characters_\n",
    "- _differences in brackets `(for functions/math)`,`[for lists of data]`,`{to store data in a dictionary}`_\n",
    "- use of packages through `import package`\n",
    "- dot used to give ownership, `split( )` function invalid for numbers\n"
   ]
  },
  {
   "cell_type": "markdown",
   "id": "0527c8c6",
   "metadata": {},
   "source": [
    "## Exercise 2 :  Debug me"
   ]
  },
  {
   "cell_type": "code",
   "execution_count": null,
   "id": "9769d22a",
   "metadata": {},
   "outputs": [],
   "source": [
    "#Question\n",
    "x, y = 3, 4\n",
    "        z = sqrt(x*2 + y**2)\n",
    "    Print(x, y, z)"
   ]
  },
  {
   "cell_type": "code",
   "execution_count": 125,
   "id": "da77d178",
   "metadata": {},
   "outputs": [
    {
     "name": "stdout",
     "output_type": "stream",
     "text": [
      "3 4 5.0\n"
     ]
    }
   ],
   "source": [
    "x = 3\n",
    "y = 4 #define x and y seperately\n",
    "\n",
    "z = math.sqrt(x*x+y*y) #math.sqrt function\n",
    "                       #x*x, y*y; NOT x^2, y^2\n",
    "print(x, y, z) #case sensitive"
   ]
  },
  {
   "cell_type": "markdown",
   "id": "2c553dbc",
   "metadata": {},
   "source": [
    "## Exercise 3 :  In your own words"
   ]
  },
  {
   "cell_type": "markdown",
   "id": "82d236d9",
   "metadata": {},
   "source": [
    "|#|Term|Description|\n",
    "|:-|:--:|:--|\n",
    "|1|Function|Is followed by parentheses `()`; to allow python to run a task, given the data in `()`\n",
    "|2|Arguments|Data in the `()`; functions may or may not process arguments|\n",
    "|3|Comments|#; can write anything to keep track/ understand the code; will not be processed\n",
    "|4|Indentations|Tab button; to define if/else statements; will not work with functions|\n",
    "|5|Packages|Downloadable using `import packages` to use different functions|\n",
    "|6|Dot.|Give ownership to a function|\n"
   ]
  },
  {
   "cell_type": "markdown",
   "id": "40737daf",
   "metadata": {},
   "source": [
    "## Exercise 4 :  More than one way to divide"
   ]
  },
  {
   "cell_type": "markdown",
   "id": "203ec705",
   "metadata": {},
   "source": [
    "### /"
   ]
  },
  {
   "cell_type": "code",
   "execution_count": 161,
   "id": "90032950",
   "metadata": {},
   "outputs": [
    {
     "data": {
      "text/plain": [
       "2.5"
      ]
     },
     "execution_count": 161,
     "metadata": {},
     "output_type": "execute_result"
    }
   ],
   "source": [
    "5/2 # Divides mathematically, rounded to nearest one decimal place\n",
    "    # / is a division"
   ]
  },
  {
   "cell_type": "code",
   "execution_count": 151,
   "id": "b293a3d1",
   "metadata": {},
   "outputs": [
    {
     "data": {
      "text/plain": [
       "3.0"
      ]
     },
     "execution_count": 151,
     "metadata": {},
     "output_type": "execute_result"
    }
   ],
   "source": [
    "3/1"
   ]
  },
  {
   "cell_type": "markdown",
   "id": "94edc9bc",
   "metadata": {},
   "source": [
    "### //"
   ]
  },
  {
   "cell_type": "code",
   "execution_count": 152,
   "id": "35a0dc28",
   "metadata": {},
   "outputs": [
    {
     "data": {
      "text/plain": [
       "2"
      ]
     },
     "execution_count": 152,
     "metadata": {},
     "output_type": "execute_result"
    }
   ],
   "source": [
    "5//2 # Divides mathematically, rounded to nearest whole number if number used are whole numbers too, else one decimal place"
   ]
  },
  {
   "cell_type": "code",
   "execution_count": 153,
   "id": "0ccc6f37",
   "metadata": {},
   "outputs": [
    {
     "data": {
      "text/plain": [
       "3"
      ]
     },
     "execution_count": 153,
     "metadata": {},
     "output_type": "execute_result"
    }
   ],
   "source": [
    "3//1"
   ]
  },
  {
   "cell_type": "code",
   "execution_count": 154,
   "id": "42138bf4",
   "metadata": {},
   "outputs": [
    {
     "data": {
      "text/plain": [
       "3.0"
      ]
     },
     "execution_count": 154,
     "metadata": {},
     "output_type": "execute_result"
    }
   ],
   "source": [
    "3//1.0 # // is called a floor division"
   ]
  },
  {
   "cell_type": "markdown",
   "id": "0d3eb911",
   "metadata": {},
   "source": [
    "### %"
   ]
  },
  {
   "cell_type": "code",
   "execution_count": 157,
   "id": "23f2f0e0",
   "metadata": {},
   "outputs": [
    {
     "data": {
      "text/plain": [
       "1"
      ]
     },
     "execution_count": 157,
     "metadata": {},
     "output_type": "execute_result"
    }
   ],
   "source": [
    "5%2 # Gives the remainder after division\n",
    "    # 5/2=2+Remainder 1\n",
    "    # % is called a Modulo Operator"
   ]
  }
 ],
 "metadata": {
  "kernelspec": {
   "display_name": "Python 3 (ipykernel)",
   "language": "python",
   "name": "python3"
  },
  "language_info": {
   "codemirror_mode": {
    "name": "ipython",
    "version": 3
   },
   "file_extension": ".py",
   "mimetype": "text/x-python",
   "name": "python",
   "nbconvert_exporter": "python",
   "pygments_lexer": "ipython3",
   "version": "3.10.8"
  },
  "toc": {
   "base_numbering": 1,
   "nav_menu": {},
   "number_sections": true,
   "sideBar": true,
   "skip_h1_title": false,
   "title_cell": "Table of Contents",
   "title_sidebar": "Contents",
   "toc_cell": false,
   "toc_position": {},
   "toc_section_display": true,
   "toc_window_display": false
  },
  "varInspector": {
   "cols": {
    "lenName": 16,
    "lenType": 16,
    "lenVar": 40
   },
   "kernels_config": {
    "python": {
     "delete_cmd_postfix": "",
     "delete_cmd_prefix": "del ",
     "library": "var_list.py",
     "varRefreshCmd": "print(var_dic_list())"
    },
    "r": {
     "delete_cmd_postfix": ") ",
     "delete_cmd_prefix": "rm(",
     "library": "var_list.r",
     "varRefreshCmd": "cat(var_dic_list()) "
    }
   },
   "types_to_exclude": [
    "module",
    "function",
    "builtin_function_or_method",
    "instance",
    "_Feature"
   ],
   "window_display": false
  },
  "vscode": {
   "interpreter": {
    "hash": "31f2aee4e71d21fbe5cf8b01ff0e069b9275f58929596ceb00d14d90e3e16cd6"
   }
  }
 },
 "nbformat": 4,
 "nbformat_minor": 5
}
