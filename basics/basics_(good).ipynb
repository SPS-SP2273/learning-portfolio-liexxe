{
 "cells": [
  {
   "cell_type": "markdown",
   "id": "123456",
   "metadata": {},
   "source": [
    "<div style=\"text-align:left;font-size:2em\"><span style=\"font-weight:bolder;font-size:1.25em\">SP2273 | Learning Portfolio</span><br><br><span style=\"font-weight:bold;color:darkred\">Basics (Good)</span></div>"
   ]
  },
  {
   "cell_type": "markdown",
   "id": "f33f83d7",
   "metadata": {},
   "source": [
    "## 1 More Python Basics"
   ]
  },
  {
   "cell_type": "markdown",
   "id": "341231d5",
   "metadata": {},
   "source": [
    "### 1.1 Computers read = from Right to Left!"
   ]
  },
  {
   "cell_type": "code",
   "execution_count": 1,
   "id": "b036cd63",
   "metadata": {},
   "outputs": [
    {
     "name": "stdout",
     "output_type": "stream",
     "text": [
      "42\n"
     ]
    }
   ],
   "source": [
    "x=40\n",
    "y=x+2\n",
    "y\n",
    "print(y)"
   ]
  },
  {
   "cell_type": "code",
   "execution_count": 2,
   "id": "9b9246fc",
   "metadata": {},
   "outputs": [
    {
     "data": {
      "text/plain": [
       "10"
      ]
     },
     "execution_count": 2,
     "metadata": {},
     "output_type": "execute_result"
    }
   ],
   "source": [
    "x=y=10\n",
    "x\n",
    "y"
   ]
  },
  {
   "cell_type": "markdown",
   "id": "148820bc",
   "metadata": {},
   "source": [
    "### 1.2 Shorter and cleaner"
   ]
  },
  {
   "cell_type": "code",
   "execution_count": 3,
   "id": "32839c9e",
   "metadata": {},
   "outputs": [
    {
     "data": {
      "text/plain": [
       "42"
      ]
     },
     "execution_count": 3,
     "metadata": {},
     "output_type": "execute_result"
    }
   ],
   "source": [
    "y=40\n",
    "y=y+2\n",
    "y"
   ]
  },
  {
   "cell_type": "code",
   "execution_count": 4,
   "id": "2e37d293",
   "metadata": {},
   "outputs": [
    {
     "data": {
      "text/plain": [
       "42"
      ]
     },
     "execution_count": 4,
     "metadata": {},
     "output_type": "execute_result"
    }
   ],
   "source": [
    "#Addition\n",
    "y=40\n",
    "y+=2 #same as y=y+2\n",
    "y"
   ]
  },
  {
   "cell_type": "code",
   "execution_count": 5,
   "id": "5fdd318d",
   "metadata": {},
   "outputs": [
    {
     "data": {
      "text/plain": [
       "38"
      ]
     },
     "execution_count": 5,
     "metadata": {},
     "output_type": "execute_result"
    }
   ],
   "source": [
    "#Subtraction\n",
    "y=40\n",
    "y-=2 #same as y=y-2\n",
    "y"
   ]
  },
  {
   "cell_type": "code",
   "execution_count": 6,
   "id": "0b6b2cdc",
   "metadata": {},
   "outputs": [
    {
     "data": {
      "text/plain": [
       "20.0"
      ]
     },
     "execution_count": 6,
     "metadata": {},
     "output_type": "execute_result"
    }
   ],
   "source": [
    "#Division\n",
    "y=40\n",
    "y/=2 #same as y=y/2\n",
    "y"
   ]
  },
  {
   "cell_type": "code",
   "execution_count": 7,
   "id": "5174f2ba",
   "metadata": {},
   "outputs": [
    {
     "data": {
      "text/plain": [
       "80"
      ]
     },
     "execution_count": 7,
     "metadata": {},
     "output_type": "execute_result"
    }
   ],
   "source": [
    "#Multiplication\n",
    "y=40\n",
    "y*=2 #same as y=y*2\n",
    "y"
   ]
  },
  {
   "cell_type": "code",
   "execution_count": 8,
   "id": "d9fa8b99",
   "metadata": {},
   "outputs": [],
   "source": [
    "#Use <+-/*>="
   ]
  },
  {
   "cell_type": "markdown",
   "id": "fa52c4ed",
   "metadata": {},
   "source": [
    "### 1.3 Asking questions"
   ]
  },
  {
   "cell_type": "code",
   "execution_count": 9,
   "id": "50638f33",
   "metadata": {},
   "outputs": [],
   "source": [
    "fruits=[\"apple\",\"banana\",\"pineapple\",\"jackfruit\"]\n",
    "vegetables=[\"celery\",\"potato\",\"broccoli\",\"kale\"]"
   ]
  },
  {
   "cell_type": "code",
   "execution_count": 10,
   "id": "c331a281",
   "metadata": {},
   "outputs": [
    {
     "data": {
      "text/plain": [
       "True"
      ]
     },
     "execution_count": 10,
     "metadata": {},
     "output_type": "execute_result"
    }
   ],
   "source": [
    "\"apple\" in fruits # <in>"
   ]
  },
  {
   "cell_type": "code",
   "execution_count": 11,
   "id": "0028766f",
   "metadata": {},
   "outputs": [
    {
     "data": {
      "text/plain": [
       "False"
      ]
     },
     "execution_count": 11,
     "metadata": {},
     "output_type": "execute_result"
    }
   ],
   "source": [
    "\"peach\" in fruits"
   ]
  },
  {
   "cell_type": "code",
   "execution_count": 12,
   "id": "1f329e73",
   "metadata": {},
   "outputs": [
    {
     "data": {
      "text/plain": [
       "True"
      ]
     },
     "execution_count": 12,
     "metadata": {},
     "output_type": "execute_result"
    }
   ],
   "source": [
    "\"peach\" not in fruits # <not in> = opposite"
   ]
  },
  {
   "cell_type": "code",
   "execution_count": 13,
   "id": "1509565c",
   "metadata": {},
   "outputs": [
    {
     "data": {
      "text/plain": [
       "True"
      ]
     },
     "execution_count": 13,
     "metadata": {},
     "output_type": "execute_result"
    }
   ],
   "source": [
    "(\"apple\" in fruits) and (\"celery\" in vegetables) # <and> = inclusive of"
   ]
  },
  {
   "cell_type": "code",
   "execution_count": 14,
   "id": "8365f08a",
   "metadata": {},
   "outputs": [
    {
     "data": {
      "text/plain": [
       "True"
      ]
     },
     "execution_count": 14,
     "metadata": {},
     "output_type": "execute_result"
    }
   ],
   "source": [
    "(\"apple\" in fruits) or (\"celery\" in vegetables) # <or> = either true"
   ]
  },
  {
   "cell_type": "markdown",
   "id": "84d89dd0",
   "metadata": {},
   "source": [
    "|Question/ Condition|Math Symbol|Python Symbols|\n",
    "|:-|:-:|-:|\n",
    "|Equals|=|==|\n",
    "|Not equal|≠|!=|\n",
    "|Less than|<|<|\n",
    "|Greater than|>|>|\n",
    "|Less than or equal|≤|<=|\n",
    "|Greater than or equal|≥|>=|"
   ]
  },
  {
   "cell_type": "code",
   "execution_count": 15,
   "id": "e09f7fdb",
   "metadata": {},
   "outputs": [],
   "source": [
    "#Python only compares things of similar types e.g. numbers w numbers, english w english"
   ]
  },
  {
   "cell_type": "code",
   "execution_count": 16,
   "id": "80271922",
   "metadata": {},
   "outputs": [
    {
     "ename": "TypeError",
     "evalue": "'>' not supported between instances of 'int' and 'str'",
     "output_type": "error",
     "traceback": [
      "\u001b[0;31m---------------------------------------------------------------------------\u001b[0m",
      "\u001b[0;31mTypeError\u001b[0m                                 Traceback (most recent call last)",
      "Cell \u001b[0;32mIn[16], line 2\u001b[0m\n\u001b[1;32m      1\u001b[0m \u001b[38;5;66;03m#Python cannot compare 3 and apple, unless the 3 is \"3\" --> signals english\u001b[39;00m\n\u001b[0;32m----> 2\u001b[0m \u001b[38;5;241;43m3\u001b[39;49m\u001b[38;5;241;43m>\u001b[39;49m\u001b[38;5;124;43m'\u001b[39;49m\u001b[38;5;124;43mapples\u001b[39;49m\u001b[38;5;124;43m'\u001b[39;49m \u001b[38;5;66;03m#will not work\u001b[39;00m\n",
      "\u001b[0;31mTypeError\u001b[0m: '>' not supported between instances of 'int' and 'str'"
     ]
    }
   ],
   "source": [
    "#Python cannot compare 3 and apple, unless the 3 is \"3\" --> signals english\n",
    "3>'apples' #will not work"
   ]
  },
  {
   "cell_type": "code",
   "execution_count": null,
   "id": "0acd6f03",
   "metadata": {},
   "outputs": [],
   "source": [
    "'3'>'apples' #will work"
   ]
  },
  {
   "cell_type": "code",
   "execution_count": null,
   "id": "5d0517d4",
   "metadata": {},
   "outputs": [],
   "source": [
    "#Python can compare 'apples' and 'oranges'\n",
    "'apples'>'oranges' #will work\n",
    "#Comparison works as english letters are internally represented as numbers"
   ]
  },
  {
   "cell_type": "code",
   "execution_count": null,
   "id": "a4f7e46f",
   "metadata": {},
   "outputs": [],
   "source": [
    "(x > 5) and (x < 15) #same as 5<x<15"
   ]
  },
  {
   "cell_type": "code",
   "execution_count": null,
   "id": "afb07025",
   "metadata": {},
   "outputs": [],
   "source": [
    "5<x<15"
   ]
  },
  {
   "cell_type": "markdown",
   "id": "7efe6306",
   "metadata": {},
   "source": [
    "### 1.4 There is more to if"
   ]
  },
  {
   "cell_type": "code",
   "execution_count": null,
   "id": "de528807",
   "metadata": {},
   "outputs": [],
   "source": [
    "name = 'Batman'\n",
    "\n",
    "if name == 'Batman':\n",
    "    print('Hello Hero | Batman!')\n",
    "elif name == 'Robin':\n",
    "    print('Hello Sidekick | Robin!')\n",
    "else:\n",
    "    print('Hello World!')"
   ]
  },
  {
   "cell_type": "code",
   "execution_count": null,
   "id": "c311bec9",
   "metadata": {},
   "outputs": [],
   "source": [
    "#To run second line 'Hello Hero | Batman!', have to define the function e.g. define Bat\n",
    "\n",
    "name = 'Batman'\n",
    "def Bat(name):\n",
    "    if name == 'Batman':\n",
    "        print('Hello Hero | Batman!')\n",
    "    elif name == 'Robin':\n",
    "        print('Hello Sidekick | Robin!')\n",
    "    else:\n",
    "        print('Hello World!')"
   ]
  },
  {
   "cell_type": "code",
   "execution_count": null,
   "id": "9311ed2e",
   "metadata": {},
   "outputs": [],
   "source": [
    "Bat('Batman')"
   ]
  },
  {
   "cell_type": "code",
   "execution_count": null,
   "id": "ca10a7cd",
   "metadata": {},
   "outputs": [],
   "source": [
    "Bat('Robin')"
   ]
  },
  {
   "cell_type": "code",
   "execution_count": null,
   "id": "76236a98",
   "metadata": {},
   "outputs": [],
   "source": [
    "Bat('Superman')"
   ]
  },
  {
   "cell_type": "markdown",
   "id": "7c08eda6",
   "metadata": {},
   "source": [
    "### 1.5 Python stores information in different formats or types."
   ]
  },
  {
   "cell_type": "code",
   "execution_count": null,
   "id": "d262a2b7",
   "metadata": {},
   "outputs": [],
   "source": [
    "#Integer\n",
    "x = int(1.234) #int=integer, dropping the decimal portion\n",
    "print(x, type(x)) #type(x) finds class"
   ]
  },
  {
   "cell_type": "code",
   "execution_count": null,
   "id": "14031bf4",
   "metadata": {},
   "outputs": [],
   "source": [
    "x"
   ]
  },
  {
   "cell_type": "code",
   "execution_count": null,
   "id": "0d703ff9",
   "metadata": {},
   "outputs": [],
   "source": [
    "#Strings\n",
    "x = str(1.234) #str=string=English word\n",
    "print(x,type(x))"
   ]
  },
  {
   "cell_type": "code",
   "execution_count": null,
   "id": "6717e036",
   "metadata": {},
   "outputs": [],
   "source": [
    "x"
   ]
  },
  {
   "cell_type": "code",
   "execution_count": null,
   "id": "bc9200ea",
   "metadata": {},
   "outputs": [],
   "source": [
    "#Floats\n",
    "x = float(1.234) #float, as a decimal number\n",
    "print(x, type(x))"
   ]
  },
  {
   "cell_type": "code",
   "execution_count": null,
   "id": "4349585d",
   "metadata": {},
   "outputs": [],
   "source": [
    "x"
   ]
  },
  {
   "cell_type": "code",
   "execution_count": null,
   "id": "6e602df4",
   "metadata": {},
   "outputs": [],
   "source": [
    "#Complex\n",
    "x = complex(1.234) #complex, includes imaginary part or the number (+0j)\n",
    "print(x, type(x)) #j is just python's way of representing imaginary numbers"
   ]
  },
  {
   "cell_type": "code",
   "execution_count": null,
   "id": "4fd624cd",
   "metadata": {},
   "outputs": [],
   "source": [
    "x"
   ]
  },
  {
   "cell_type": "markdown",
   "id": "277a5ee6",
   "metadata": {},
   "source": [
    "[Basic Data types in Python](https://realpython.com/python-data-types/)"
   ]
  },
  {
   "cell_type": "code",
   "execution_count": null,
   "id": "f01a07f8",
   "metadata": {},
   "outputs": [],
   "source": [
    "x='1.234'\n",
    "print(x,type(x))"
   ]
  },
  {
   "cell_type": "code",
   "execution_count": null,
   "id": "4d71f9ad",
   "metadata": {},
   "outputs": [],
   "source": [
    "x = float(x) #changing string to float\n",
    "print(x, type(x))"
   ]
  },
  {
   "cell_type": "code",
   "execution_count": null,
   "id": "ee88b8f0",
   "metadata": {},
   "outputs": [],
   "source": [
    "x=int(x) #changing float to integer\n",
    "print(x,type(x))"
   ]
  },
  {
   "cell_type": "markdown",
   "id": "b1e212b2",
   "metadata": {},
   "source": [
    "### 1.6 Combining English and variables"
   ]
  },
  {
   "cell_type": "code",
   "execution_count": null,
   "id": "017755f5",
   "metadata": {},
   "outputs": [],
   "source": [
    "#Example 1\n",
    "name = \"Batman\"\n",
    "print(f\"Hello {name}!\") #f=format=f-string"
   ]
  },
  {
   "cell_type": "code",
   "execution_count": null,
   "id": "05c922d5",
   "metadata": {},
   "outputs": [],
   "source": [
    "name = \"Batman\"\n",
    "print(f\"Hello {name.upper()}!\") #.upper() for upper case\n",
    "                                #.lower() for lower case\n",
    "                                #ensure to use {}=string interpolation"
   ]
  },
  {
   "cell_type": "code",
   "execution_count": null,
   "id": "4ced77f9",
   "metadata": {
    "scrolled": true
   },
   "outputs": [],
   "source": [
    "x = 10\n",
    "print(f\"The value of {x} squared is {x**2}!\")"
   ]
  },
  {
   "cell_type": "code",
   "execution_count": null,
   "id": "da9eb6d7",
   "metadata": {},
   "outputs": [],
   "source": [
    "text = 'Bruce Wayne is Batman.'\n",
    "print(f'{text}')"
   ]
  },
  {
   "cell_type": "code",
   "execution_count": null,
   "id": "65076fc1",
   "metadata": {
    "scrolled": true
   },
   "outputs": [],
   "source": [
    "print(f'{text:>30} hahahaha')      # A block of 30 characters; aligned right"
   ]
  },
  {
   "cell_type": "code",
   "execution_count": null,
   "id": "7840a954",
   "metadata": {},
   "outputs": [],
   "source": [
    "print(f'{text:<30} hahahaha')      # A block of 30 characters; aligned left"
   ]
  },
  {
   "cell_type": "code",
   "execution_count": null,
   "id": "80cbf233",
   "metadata": {},
   "outputs": [],
   "source": [
    "#Example 2\n",
    "import numpy as np\n",
    "print(f'The cube of pi to 6 decimal places is {np.pi**3:.6f}') #np is a package, **=to the power of, **3=to the power of 3\n",
    "#.6f=to 6dp"
   ]
  },
  {
   "cell_type": "code",
   "execution_count": null,
   "id": "af63499d",
   "metadata": {},
   "outputs": [],
   "source": [
    "print(f'The cube of pi to 6 decimal places is {np.pi**3:.6e}')\n",
    "#.6e= output in scientific notion"
   ]
  },
  {
   "cell_type": "markdown",
   "id": "741f9a88",
   "metadata": {},
   "source": [
    "Structure of f-strings"
   ]
  },
  {
   "cell_type": "markdown",
   "id": "69e46290",
   "metadata": {},
   "source": [
    "\n",
    "|X,Y,>,0,Z,W|Meaning|\n",
    "|:-|:-|\n",
    "|W|Specifies the type of variable: <br> f-float <br> d-integer <br> s-string <br> g-ask python figure out|\n",
    "|X|Variable to format (Can be a number or a string)|\n",
    "|>|Alignment Use <, >, ^ for Left, Right and Centre|\n",
    "|Y|Total number of characters|\n",
    "|Z|Number of decimal places|\n",
    "|0|Use 0’s to pad the spaces|"
   ]
  },
  {
   "cell_type": "markdown",
   "id": "166eea17",
   "metadata": {},
   "source": [
    "[PyFormat](https://pyformat.info/)"
   ]
  },
  {
   "cell_type": "markdown",
   "id": "2ffe16ef",
   "metadata": {},
   "source": [
    "### 1.7 Python can be a prima-donna."
   ]
  },
  {
   "cell_type": "code",
   "execution_count": null,
   "id": "ffc96f59",
   "metadata": {},
   "outputs": [],
   "source": [
    "Print(hello)"
   ]
  },
  {
   "cell_type": "code",
   "execution_count": null,
   "id": "0b49ec5a",
   "metadata": {},
   "outputs": [],
   "source": [
    "print(hello)"
   ]
  },
  {
   "cell_type": "markdown",
   "id": "44f22a9c",
   "metadata": {},
   "source": [
    "## 2 Best Practices for Scientific Computing"
   ]
  },
  {
   "cell_type": "markdown",
   "id": "b6c9c5a9",
   "metadata": {},
   "source": [
    "### 2.1 Some tips"
   ]
  },
  {
   "cell_type": "markdown",
   "id": "d0597e16",
   "metadata": {},
   "source": [
    "1. Write programs for people, not computers.\n",
    "2. Optimise software only after it works correctly.\n",
    "3. Document design and purpose, not mechanics.\n",
    "4. Collaborate."
   ]
  },
  {
   "cell_type": "markdown",
   "id": "944d79bf",
   "metadata": {},
   "source": [
    "### 2.2 Getting help."
   ]
  },
  {
   "cell_type": "code",
   "execution_count": null,
   "id": "23d02bb6",
   "metadata": {},
   "outputs": [],
   "source": [
    "help(print)"
   ]
  },
  {
   "cell_type": "markdown",
   "id": "e1376282",
   "metadata": {},
   "source": [
    "## Exercise 1 :  Bias for some heroes"
   ]
  },
  {
   "cell_type": "code",
   "execution_count": null,
   "id": "9477eecd",
   "metadata": {},
   "outputs": [],
   "source": [
    "def hello(name):\n",
    "    if name == \"Batman\":\n",
    "        print(f\"Hello {name.upper()}!\")\n",
    "    elif name == \"Black Widow\":\n",
    "        print(f\"Hello {name.upper()}!\")\n",
    "    else:\n",
    "        print(f\"Hello {name.lower()}!\")"
   ]
  },
  {
   "cell_type": "code",
   "execution_count": null,
   "id": "6b6202dc",
   "metadata": {},
   "outputs": [],
   "source": [
    "hello(\"Batman\")"
   ]
  },
  {
   "cell_type": "code",
   "execution_count": null,
   "id": "1c75e640",
   "metadata": {},
   "outputs": [],
   "source": [
    "hello(\"Black Widow\")"
   ]
  },
  {
   "cell_type": "code",
   "execution_count": null,
   "id": "0ef5f7c2",
   "metadata": {},
   "outputs": [],
   "source": [
    "hello(\"Aqua Man\")"
   ]
  },
  {
   "cell_type": "code",
   "execution_count": null,
   "id": "43e80fb7",
   "metadata": {},
   "outputs": [],
   "source": [
    "def hello(name):\n",
    "    if name == \"Batman\" or name ==\"Black Widow\":\n",
    "        print(f\"Hello {name.upper()}!\")\n",
    "    else:\n",
    "        print(f\"Hello {name.lower()}!\")"
   ]
  },
  {
   "cell_type": "code",
   "execution_count": null,
   "id": "9f6d9579",
   "metadata": {},
   "outputs": [],
   "source": [
    "hello(\"Batman\")"
   ]
  },
  {
   "cell_type": "code",
   "execution_count": null,
   "id": "c5301d7c",
   "metadata": {},
   "outputs": [],
   "source": [
    "hello(\"Black Widow\")"
   ]
  },
  {
   "cell_type": "code",
   "execution_count": null,
   "id": "45628628",
   "metadata": {},
   "outputs": [],
   "source": [
    "hello(\"Aqua Man\")"
   ]
  },
  {
   "cell_type": "markdown",
   "id": "935bf65c",
   "metadata": {},
   "source": [
    "## Exercise 2 :  Bias for some heroes, continues"
   ]
  },
  {
   "cell_type": "code",
   "execution_count": null,
   "id": "01c4c340",
   "metadata": {},
   "outputs": [],
   "source": [
    "hello(\"batman\")"
   ]
  },
  {
   "cell_type": "code",
   "execution_count": null,
   "id": "89fcdd7d",
   "metadata": {},
   "outputs": [],
   "source": [
    "hello(\"batMan\")"
   ]
  },
  {
   "cell_type": "code",
   "execution_count": 17,
   "id": "2d8e408f",
   "metadata": {},
   "outputs": [],
   "source": [
    "def hello(name):\n",
    "    name = name.lower() #To make letter case lower as a baseline\n",
    "    if name == \"batman\" or name == \"black widow\":\n",
    "        print(f\"Hello {name.upper()}!\")\n",
    "    else:\n",
    "        print(f\"Hello {name}!\")"
   ]
  },
  {
   "cell_type": "code",
   "execution_count": 18,
   "id": "ace0a421",
   "metadata": {},
   "outputs": [
    {
     "name": "stdout",
     "output_type": "stream",
     "text": [
      "Hello BATMAN!\n"
     ]
    }
   ],
   "source": [
    "hello(\"batman\")"
   ]
  },
  {
   "cell_type": "code",
   "execution_count": 19,
   "id": "c42d74db",
   "metadata": {},
   "outputs": [
    {
     "name": "stdout",
     "output_type": "stream",
     "text": [
      "Hello BATMAN!\n"
     ]
    }
   ],
   "source": [
    "hello(\"batMan\")"
   ]
  },
  {
   "cell_type": "code",
   "execution_count": 20,
   "id": "52fc7fda",
   "metadata": {},
   "outputs": [
    {
     "name": "stdout",
     "output_type": "stream",
     "text": [
      "Hello BATMAN!\n"
     ]
    }
   ],
   "source": [
    "hello(\"bATMan\")"
   ]
  },
  {
   "cell_type": "markdown",
   "id": "d5d954dd",
   "metadata": {},
   "source": [
    "## Exercise 3 :  Look for help to replace"
   ]
  },
  {
   "cell_type": "code",
   "execution_count": 52,
   "id": "f682b1da",
   "metadata": {},
   "outputs": [
    {
     "data": {
      "text/plain": [
       "'The Batman lives in Gotham City'"
      ]
     },
     "execution_count": 52,
     "metadata": {},
     "output_type": "execute_result"
    }
   ],
   "source": [
    "def hello(name): #name is a variable, hello is the function\n",
    "    y = name.replace(\"Joker\", \"Batman\") #output with y=, return y\n",
    "    return y\n",
    "hello(\"The Joker lives in Gotham City\")"
   ]
  },
  {
   "cell_type": "code",
   "execution_count": 53,
   "id": "08e9b268",
   "metadata": {},
   "outputs": [
    {
     "data": {
      "text/plain": [
       "'The Batman lives in Gotham City'"
      ]
     },
     "execution_count": 53,
     "metadata": {},
     "output_type": "execute_result"
    }
   ],
   "source": [
    "y=\"The Joker lives in Gotham City\"\n",
    "y.replace(\"Joker\",\"Batman\")"
   ]
  },
  {
   "cell_type": "code",
   "execution_count": 54,
   "id": "cdfdb3db",
   "metadata": {},
   "outputs": [
    {
     "data": {
      "text/plain": [
       "'The Batman lives in Gotham City'"
      ]
     },
     "execution_count": 54,
     "metadata": {},
     "output_type": "execute_result"
    }
   ],
   "source": [
    "\"The Joker lives in Gotham City\".replace(\"Joker\",\"Batman\")"
   ]
  },
  {
   "cell_type": "code",
   "execution_count": null,
   "id": "a6942a1e",
   "metadata": {},
   "outputs": [],
   "source": []
  }
 ],
 "metadata": {
  "kernelspec": {
   "display_name": "Python 3 (ipykernel)",
   "language": "python",
   "name": "python3"
  },
  "language_info": {
   "codemirror_mode": {
    "name": "ipython",
    "version": 3
   },
   "file_extension": ".py",
   "mimetype": "text/x-python",
   "name": "python",
   "nbconvert_exporter": "python",
   "pygments_lexer": "ipython3",
   "version": "3.10.8"
  },
  "toc": {
   "base_numbering": 1,
   "nav_menu": {},
   "number_sections": true,
   "sideBar": true,
   "skip_h1_title": false,
   "title_cell": "Table of Contents",
   "title_sidebar": "Contents",
   "toc_cell": false,
   "toc_position": {},
   "toc_section_display": true,
   "toc_window_display": false
  },
  "varInspector": {
   "cols": {
    "lenName": 16,
    "lenType": 16,
    "lenVar": 40
   },
   "kernels_config": {
    "python": {
     "delete_cmd_postfix": "",
     "delete_cmd_prefix": "del ",
     "library": "var_list.py",
     "varRefreshCmd": "print(var_dic_list())"
    },
    "r": {
     "delete_cmd_postfix": ") ",
     "delete_cmd_prefix": "rm(",
     "library": "var_list.r",
     "varRefreshCmd": "cat(var_dic_list()) "
    }
   },
   "types_to_exclude": [
    "module",
    "function",
    "builtin_function_or_method",
    "instance",
    "_Feature"
   ],
   "window_display": false
  },
  "vscode": {
   "interpreter": {
    "hash": "31f2aee4e71d21fbe5cf8b01ff0e069b9275f58929596ceb00d14d90e3e16cd6"
   }
  }
 },
 "nbformat": 4,
 "nbformat_minor": 5
}
