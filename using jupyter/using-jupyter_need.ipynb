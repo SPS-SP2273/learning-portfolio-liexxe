{
 "cells": [
  {
   "cell_type": "code",
   "execution_count": 1,
   "id": "789efef5",
   "metadata": {},
   "outputs": [
    {
     "name": "stdout",
     "output_type": "stream",
     "text": [
      "Hello World\n"
     ]
    }
   ],
   "source": [
    "print ('Hello World')"
   ]
  },
  {
   "cell_type": "markdown",
   "id": "abf6f7d1",
   "metadata": {},
   "source": [
    "The ships hung in the sky in much the same way that bricks don’t."
   ]
  },
  {
   "cell_type": "markdown",
   "id": "69f0f135",
   "metadata": {},
   "source": [
    "The ships *hung in the sky* in much the same way that **bricks don’t.**"
   ]
  },
  {
   "cell_type": "markdown",
   "id": "2183ed2d",
   "metadata": {},
   "source": [
    "`print('Hello World')`"
   ]
  },
  {
   "cell_type": "markdown",
   "id": "d80f7211",
   "metadata": {},
   "source": [
    "```python\n",
    "print('Hello World')\n",
    "```"
   ]
  },
  {
   "cell_type": "markdown",
   "id": "9a14b5af",
   "metadata": {},
   "source": [
    "[SP2273 Website](http://sps.nus.edu.sg/sp2273)"
   ]
  },
  {
   "cell_type": "markdown",
   "id": "03b35a37",
   "metadata": {},
   "source": [
    "![](https://nus.edu.sg/images/default-source/base/logo.png)"
   ]
  },
  {
   "cell_type": "markdown",
   "id": "94d65ca2",
   "metadata": {},
   "source": [
    "| A    |  B   |    C |\n",
    "| :--- | :--: | ---: |\n",
    "| a1   |  b1  |   c1 |\n",
    "| a2   |  b2  |   c2 |\n",
    "| a3   |  b3  |   c3 |"
   ]
  },
  {
   "cell_type": "markdown",
   "id": "df16deb0",
   "metadata": {},
   "source": [
    "1. Hello\n",
    "2. Hi\n",
    "3. Hey"
   ]
  },
  {
   "cell_type": "markdown",
   "id": "98de62a1",
   "metadata": {},
   "source": [
    "- yes\n",
    "- yuh\n",
    "- ye"
   ]
  },
  {
   "cell_type": "markdown",
   "id": "84ea8fb0",
   "metadata": {},
   "source": [
    "1. blue\n",
    "    1. sky\n",
    "    2. water"
   ]
  },
  {
   "cell_type": "markdown",
   "id": "658484e0",
   "metadata": {},
   "source": [
    "1. red\n",
    "    - fire\n",
    "    - sun"
   ]
  },
  {
   "cell_type": "markdown",
   "id": "b927b05c",
   "metadata": {},
   "source": [
    "Exercise 1"
   ]
  },
  {
   "cell_type": "markdown",
   "id": "cdb4fc12",
   "metadata": {},
   "source": [
    "$\\sqrt{b^2-4ac}$"
   ]
  },
  {
   "cell_type": "markdown",
   "id": "8a4fa67b",
   "metadata": {},
   "source": [
    "$$\n",
    "x = \\dfrac{-b \\pm \\sqrt{b^2-4ac}}{2a}\n",
    "$$"
   ]
  },
  {
   "cell_type": "markdown",
   "id": "f8bb1941",
   "metadata": {},
   "source": [
    "$ax^2+bx+c=0$"
   ]
  },
  {
   "cell_type": "markdown",
   "id": "8cf2e91a",
   "metadata": {},
   "source": [
    "$y=x^2-x-2$"
   ]
  },
  {
   "cell_type": "markdown",
   "id": "e23f073a",
   "metadata": {},
   "source": [
    "![](https://upload.wikimedia.org/wikipedia/commons/f/f8/Polynomialdeg2.svg)"
   ]
  },
  {
   "cell_type": "markdown",
   "id": "4ad042e2",
   "metadata": {},
   "source": [
    "$$\n",
    "x = \\dfrac{-(-1) \\pm \\sqrt{(-1)^2-4(1)(-2)}}{2(1)}\n",
    "$$"
   ]
  },
  {
   "cell_type": "markdown",
   "id": "c2e41b49",
   "metadata": {},
   "source": [
    "$\\Delta=b^2-4ac$"
   ]
  },
  {
   "cell_type": "markdown",
   "id": "a0a4888c",
   "metadata": {},
   "source": [
    "$\\Delta=(-1)^2-4(1)(-2)$"
   ]
  },
  {
   "cell_type": "markdown",
   "id": "e7adceb3",
   "metadata": {},
   "source": [
    "$\\Delta=b^2-4ac=0$"
   ]
  },
  {
   "cell_type": "markdown",
   "id": "bed87539",
   "metadata": {},
   "source": [
    "$\\Delta=b^2-4ac \\gt 0$"
   ]
  },
  {
   "cell_type": "markdown",
   "id": "52b71c9f",
   "metadata": {},
   "source": [
    "$\\Delta=b^2-4ac \\lt 0$"
   ]
  },
  {
   "cell_type": "markdown",
   "id": "d4f0bfa7",
   "metadata": {},
   "source": [
    "Exercise 2"
   ]
  },
  {
   "cell_type": "markdown",
   "id": "deab0c86",
   "metadata": {},
   "source": [
    "1. A repository is a place where folders or files are stored in a server. For example, the learning portfolio on GitHub is stored in a repository.\n",
    "2. Git keeps track of changes in the files in our repository.\n",
    "3. A commit is used to track changes made.\n",
    "4. A push is used to upload commits to the server.\n",
    "5. GitHub is an online service (web-based/ cloud server) to upload files whereas files uploaded on GitHub desktop is stored locally on our comupters.\n",
    "6. A pull?"
   ]
  },
  {
   "cell_type": "code",
   "execution_count": null,
   "id": "20c59fee",
   "metadata": {},
   "outputs": [],
   "source": []
  }
 ],
 "metadata": {
  "kernelspec": {
   "display_name": "Python 3 (ipykernel)",
   "language": "python",
   "name": "python3"
  },
  "language_info": {
   "codemirror_mode": {
    "name": "ipython",
    "version": 3
   },
   "file_extension": ".py",
   "mimetype": "text/x-python",
   "name": "python",
   "nbconvert_exporter": "python",
   "pygments_lexer": "ipython3",
   "version": "3.10.8"
  }
 },
 "nbformat": 4,
 "nbformat_minor": 5
}
