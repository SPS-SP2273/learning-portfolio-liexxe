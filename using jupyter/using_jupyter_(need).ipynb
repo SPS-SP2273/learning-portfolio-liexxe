{
 "cells": [
  {
   "cell_type": "markdown",
   "id": "123456",
   "metadata": {},
   "source": [
    "<div style=\"text-align:left;font-size:2em\"><span style=\"font-weight:bolder;font-size:1.25em\">SP2273 | Learning Portfolio</span><br><br><span style=\"font-weight:bold;color:darkred\">Using Jupyter (Need)</span></div>"
   ]
  },
  {
   "cell_type": "markdown",
   "id": "150b67f5",
   "metadata": {},
   "source": [
    "## 1 Getting started with Jupyter"
   ]
  },
  {
   "cell_type": "markdown",
   "id": "b03de861",
   "metadata": {},
   "source": [
    "### 1.1 Its all about running cells"
   ]
  },
  {
   "cell_type": "code",
   "execution_count": 1,
   "id": "c596a060",
   "metadata": {},
   "outputs": [
    {
     "data": {
      "text/plain": [
       "2"
      ]
     },
     "execution_count": 1,
     "metadata": {},
     "output_type": "execute_result"
    }
   ],
   "source": [
    "1+1"
   ]
  },
  {
   "cell_type": "markdown",
   "id": "f5412137",
   "metadata": {},
   "source": [
    "CMD/CTRL + ENTER to run cell"
   ]
  },
  {
   "cell_type": "markdown",
   "id": "95dcd634",
   "metadata": {},
   "source": [
    "### 1.2 A traditional start"
   ]
  },
  {
   "cell_type": "code",
   "execution_count": 2,
   "id": "b2080132",
   "metadata": {},
   "outputs": [
    {
     "name": "stdout",
     "output_type": "stream",
     "text": [
      "8\n"
     ]
    }
   ],
   "source": [
    "a=1\n",
    "b=7\n",
    "c=a+b\n",
    "print(c)"
   ]
  },
  {
   "cell_type": "code",
   "execution_count": 3,
   "id": "69261412",
   "metadata": {},
   "outputs": [
    {
     "name": "stdout",
     "output_type": "stream",
     "text": [
      "Hello World\n"
     ]
    }
   ],
   "source": [
    "print('Hello World')"
   ]
  },
  {
   "cell_type": "markdown",
   "id": "32dbc04a",
   "metadata": {},
   "source": [
    "## 2 All about Markdown"
   ]
  },
  {
   "cell_type": "markdown",
   "id": "29e0d675",
   "metadata": {},
   "source": [
    "### 2.1 Rendering Markdown cells"
   ]
  },
  {
   "cell_type": "markdown",
   "id": "9c02a878",
   "metadata": {},
   "source": [
    "The ships hung in the sky in much the same way that bricks don’t."
   ]
  },
  {
   "cell_type": "markdown",
   "id": "2e2f1141",
   "metadata": {},
   "source": [
    "### 2.2 Some basic syntax"
   ]
  },
  {
   "cell_type": "markdown",
   "id": "438ef3c8",
   "metadata": {},
   "source": [
    "| Style    |  Syntax   |\n",
    "| :--- | :--: |\n",
    "| Bold   |  ** ** or __ __  |\n",
    "| Italic   |  * * or _ _  |\n",
    "| All Bold and italic   |  `*** ***`  |\n",
    "| Subscript   |  `<sub> </sub>`  |\n",
    "| Superscript   |  `<sup> </sup>`  |"
   ]
  },
  {
   "cell_type": "markdown",
   "id": "631d1bd1",
   "metadata": {},
   "source": [
    "The ships *hung in the sky* in much the same way that **bricks don’t.**"
   ]
  },
  {
   "cell_type": "markdown",
   "id": "c58f8a27",
   "metadata": {},
   "source": [
    "The **ships** hung in the *sky* in much same way that bricks **don't**"
   ]
  },
  {
   "cell_type": "markdown",
   "id": "d6818a9c",
   "metadata": {},
   "source": [
    "### 2.3 Headings"
   ]
  },
  {
   "cell_type": "markdown",
   "id": "f7652f03",
   "metadata": {},
   "source": [
    "| Hashtag    |  Heading space   |\n",
    "| :--- | :--: |\n",
    "| #   |  Largest  |\n",
    "| ##   |  Second-largest  |\n",
    "| ###   |  Third-largest  |\n",
    "| ####   |  Fourth-largest  |\n",
    "| #####   |  Smallest  |"
   ]
  },
  {
   "cell_type": "markdown",
   "id": "a23ca2fc",
   "metadata": {},
   "source": [
    "# LARGEST\n",
    "## SECOND-LARGEST\n",
    "### THIRD-LARGEST\n",
    "#### FOURTH-LARGEST\n",
    "###### Smallest"
   ]
  },
  {
   "cell_type": "markdown",
   "id": "63e429d5",
   "metadata": {},
   "source": [
    "### 2.4 Displaying Code"
   ]
  },
  {
   "cell_type": "markdown",
   "id": "07f4ee41",
   "metadata": {},
   "source": [
    "Inline code:"
   ]
  },
  {
   "cell_type": "markdown",
   "id": "7cb4c46c",
   "metadata": {},
   "source": [
    "`Print('Hello World')`"
   ]
  },
  {
   "cell_type": "markdown",
   "id": "11b526ba",
   "metadata": {},
   "source": [
    "Block of code:"
   ]
  },
  {
   "cell_type": "markdown",
   "id": "b802debf",
   "metadata": {},
   "source": [
    "```python\n",
    "print('Hello World')\n",
    "```"
   ]
  },
  {
   "cell_type": "markdown",
   "id": "4b2c475c",
   "metadata": {},
   "source": [
    "Syntax refers to the structure of statements"
   ]
  },
  {
   "cell_type": "markdown",
   "id": "528029fb",
   "metadata": {},
   "source": [
    "### 2.5 Links"
   ]
  },
  {
   "cell_type": "markdown",
   "id": "53c09c83",
   "metadata": {},
   "source": [
    "[SP2273 Website](https://sps.nus.edu.sg/sp2273)"
   ]
  },
  {
   "cell_type": "markdown",
   "id": "7490268e",
   "metadata": {},
   "source": [
    "[ReviewNB](https://app.reviewnb.com/SPS-SP2273/learning-portfolio-liexxe/)"
   ]
  },
  {
   "cell_type": "markdown",
   "id": "6d3eaee3",
   "metadata": {},
   "source": [
    "[GitHUB](https://github.com/SPS-SP2273/learning-portfolio-liexxe)"
   ]
  },
  {
   "cell_type": "markdown",
   "id": "97382ece",
   "metadata": {},
   "source": [
    "### 2.6 Images"
   ]
  },
  {
   "cell_type": "markdown",
   "id": "57185523",
   "metadata": {},
   "source": [
    "![](https://nus.edu.sg/images/default-source/base/logo.png)"
   ]
  },
  {
   "cell_type": "markdown",
   "id": "9f27241d",
   "metadata": {},
   "source": [
    "![](https://i.pinimg.com/564x/53/dd/ba/53ddba0e8b997e6ff97580c9598f9cdf.jpg)"
   ]
  },
  {
   "cell_type": "markdown",
   "id": "db946da8",
   "metadata": {},
   "source": [
    "### 2.7 Tables"
   ]
  },
  {
   "cell_type": "markdown",
   "id": "8c047204",
   "metadata": {},
   "source": [
    "| A    |  B   |    C |\n",
    "| :--- | :--: | ---: |\n",
    "| a1   |  b1  |   c1 |\n",
    "| a2   |  b2  |   c2 |\n",
    "| a3   |  b3  |   c3 |"
   ]
  },
  {
   "cell_type": "markdown",
   "id": "eb4a3c1b",
   "metadata": {},
   "source": [
    "| A    |  B   |\n",
    "| :--- | :--: |\n",
    "| a1   |  b1  |\n",
    "| a2   |  b2  |\n",
    "| a3   |  b3  |\n"
   ]
  },
  {
   "cell_type": "markdown",
   "id": "5910dcb5",
   "metadata": {},
   "source": [
    "[Table Generator](https://www.tablesgenerator.com/)"
   ]
  },
  {
   "cell_type": "markdown",
   "id": "69b04035",
   "metadata": {},
   "source": [
    "### 2.8 Lists"
   ]
  },
  {
   "cell_type": "markdown",
   "id": "20761de9",
   "metadata": {},
   "source": [
    "1. Hello\n",
    "2. Hi\n",
    "3. Hey"
   ]
  },
  {
   "cell_type": "markdown",
   "id": "c592800c",
   "metadata": {},
   "source": [
    "- yes\n",
    "- yuh\n",
    "- ye"
   ]
  },
  {
   "cell_type": "markdown",
   "id": "ccc00658",
   "metadata": {},
   "source": [
    "1. blue\n",
    "    1. sky\n",
    "    2. water"
   ]
  },
  {
   "cell_type": "markdown",
   "id": "0bf92b32",
   "metadata": {},
   "source": [
    "1. red\n",
    "    - fire\n",
    "    - sun"
   ]
  },
  {
   "cell_type": "markdown",
   "id": "0239f327",
   "metadata": {},
   "source": [
    "### 2.9 Equations"
   ]
  },
  {
   "cell_type": "markdown",
   "id": "3f18d679",
   "metadata": {},
   "source": [
    "$\\sqrt{b^2-4ac}$"
   ]
  },
  {
   "cell_type": "markdown",
   "id": "ae8eb28c",
   "metadata": {},
   "source": [
    "$$\n",
    "x = \\dfrac{-b \\pm \\sqrt{b^2-4ac}}{2a}\n",
    "$$"
   ]
  },
  {
   "cell_type": "markdown",
   "id": "ed10a386",
   "metadata": {},
   "source": [
    "[Mathematical expressions at Overleaf](https://www.overleaf.com/learn/latex/Mathematical_expressions)"
   ]
  },
  {
   "cell_type": "markdown",
   "id": "6de5aacc",
   "metadata": {},
   "source": [
    "|      |  Input   |\n",
    "| :--- | :--: |\n",
    "| Fraction   |  \t`$\\dfrac{y}{x}$`  |   c2 |\n",
    "| Subscript   |  \t`$x_{a}$`  |   c2 |\n",
    "| Power   |  \t`$x^{(y+z)}$`  |   c3 |\n",
    "| Squareroot   |  \t`$\\sqrt{a+b+c}$`  |   c2 |\n",
    "| Sum   |  \t`$\\sum_{n=1}^{n=\\infty} x_n$`  |   c3 |\n",
    "| Integral   |  \t`$\\int_{x=1}^{x=\\infty} f(x)dx$`  |   c2 |\n",
    "| Not equal   |  \t`a \\ne b`  |   c3 |\n",
    "| Less than   |  `$a \\lt b$`  |   c2 |\n",
    "| Less than or equal to   |  `$a \\leq b$`  |   c3 |\n",
    "| Greater than   |  \t`$a \\gt b$`  |   c2 |\n",
    "| Gretater than or equal to   |  `$a \\geq b$`  |   c3 |\n",
    "| Greek letters   |  `$\\alpha, \\beta, \\gamma, \\pi, \\lambda$`  |   c2 |\n"
   ]
  },
  {
   "cell_type": "markdown",
   "id": "4e9d15f6",
   "metadata": {},
   "source": [
    "## Exercise 1 :  Put it in Markdown"
   ]
  },
  {
   "cell_type": "markdown",
   "id": "8b8ff244",
   "metadata": {},
   "source": [
    "$ax^2+bx+c=0$"
   ]
  },
  {
   "cell_type": "markdown",
   "id": "f5a5c980",
   "metadata": {},
   "source": [
    "$y=x^2-x-2$"
   ]
  },
  {
   "cell_type": "markdown",
   "id": "39f23a6a",
   "metadata": {},
   "source": [
    "![](https://upload.wikimedia.org/wikipedia/commons/f/f8/Polynomialdeg2.svg)"
   ]
  },
  {
   "cell_type": "markdown",
   "id": "2a157d64",
   "metadata": {},
   "source": [
    "$$\n",
    "x = \\dfrac{-(-1) \\pm \\sqrt{(-1)^2-4(1)(-2)}}{2(1)}\n",
    "$$"
   ]
  },
  {
   "cell_type": "markdown",
   "id": "6895bd55",
   "metadata": {},
   "source": [
    "$\\Delta=b^2-4ac$"
   ]
  },
  {
   "cell_type": "markdown",
   "id": "1c196257",
   "metadata": {},
   "source": [
    "$\\Delta=(-1)^2-4(1)(-2)$"
   ]
  },
  {
   "cell_type": "markdown",
   "id": "0d6e899d",
   "metadata": {},
   "source": [
    "| Discriminant    |  Roots   |\n",
    "| :------- | :--: |\n",
    "| $$\\Delta=b^2-4ac=0$$   |  A single solution of -b/(2a)  |\n",
    "| $$\\Delta=b^2-4ac \\gt 0$$   |  Two distinct solutions  |\n",
    "| $$\\Delta=b^2-4ac \\lt 0$$   |  No real solutions; both are complex  |"
   ]
  },
  {
   "cell_type": "code",
   "execution_count": 1,
   "id": "7e14b933",
   "metadata": {},
   "outputs": [],
   "source": [
    "# use $$ $$ for equations, not $ $"
   ]
  },
  {
   "cell_type": "markdown",
   "id": "17a97b5c",
   "metadata": {},
   "source": [
    "## Exercise 2 :  In your own words"
   ]
  },
  {
   "cell_type": "markdown",
   "id": "bb1afcd5",
   "metadata": {},
   "source": [
    "1. A repository is a place where folders or files are stored in a server. For example, the learning portfolio on GitHub is stored in a repository.\n",
    "2. Git keeps track of **changes** in the files in our repository.\n",
    "3. A commit is an operation which sends the latest changes of what is done in a file to the remote repository, and can be used to track changes made over time. \n",
    "4. A push is used to upload local commits to the remote repository.\n",
    "5. GitHub is an online service (web-based/ cloud server) to upload files whereas files uploaded on GitHub desktop is stored locally on our comupters.\n",
    "6. The opposite of a push is git fetch, used to retrieve/download commits to the local repository."
   ]
  },
  {
   "cell_type": "code",
   "execution_count": null,
   "id": "8945e658",
   "metadata": {},
   "outputs": [],
   "source": []
  }
 ],
 "metadata": {
  "kernelspec": {
   "display_name": "Python 3 (ipykernel)",
   "language": "python",
   "name": "python3"
  },
  "language_info": {
   "codemirror_mode": {
    "name": "ipython",
    "version": 3
   },
   "file_extension": ".py",
   "mimetype": "text/x-python",
   "name": "python",
   "nbconvert_exporter": "python",
   "pygments_lexer": "ipython3",
   "version": "3.10.8"
  },
  "toc": {
   "base_numbering": 1,
   "nav_menu": {},
   "number_sections": true,
   "sideBar": true,
   "skip_h1_title": false,
   "title_cell": "Table of Contents",
   "title_sidebar": "Contents",
   "toc_cell": false,
   "toc_position": {},
   "toc_section_display": true,
   "toc_window_display": false
  },
  "varInspector": {
   "cols": {
    "lenName": 16,
    "lenType": 16,
    "lenVar": 40
   },
   "kernels_config": {
    "python": {
     "delete_cmd_postfix": "",
     "delete_cmd_prefix": "del ",
     "library": "var_list.py",
     "varRefreshCmd": "print(var_dic_list())"
    },
    "r": {
     "delete_cmd_postfix": ") ",
     "delete_cmd_prefix": "rm(",
     "library": "var_list.r",
     "varRefreshCmd": "cat(var_dic_list()) "
    }
   },
   "types_to_exclude": [
    "module",
    "function",
    "builtin_function_or_method",
    "instance",
    "_Feature"
   ],
   "window_display": false
  },
  "vscode": {
   "interpreter": {
    "hash": "31f2aee4e71d21fbe5cf8b01ff0e069b9275f58929596ceb00d14d90e3e16cd6"
   }
  }
 },
 "nbformat": 4,
 "nbformat_minor": 5
}
