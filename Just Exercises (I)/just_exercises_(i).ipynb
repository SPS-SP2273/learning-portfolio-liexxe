{
 "cells": [
  {
   "cell_type": "markdown",
   "id": "123456",
   "metadata": {},
   "source": [
    "<div style=\"text-align:left;font-size:2em\"><span style=\"font-weight:bolder;font-size:1.25em\">SP2273 | Learning Portfolio</span><br><br><span style=\"font-weight:bold;color:darkred\">Just Exercises (I)</span></div>"
   ]
  },
  {
   "cell_type": "markdown",
   "id": "36b31b76",
   "metadata": {},
   "source": [
    "## Exercise 1 :  F-strings to the rescue"
   ]
  },
  {
   "cell_type": "code",
   "execution_count": 11,
   "id": "59603038",
   "metadata": {},
   "outputs": [
    {
     "name": "stdout",
     "output_type": "stream",
     "text": [
      "00001\n",
      "00002\n",
      "00003\n",
      "00004\n",
      "00005\n",
      "00006\n",
      "00007\n",
      "00008\n",
      "00009\n",
      "00010\n"
     ]
    }
   ],
   "source": [
    "#1\n",
    "for i in range(1,11):\n",
    "    print(\"%05d\" % i) \n",
    "#%05d prints until 5 zeros, inserts i on right"
   ]
  },
  {
   "cell_type": "code",
   "execution_count": 19,
   "id": "42d45a9d",
   "metadata": {},
   "outputs": [
    {
     "name": "stdout",
     "output_type": "stream",
     "text": [
      "00001\n",
      "00002\n",
      "00003\n",
      "00004\n",
      "00005\n",
      "00006\n",
      "00007\n",
      "00008\n",
      "00009\n",
      "00010\n"
     ]
    }
   ],
   "source": [
    "for i in range(1,11):\n",
    "    print(f'{i:05d}')"
   ]
  },
  {
   "cell_type": "code",
   "execution_count": 34,
   "id": "363110ac",
   "metadata": {},
   "outputs": [
    {
     "name": "stdout",
     "output_type": "stream",
     "text": [
      "001          +\n",
      "002         ++\n",
      "003        +++\n",
      "004       ++++\n",
      "005      +++++\n",
      "006     ++++++\n",
      "007    +++++++\n",
      "008   ++++++++\n",
      "009  +++++++++\n",
      "010 ++++++++++\n"
     ]
    }
   ],
   "source": [
    "#2\n",
    "for i in range(1,11):\n",
    "    print(f'{i:03d}',f'{\"+\"*i:>10}')\n",
    "#\"+\" is string\n",
    "#\"+\"*i to create i copies of string\n",
    "# > aligns right"
   ]
  },
  {
   "cell_type": "code",
   "execution_count": 39,
   "id": "39c71393",
   "metadata": {},
   "outputs": [
    {
     "name": "stdout",
     "output_type": "stream",
     "text": [
      "001 -+++++++++\n",
      "002 --++++++++\n",
      "003 ---+++++++\n",
      "004 ----++++++\n",
      "005 -----+++++\n",
      "006 ------++++\n",
      "007 -------+++\n",
      "008 --------++\n",
      "009 ---------+\n",
      "010 ----------\n"
     ]
    }
   ],
   "source": [
    "#3\n",
    "for i in range(1,11):\n",
    "    print(f'{i:03d}',\"-\"*i+\"+\"*(10-i))\n",
    "#\"-\"*i to create i copies of string \"-\"\n",
    "#\"+\"*(10-i) appended to right\n",
    "# + sign appends"
   ]
  },
  {
   "cell_type": "code",
   "execution_count": 45,
   "id": "d588eb2d",
   "metadata": {},
   "outputs": [
    {
     "name": "stdout",
     "output_type": "stream",
     "text": [
      "['bruce_exploits.txt', 'bruce_enemies.txt', 'bruce_friends.txt', 'natasha_exploits.txt', 'natasha_enemies.txt', 'natasha_friends.txt', 'tony_exploits.txt', 'tony_enemies.txt', 'tony_friends.txt']\n"
     ]
    }
   ],
   "source": [
    "#4\n",
    "name_list=[\"bruce\",\"natasha\",\"tony\"]\n",
    "category_list=[\"exploits\",\"enemies\",\"friends\"]\n",
    "final_list=[]\n",
    "for name in name_list: \n",
    "    for category in category_list: #creating a loop in a loop\n",
    "        string=f'{name}_{category}.txt' #name, category and string are variables\n",
    "        final_list.append(string) #adding arguments in variable string to empty list\n",
    "        \n",
    "print(final_list)"
   ]
  },
  {
   "cell_type": "code",
   "execution_count": 62,
   "id": "ae08f90d",
   "metadata": {},
   "outputs": [
    {
     "name": "stdout",
     "output_type": "stream",
     "text": [
      "['data_sg_exp-01_trial-001.txt' 'data_sg_exp-01_trial-002.txt'\n",
      " 'data_sg_exp-01_trial-003.txt' 'data_sg_exp-01_trial-004.txt'\n",
      " 'data_sg_exp-01_trial-005.txt' 'data_sg_exp-01_trial-006.txt'\n",
      " 'data_sg_exp-01_trial-007.txt' 'data_sg_exp-01_trial-008.txt'\n",
      " 'data_sg_exp-01_trial-009.txt' 'data_sg_exp-01_trial-010.txt'\n",
      " 'data_sg_exp-01_trial-011.txt' 'data_sg_exp-01_trial-012.txt'\n",
      " 'data_sg_exp-01_trial-013.txt' 'data_sg_exp-01_trial-014.txt'\n",
      " 'data_sg_exp-01_trial-015.txt' 'data_sg_exp-01_trial-016.txt'\n",
      " 'data_sg_exp-01_trial-017.txt' 'data_sg_exp-01_trial-018.txt'\n",
      " 'data_sg_exp-01_trial-019.txt' 'data_sg_exp-01_trial-020.txt'\n",
      " 'data_sg_exp-01_trial-021.txt' 'data_sg_exp-01_trial-022.txt'\n",
      " 'data_sg_exp-01_trial-023.txt' 'data_sg_exp-01_trial-024.txt'\n",
      " 'data_sg_exp-01_trial-025.txt' 'data_sg_exp-01_trial-026.txt'\n",
      " 'data_sg_exp-01_trial-027.txt' 'data_sg_exp-01_trial-028.txt'\n",
      " 'data_sg_exp-01_trial-029.txt' 'data_sg_exp-01_trial-030.txt'\n",
      " 'data_sg_exp-01_trial-031.txt' 'data_sg_exp-01_trial-032.txt'\n",
      " 'data_sg_exp-01_trial-033.txt' 'data_sg_exp-01_trial-034.txt'\n",
      " 'data_sg_exp-01_trial-035.txt' 'data_sg_exp-01_trial-036.txt'\n",
      " 'data_sg_exp-01_trial-037.txt' 'data_sg_exp-01_trial-038.txt'\n",
      " 'data_sg_exp-01_trial-039.txt' 'data_sg_exp-01_trial-040.txt'\n",
      " 'data_sg_exp-01_trial-041.txt' 'data_sg_exp-01_trial-042.txt'\n",
      " 'data_sg_exp-01_trial-043.txt' 'data_sg_exp-01_trial-044.txt'\n",
      " 'data_sg_exp-01_trial-045.txt' 'data_sg_exp-01_trial-046.txt'\n",
      " 'data_sg_exp-01_trial-047.txt' 'data_sg_exp-01_trial-048.txt'\n",
      " 'data_sg_exp-01_trial-049.txt' 'data_sg_exp-01_trial-050.txt'\n",
      " 'data_gb_exp-01_trial-001.txt' 'data_gb_exp-01_trial-002.txt'\n",
      " 'data_gb_exp-01_trial-003.txt' 'data_gb_exp-01_trial-004.txt'\n",
      " 'data_gb_exp-01_trial-005.txt' 'data_gb_exp-01_trial-006.txt'\n",
      " 'data_gb_exp-01_trial-007.txt' 'data_gb_exp-01_trial-008.txt'\n",
      " 'data_gb_exp-01_trial-009.txt' 'data_gb_exp-01_trial-010.txt'\n",
      " 'data_gb_exp-01_trial-011.txt' 'data_gb_exp-01_trial-012.txt'\n",
      " 'data_gb_exp-01_trial-013.txt' 'data_gb_exp-01_trial-014.txt'\n",
      " 'data_gb_exp-01_trial-015.txt' 'data_gb_exp-01_trial-016.txt'\n",
      " 'data_gb_exp-01_trial-017.txt' 'data_gb_exp-01_trial-018.txt'\n",
      " 'data_gb_exp-01_trial-019.txt' 'data_gb_exp-01_trial-020.txt'\n",
      " 'data_gb_exp-01_trial-021.txt' 'data_gb_exp-01_trial-022.txt'\n",
      " 'data_gb_exp-01_trial-023.txt' 'data_gb_exp-01_trial-024.txt'\n",
      " 'data_gb_exp-01_trial-025.txt' 'data_gb_exp-01_trial-026.txt'\n",
      " 'data_gb_exp-01_trial-027.txt' 'data_gb_exp-01_trial-028.txt'\n",
      " 'data_gb_exp-01_trial-029.txt' 'data_gb_exp-01_trial-030.txt'\n",
      " 'data_gb_exp-01_trial-031.txt' 'data_gb_exp-01_trial-032.txt'\n",
      " 'data_gb_exp-01_trial-033.txt' 'data_gb_exp-01_trial-034.txt'\n",
      " 'data_gb_exp-01_trial-035.txt' 'data_gb_exp-01_trial-036.txt'\n",
      " 'data_gb_exp-01_trial-037.txt' 'data_gb_exp-01_trial-038.txt'\n",
      " 'data_gb_exp-01_trial-039.txt' 'data_gb_exp-01_trial-040.txt'\n",
      " 'data_gb_exp-01_trial-041.txt' 'data_gb_exp-01_trial-042.txt'\n",
      " 'data_gb_exp-01_trial-043.txt' 'data_gb_exp-01_trial-044.txt'\n",
      " 'data_gb_exp-01_trial-045.txt' 'data_gb_exp-01_trial-046.txt'\n",
      " 'data_gb_exp-01_trial-047.txt' 'data_gb_exp-01_trial-048.txt'\n",
      " 'data_gb_exp-01_trial-049.txt' 'data_gb_exp-01_trial-050.txt'\n",
      " 'data_us_exp-01_trial-001.txt' 'data_us_exp-01_trial-002.txt'\n",
      " 'data_us_exp-01_trial-003.txt' 'data_us_exp-01_trial-004.txt'\n",
      " 'data_us_exp-01_trial-005.txt' 'data_us_exp-01_trial-006.txt'\n",
      " 'data_us_exp-01_trial-007.txt' 'data_us_exp-01_trial-008.txt'\n",
      " 'data_us_exp-01_trial-009.txt' 'data_us_exp-01_trial-010.txt'\n",
      " 'data_us_exp-01_trial-011.txt' 'data_us_exp-01_trial-012.txt'\n",
      " 'data_us_exp-01_trial-013.txt' 'data_us_exp-01_trial-014.txt'\n",
      " 'data_us_exp-01_trial-015.txt' 'data_us_exp-01_trial-016.txt'\n",
      " 'data_us_exp-01_trial-017.txt' 'data_us_exp-01_trial-018.txt'\n",
      " 'data_us_exp-01_trial-019.txt' 'data_us_exp-01_trial-020.txt'\n",
      " 'data_us_exp-01_trial-021.txt' 'data_us_exp-01_trial-022.txt'\n",
      " 'data_us_exp-01_trial-023.txt' 'data_us_exp-01_trial-024.txt'\n",
      " 'data_us_exp-01_trial-025.txt' 'data_us_exp-01_trial-026.txt'\n",
      " 'data_us_exp-01_trial-027.txt' 'data_us_exp-01_trial-028.txt'\n",
      " 'data_us_exp-01_trial-029.txt' 'data_us_exp-01_trial-030.txt'\n",
      " 'data_us_exp-01_trial-031.txt' 'data_us_exp-01_trial-032.txt'\n",
      " 'data_us_exp-01_trial-033.txt' 'data_us_exp-01_trial-034.txt'\n",
      " 'data_us_exp-01_trial-035.txt' 'data_us_exp-01_trial-036.txt'\n",
      " 'data_us_exp-01_trial-037.txt' 'data_us_exp-01_trial-038.txt'\n",
      " 'data_us_exp-01_trial-039.txt' 'data_us_exp-01_trial-040.txt'\n",
      " 'data_us_exp-01_trial-041.txt' 'data_us_exp-01_trial-042.txt'\n",
      " 'data_us_exp-01_trial-043.txt' 'data_us_exp-01_trial-044.txt'\n",
      " 'data_us_exp-01_trial-045.txt' 'data_us_exp-01_trial-046.txt'\n",
      " 'data_us_exp-01_trial-047.txt' 'data_us_exp-01_trial-048.txt'\n",
      " 'data_us_exp-01_trial-049.txt' 'data_us_exp-01_trial-050.txt'\n",
      " 'data_sg_exp-02_trial-001.txt' 'data_sg_exp-02_trial-002.txt'\n",
      " 'data_sg_exp-02_trial-003.txt' 'data_sg_exp-02_trial-004.txt'\n",
      " 'data_sg_exp-02_trial-005.txt' 'data_sg_exp-02_trial-006.txt'\n",
      " 'data_sg_exp-02_trial-007.txt' 'data_sg_exp-02_trial-008.txt'\n",
      " 'data_sg_exp-02_trial-009.txt' 'data_sg_exp-02_trial-010.txt'\n",
      " 'data_sg_exp-02_trial-011.txt' 'data_sg_exp-02_trial-012.txt'\n",
      " 'data_sg_exp-02_trial-013.txt' 'data_sg_exp-02_trial-014.txt'\n",
      " 'data_sg_exp-02_trial-015.txt' 'data_sg_exp-02_trial-016.txt'\n",
      " 'data_sg_exp-02_trial-017.txt' 'data_sg_exp-02_trial-018.txt'\n",
      " 'data_sg_exp-02_trial-019.txt' 'data_sg_exp-02_trial-020.txt'\n",
      " 'data_sg_exp-02_trial-021.txt' 'data_sg_exp-02_trial-022.txt'\n",
      " 'data_sg_exp-02_trial-023.txt' 'data_sg_exp-02_trial-024.txt'\n",
      " 'data_sg_exp-02_trial-025.txt' 'data_sg_exp-02_trial-026.txt'\n",
      " 'data_sg_exp-02_trial-027.txt' 'data_sg_exp-02_trial-028.txt'\n",
      " 'data_sg_exp-02_trial-029.txt' 'data_sg_exp-02_trial-030.txt'\n",
      " 'data_sg_exp-02_trial-031.txt' 'data_sg_exp-02_trial-032.txt'\n",
      " 'data_sg_exp-02_trial-033.txt' 'data_sg_exp-02_trial-034.txt'\n",
      " 'data_sg_exp-02_trial-035.txt' 'data_sg_exp-02_trial-036.txt'\n",
      " 'data_sg_exp-02_trial-037.txt' 'data_sg_exp-02_trial-038.txt'\n",
      " 'data_sg_exp-02_trial-039.txt' 'data_sg_exp-02_trial-040.txt'\n",
      " 'data_sg_exp-02_trial-041.txt' 'data_sg_exp-02_trial-042.txt'\n",
      " 'data_sg_exp-02_trial-043.txt' 'data_sg_exp-02_trial-044.txt'\n",
      " 'data_sg_exp-02_trial-045.txt' 'data_sg_exp-02_trial-046.txt'\n",
      " 'data_sg_exp-02_trial-047.txt' 'data_sg_exp-02_trial-048.txt'\n",
      " 'data_sg_exp-02_trial-049.txt' 'data_sg_exp-02_trial-050.txt'\n",
      " 'data_gb_exp-02_trial-001.txt' 'data_gb_exp-02_trial-002.txt'\n",
      " 'data_gb_exp-02_trial-003.txt' 'data_gb_exp-02_trial-004.txt'\n",
      " 'data_gb_exp-02_trial-005.txt' 'data_gb_exp-02_trial-006.txt'\n",
      " 'data_gb_exp-02_trial-007.txt' 'data_gb_exp-02_trial-008.txt'\n",
      " 'data_gb_exp-02_trial-009.txt' 'data_gb_exp-02_trial-010.txt'\n",
      " 'data_gb_exp-02_trial-011.txt' 'data_gb_exp-02_trial-012.txt'\n",
      " 'data_gb_exp-02_trial-013.txt' 'data_gb_exp-02_trial-014.txt'\n",
      " 'data_gb_exp-02_trial-015.txt' 'data_gb_exp-02_trial-016.txt'\n",
      " 'data_gb_exp-02_trial-017.txt' 'data_gb_exp-02_trial-018.txt'\n",
      " 'data_gb_exp-02_trial-019.txt' 'data_gb_exp-02_trial-020.txt'\n",
      " 'data_gb_exp-02_trial-021.txt' 'data_gb_exp-02_trial-022.txt'\n",
      " 'data_gb_exp-02_trial-023.txt' 'data_gb_exp-02_trial-024.txt'\n",
      " 'data_gb_exp-02_trial-025.txt' 'data_gb_exp-02_trial-026.txt'\n",
      " 'data_gb_exp-02_trial-027.txt' 'data_gb_exp-02_trial-028.txt'\n",
      " 'data_gb_exp-02_trial-029.txt' 'data_gb_exp-02_trial-030.txt'\n",
      " 'data_gb_exp-02_trial-031.txt' 'data_gb_exp-02_trial-032.txt'\n",
      " 'data_gb_exp-02_trial-033.txt' 'data_gb_exp-02_trial-034.txt'\n",
      " 'data_gb_exp-02_trial-035.txt' 'data_gb_exp-02_trial-036.txt'\n",
      " 'data_gb_exp-02_trial-037.txt' 'data_gb_exp-02_trial-038.txt'\n",
      " 'data_gb_exp-02_trial-039.txt' 'data_gb_exp-02_trial-040.txt'\n",
      " 'data_gb_exp-02_trial-041.txt' 'data_gb_exp-02_trial-042.txt'\n",
      " 'data_gb_exp-02_trial-043.txt' 'data_gb_exp-02_trial-044.txt'\n",
      " 'data_gb_exp-02_trial-045.txt' 'data_gb_exp-02_trial-046.txt'\n",
      " 'data_gb_exp-02_trial-047.txt' 'data_gb_exp-02_trial-048.txt'\n",
      " 'data_gb_exp-02_trial-049.txt' 'data_gb_exp-02_trial-050.txt'\n",
      " 'data_us_exp-02_trial-001.txt' 'data_us_exp-02_trial-002.txt'\n",
      " 'data_us_exp-02_trial-003.txt' 'data_us_exp-02_trial-004.txt'\n",
      " 'data_us_exp-02_trial-005.txt' 'data_us_exp-02_trial-006.txt'\n",
      " 'data_us_exp-02_trial-007.txt' 'data_us_exp-02_trial-008.txt'\n",
      " 'data_us_exp-02_trial-009.txt' 'data_us_exp-02_trial-010.txt'\n",
      " 'data_us_exp-02_trial-011.txt' 'data_us_exp-02_trial-012.txt'\n",
      " 'data_us_exp-02_trial-013.txt' 'data_us_exp-02_trial-014.txt'\n",
      " 'data_us_exp-02_trial-015.txt' 'data_us_exp-02_trial-016.txt'\n",
      " 'data_us_exp-02_trial-017.txt' 'data_us_exp-02_trial-018.txt'\n",
      " 'data_us_exp-02_trial-019.txt' 'data_us_exp-02_trial-020.txt'\n",
      " 'data_us_exp-02_trial-021.txt' 'data_us_exp-02_trial-022.txt'\n",
      " 'data_us_exp-02_trial-023.txt' 'data_us_exp-02_trial-024.txt'\n",
      " 'data_us_exp-02_trial-025.txt' 'data_us_exp-02_trial-026.txt'\n",
      " 'data_us_exp-02_trial-027.txt' 'data_us_exp-02_trial-028.txt'\n",
      " 'data_us_exp-02_trial-029.txt' 'data_us_exp-02_trial-030.txt'\n",
      " 'data_us_exp-02_trial-031.txt' 'data_us_exp-02_trial-032.txt'\n",
      " 'data_us_exp-02_trial-033.txt' 'data_us_exp-02_trial-034.txt'\n",
      " 'data_us_exp-02_trial-035.txt' 'data_us_exp-02_trial-036.txt'\n",
      " 'data_us_exp-02_trial-037.txt' 'data_us_exp-02_trial-038.txt'\n",
      " 'data_us_exp-02_trial-039.txt' 'data_us_exp-02_trial-040.txt'\n",
      " 'data_us_exp-02_trial-041.txt' 'data_us_exp-02_trial-042.txt'\n",
      " 'data_us_exp-02_trial-043.txt' 'data_us_exp-02_trial-044.txt'\n",
      " 'data_us_exp-02_trial-045.txt' 'data_us_exp-02_trial-046.txt'\n",
      " 'data_us_exp-02_trial-047.txt' 'data_us_exp-02_trial-048.txt'\n",
      " 'data_us_exp-02_trial-049.txt' 'data_us_exp-02_trial-050.txt'\n",
      " 'data_sg_exp-03_trial-001.txt' 'data_sg_exp-03_trial-002.txt'\n",
      " 'data_sg_exp-03_trial-003.txt' 'data_sg_exp-03_trial-004.txt'\n",
      " 'data_sg_exp-03_trial-005.txt' 'data_sg_exp-03_trial-006.txt'\n",
      " 'data_sg_exp-03_trial-007.txt' 'data_sg_exp-03_trial-008.txt'\n",
      " 'data_sg_exp-03_trial-009.txt' 'data_sg_exp-03_trial-010.txt'\n",
      " 'data_sg_exp-03_trial-011.txt' 'data_sg_exp-03_trial-012.txt'\n",
      " 'data_sg_exp-03_trial-013.txt' 'data_sg_exp-03_trial-014.txt'\n",
      " 'data_sg_exp-03_trial-015.txt' 'data_sg_exp-03_trial-016.txt'\n",
      " 'data_sg_exp-03_trial-017.txt' 'data_sg_exp-03_trial-018.txt'\n",
      " 'data_sg_exp-03_trial-019.txt' 'data_sg_exp-03_trial-020.txt'\n",
      " 'data_sg_exp-03_trial-021.txt' 'data_sg_exp-03_trial-022.txt'\n",
      " 'data_sg_exp-03_trial-023.txt' 'data_sg_exp-03_trial-024.txt'\n",
      " 'data_sg_exp-03_trial-025.txt' 'data_sg_exp-03_trial-026.txt'\n",
      " 'data_sg_exp-03_trial-027.txt' 'data_sg_exp-03_trial-028.txt'\n",
      " 'data_sg_exp-03_trial-029.txt' 'data_sg_exp-03_trial-030.txt'\n",
      " 'data_sg_exp-03_trial-031.txt' 'data_sg_exp-03_trial-032.txt'\n",
      " 'data_sg_exp-03_trial-033.txt' 'data_sg_exp-03_trial-034.txt'\n",
      " 'data_sg_exp-03_trial-035.txt' 'data_sg_exp-03_trial-036.txt'\n",
      " 'data_sg_exp-03_trial-037.txt' 'data_sg_exp-03_trial-038.txt'\n",
      " 'data_sg_exp-03_trial-039.txt' 'data_sg_exp-03_trial-040.txt'\n",
      " 'data_sg_exp-03_trial-041.txt' 'data_sg_exp-03_trial-042.txt'\n",
      " 'data_sg_exp-03_trial-043.txt' 'data_sg_exp-03_trial-044.txt'\n",
      " 'data_sg_exp-03_trial-045.txt' 'data_sg_exp-03_trial-046.txt'\n",
      " 'data_sg_exp-03_trial-047.txt' 'data_sg_exp-03_trial-048.txt'\n",
      " 'data_sg_exp-03_trial-049.txt' 'data_sg_exp-03_trial-050.txt'\n",
      " 'data_gb_exp-03_trial-001.txt' 'data_gb_exp-03_trial-002.txt'\n",
      " 'data_gb_exp-03_trial-003.txt' 'data_gb_exp-03_trial-004.txt'\n",
      " 'data_gb_exp-03_trial-005.txt' 'data_gb_exp-03_trial-006.txt'\n",
      " 'data_gb_exp-03_trial-007.txt' 'data_gb_exp-03_trial-008.txt'\n",
      " 'data_gb_exp-03_trial-009.txt' 'data_gb_exp-03_trial-010.txt'\n",
      " 'data_gb_exp-03_trial-011.txt' 'data_gb_exp-03_trial-012.txt'\n",
      " 'data_gb_exp-03_trial-013.txt' 'data_gb_exp-03_trial-014.txt'\n",
      " 'data_gb_exp-03_trial-015.txt' 'data_gb_exp-03_trial-016.txt'\n",
      " 'data_gb_exp-03_trial-017.txt' 'data_gb_exp-03_trial-018.txt'\n",
      " 'data_gb_exp-03_trial-019.txt' 'data_gb_exp-03_trial-020.txt'\n",
      " 'data_gb_exp-03_trial-021.txt' 'data_gb_exp-03_trial-022.txt'\n",
      " 'data_gb_exp-03_trial-023.txt' 'data_gb_exp-03_trial-024.txt'\n",
      " 'data_gb_exp-03_trial-025.txt' 'data_gb_exp-03_trial-026.txt'\n",
      " 'data_gb_exp-03_trial-027.txt' 'data_gb_exp-03_trial-028.txt'\n",
      " 'data_gb_exp-03_trial-029.txt' 'data_gb_exp-03_trial-030.txt'\n",
      " 'data_gb_exp-03_trial-031.txt' 'data_gb_exp-03_trial-032.txt'\n",
      " 'data_gb_exp-03_trial-033.txt' 'data_gb_exp-03_trial-034.txt'\n",
      " 'data_gb_exp-03_trial-035.txt' 'data_gb_exp-03_trial-036.txt'\n",
      " 'data_gb_exp-03_trial-037.txt' 'data_gb_exp-03_trial-038.txt'\n",
      " 'data_gb_exp-03_trial-039.txt' 'data_gb_exp-03_trial-040.txt'\n",
      " 'data_gb_exp-03_trial-041.txt' 'data_gb_exp-03_trial-042.txt'\n",
      " 'data_gb_exp-03_trial-043.txt' 'data_gb_exp-03_trial-044.txt'\n",
      " 'data_gb_exp-03_trial-045.txt' 'data_gb_exp-03_trial-046.txt'\n",
      " 'data_gb_exp-03_trial-047.txt' 'data_gb_exp-03_trial-048.txt'\n",
      " 'data_gb_exp-03_trial-049.txt' 'data_gb_exp-03_trial-050.txt'\n",
      " 'data_us_exp-03_trial-001.txt' 'data_us_exp-03_trial-002.txt'\n",
      " 'data_us_exp-03_trial-003.txt' 'data_us_exp-03_trial-004.txt'\n",
      " 'data_us_exp-03_trial-005.txt' 'data_us_exp-03_trial-006.txt'\n",
      " 'data_us_exp-03_trial-007.txt' 'data_us_exp-03_trial-008.txt'\n",
      " 'data_us_exp-03_trial-009.txt' 'data_us_exp-03_trial-010.txt'\n",
      " 'data_us_exp-03_trial-011.txt' 'data_us_exp-03_trial-012.txt'\n",
      " 'data_us_exp-03_trial-013.txt' 'data_us_exp-03_trial-014.txt'\n",
      " 'data_us_exp-03_trial-015.txt' 'data_us_exp-03_trial-016.txt'\n",
      " 'data_us_exp-03_trial-017.txt' 'data_us_exp-03_trial-018.txt'\n",
      " 'data_us_exp-03_trial-019.txt' 'data_us_exp-03_trial-020.txt'\n",
      " 'data_us_exp-03_trial-021.txt' 'data_us_exp-03_trial-022.txt'\n",
      " 'data_us_exp-03_trial-023.txt' 'data_us_exp-03_trial-024.txt'\n",
      " 'data_us_exp-03_trial-025.txt' 'data_us_exp-03_trial-026.txt'\n",
      " 'data_us_exp-03_trial-027.txt' 'data_us_exp-03_trial-028.txt'\n",
      " 'data_us_exp-03_trial-029.txt' 'data_us_exp-03_trial-030.txt'\n",
      " 'data_us_exp-03_trial-031.txt' 'data_us_exp-03_trial-032.txt'\n",
      " 'data_us_exp-03_trial-033.txt' 'data_us_exp-03_trial-034.txt'\n",
      " 'data_us_exp-03_trial-035.txt' 'data_us_exp-03_trial-036.txt'\n",
      " 'data_us_exp-03_trial-037.txt' 'data_us_exp-03_trial-038.txt'\n",
      " 'data_us_exp-03_trial-039.txt' 'data_us_exp-03_trial-040.txt'\n",
      " 'data_us_exp-03_trial-041.txt' 'data_us_exp-03_trial-042.txt'\n",
      " 'data_us_exp-03_trial-043.txt' 'data_us_exp-03_trial-044.txt'\n",
      " 'data_us_exp-03_trial-045.txt' 'data_us_exp-03_trial-046.txt'\n",
      " 'data_us_exp-03_trial-047.txt' 'data_us_exp-03_trial-048.txt'\n",
      " 'data_us_exp-03_trial-049.txt' 'data_us_exp-03_trial-050.txt']\n"
     ]
    }
   ],
   "source": [
    "#5\n",
    "exp_list=[\"exp-01\",\"exp-02\",\"exp-03\"]\n",
    "country_list=[\"sg\",\"gb\",\"us\"]\n",
    "final_list=[]\n",
    "for exp in exp_list:\n",
    "    for country in country_list:\n",
    "        for i in range (1,51):\n",
    "            string=f'data_{country}_{exp}_trial-'+f'{i:03d}.txt'\n",
    "            final_list.append(string)\n",
    "print(np.array(final_list))"
   ]
  },
  {
   "cell_type": "markdown",
   "id": "d1efcd7c",
   "metadata": {},
   "source": [
    "## Exercise 2 :  Tutti frutti"
   ]
  },
  {
   "cell_type": "markdown",
   "id": "bb20c694",
   "metadata": {},
   "source": [
    "## Exercise 3 :  Ciao Fibonacci"
   ]
  },
  {
   "cell_type": "code",
   "execution_count": null,
   "id": "100da0b6",
   "metadata": {},
   "outputs": [],
   "source": [
    "\n",
    "\n",
    "\n",
    "# Your solution here\n",
    "\n",
    "\n"
   ]
  },
  {
   "cell_type": "markdown",
   "id": "e194b5eb",
   "metadata": {},
   "source": [
    "## Exercise 4 :  A function for Fibonacci"
   ]
  },
  {
   "cell_type": "code",
   "execution_count": null,
   "id": "57bd2873",
   "metadata": {},
   "outputs": [],
   "source": [
    "\n",
    "\n",
    "\n",
    "# Your solution here\n",
    "\n",
    "\n"
   ]
  },
  {
   "cell_type": "markdown",
   "id": "2735375c",
   "metadata": {},
   "source": [
    "## Exercise 5 :  max_info() without NumPy"
   ]
  },
  {
   "cell_type": "code",
   "execution_count": null,
   "id": "ca21c8a8",
   "metadata": {},
   "outputs": [],
   "source": [
    "\n",
    "\n",
    "\n",
    "# Your solution here\n",
    "\n",
    "\n"
   ]
  },
  {
   "cell_type": "markdown",
   "id": "c5265cfe",
   "metadata": {},
   "source": [
    "## Exercise 6 :  Take count"
   ]
  },
  {
   "cell_type": "code",
   "execution_count": null,
   "id": "6a2407ba",
   "metadata": {},
   "outputs": [],
   "source": [
    "\n",
    "\n",
    "\n",
    "# Your solution here\n",
    "\n",
    "\n"
   ]
  }
 ],
 "metadata": {
  "kernelspec": {
   "display_name": "Python 3 (ipykernel)",
   "language": "python",
   "name": "python3"
  },
  "language_info": {
   "codemirror_mode": {
    "name": "ipython",
    "version": 3
   },
   "file_extension": ".py",
   "mimetype": "text/x-python",
   "name": "python",
   "nbconvert_exporter": "python",
   "pygments_lexer": "ipython3",
   "version": "3.10.8"
  },
  "toc": {
   "base_numbering": 1,
   "nav_menu": {},
   "number_sections": true,
   "sideBar": true,
   "skip_h1_title": false,
   "title_cell": "Table of Contents",
   "title_sidebar": "Contents",
   "toc_cell": false,
   "toc_position": {},
   "toc_section_display": true,
   "toc_window_display": false
  },
  "varInspector": {
   "cols": {
    "lenName": 16,
    "lenType": 16,
    "lenVar": 40
   },
   "kernels_config": {
    "python": {
     "delete_cmd_postfix": "",
     "delete_cmd_prefix": "del ",
     "library": "var_list.py",
     "varRefreshCmd": "print(var_dic_list())"
    },
    "r": {
     "delete_cmd_postfix": ") ",
     "delete_cmd_prefix": "rm(",
     "library": "var_list.r",
     "varRefreshCmd": "cat(var_dic_list()) "
    }
   },
   "types_to_exclude": [
    "module",
    "function",
    "builtin_function_or_method",
    "instance",
    "_Feature"
   ],
   "window_display": false
  },
  "vscode": {
   "interpreter": {
    "hash": "31f2aee4e71d21fbe5cf8b01ff0e069b9275f58929596ceb00d14d90e3e16cd6"
   }
  }
 },
 "nbformat": 4,
 "nbformat_minor": 5
}
