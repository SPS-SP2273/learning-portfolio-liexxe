{
 "cells": [
  {
   "cell_type": "markdown",
   "id": "123456",
   "metadata": {},
   "source": [
    "<div style=\"text-align:left;font-size:2em\"><span style=\"font-weight:bolder;font-size:1.25em\">SP2273 | Learning Portfolio</span><br><br><span style=\"font-weight:bold;color:darkred\">Just Exercises (I)</span></div>"
   ]
  },
  {
   "cell_type": "markdown",
   "id": "36b31b76",
   "metadata": {},
   "source": [
    "## Exercise 1 :  F-strings to the rescue"
   ]
  },
  {
   "cell_type": "code",
   "execution_count": 11,
   "id": "59603038",
   "metadata": {},
   "outputs": [
    {
     "name": "stdout",
     "output_type": "stream",
     "text": [
      "00001\n",
      "00002\n",
      "00003\n",
      "00004\n",
      "00005\n",
      "00006\n",
      "00007\n",
      "00008\n",
      "00009\n",
      "00010\n"
     ]
    }
   ],
   "source": [
    "#1\n",
    "for i in range(1,11):\n",
    "    print(\"%05d\" % i) \n",
    "#%05d prints until 5 zeros, inserts i on right"
   ]
  },
  {
   "cell_type": "code",
   "execution_count": 19,
   "id": "f59636ed",
   "metadata": {},
   "outputs": [
    {
     "name": "stdout",
     "output_type": "stream",
     "text": [
      "00001\n",
      "00002\n",
      "00003\n",
      "00004\n",
      "00005\n",
      "00006\n",
      "00007\n",
      "00008\n",
      "00009\n",
      "00010\n"
     ]
    }
   ],
   "source": [
    "for i in range(1,11):\n",
    "    print(f'{i:05d}')"
   ]
  },
  {
   "cell_type": "code",
   "execution_count": 34,
   "id": "fa22f663",
   "metadata": {},
   "outputs": [
    {
     "name": "stdout",
     "output_type": "stream",
     "text": [
      "001          +\n",
      "002         ++\n",
      "003        +++\n",
      "004       ++++\n",
      "005      +++++\n",
      "006     ++++++\n",
      "007    +++++++\n",
      "008   ++++++++\n",
      "009  +++++++++\n",
      "010 ++++++++++\n"
     ]
    }
   ],
   "source": [
    "#2\n",
    "for i in range(1,11):\n",
    "    print(f'{i:03d}',f'{\"+\"*i:>10}')\n",
    "#\"+\" is string\n",
    "#\"+\"*i to create i copies of string\n",
    "# > aligns right"
   ]
  },
  {
   "cell_type": "code",
   "execution_count": 39,
   "id": "3db8a8af",
   "metadata": {},
   "outputs": [
    {
     "name": "stdout",
     "output_type": "stream",
     "text": [
      "001 -+++++++++\n",
      "002 --++++++++\n",
      "003 ---+++++++\n",
      "004 ----++++++\n",
      "005 -----+++++\n",
      "006 ------++++\n",
      "007 -------+++\n",
      "008 --------++\n",
      "009 ---------+\n",
      "010 ----------\n"
     ]
    }
   ],
   "source": [
    "#3\n",
    "for i in range(1,11):\n",
    "    print(f'{i:03d}',\"-\"*i+\"+\"*(10-i))\n",
    "#\"-\"*i to create i copies of string \"-\"\n",
    "#\"+\"*(10-i) appended to right\n",
    "# + sign appends"
   ]
  },
  {
   "cell_type": "code",
   "execution_count": 45,
   "id": "d588eb2d",
   "metadata": {},
   "outputs": [
    {
     "name": "stdout",
     "output_type": "stream",
     "text": [
      "['bruce_exploits.txt', 'bruce_enemies.txt', 'bruce_friends.txt', 'natasha_exploits.txt', 'natasha_enemies.txt', 'natasha_friends.txt', 'tony_exploits.txt', 'tony_enemies.txt', 'tony_friends.txt']\n"
     ]
    }
   ],
   "source": [
    "#4\n",
    "name_list=[\"bruce\",\"natasha\",\"tony\"]\n",
    "category_list=[\"exploits\",\"enemies\",\"friends\"]\n",
    "final_list=[]\n",
    "for name in name_list: \n",
    "    for category in category_list: #creating a loop in a loop\n",
    "        string=f'{name}_{category}.txt' #name, category and string are variables\n",
    "        final_list.append(string) #adding arguments in variable string to empty list\n",
    "        \n",
    "print(final_list)"
   ]
  },
  {
   "cell_type": "code",
   "execution_count": 237,
   "id": "6a1a1053",
   "metadata": {},
   "outputs": [
    {
     "data": {
      "text/plain": [
       "'[1 2 3]'"
      ]
     },
     "execution_count": 237,
     "metadata": {},
     "output_type": "execute_result"
    }
   ],
   "source": [
    "str(np.array([1,2,3]))"
   ]
  },
  {
   "cell_type": "code",
   "execution_count": 236,
   "id": "8918630a",
   "metadata": {
    "scrolled": true
   },
   "outputs": [
    {
     "name": "stdout",
     "output_type": "stream",
     "text": [
      "[1 2 3]\n"
     ]
    },
    {
     "data": {
      "text/plain": [
       "array([1, 2, 3])"
      ]
     },
     "execution_count": 236,
     "metadata": {},
     "output_type": "execute_result"
    }
   ],
   "source": [
    "x = 3\n",
    "y = 5\n",
    "print(np.array([1,2,3])) #print content of string, without \"\"\n",
    "np.array([1,2,3]) #print string/ , np is a function"
   ]
  },
  {
   "cell_type": "code",
   "execution_count": 232,
   "id": "3e7264e7",
   "metadata": {},
   "outputs": [
    {
     "data": {
      "text/plain": [
       "['data_sg_exp-01_trial-001.txt',\n",
       " 'data_sg_exp-01_trial-002.txt',\n",
       " 'data_sg_exp-01_trial-003.txt',\n",
       " 'data_sg_exp-01_trial-004.txt',\n",
       " 'data_sg_exp-01_trial-005.txt',\n",
       " 'data_sg_exp-01_trial-006.txt',\n",
       " 'data_sg_exp-01_trial-007.txt',\n",
       " 'data_sg_exp-01_trial-008.txt',\n",
       " 'data_sg_exp-01_trial-009.txt',\n",
       " 'data_sg_exp-01_trial-010.txt',\n",
       " 'data_sg_exp-01_trial-011.txt',\n",
       " 'data_sg_exp-01_trial-012.txt',\n",
       " 'data_sg_exp-01_trial-013.txt',\n",
       " 'data_sg_exp-01_trial-014.txt',\n",
       " 'data_sg_exp-01_trial-015.txt',\n",
       " 'data_sg_exp-01_trial-016.txt',\n",
       " 'data_sg_exp-01_trial-017.txt',\n",
       " 'data_sg_exp-01_trial-018.txt',\n",
       " 'data_sg_exp-01_trial-019.txt',\n",
       " 'data_sg_exp-01_trial-020.txt',\n",
       " 'data_sg_exp-01_trial-021.txt',\n",
       " 'data_sg_exp-01_trial-022.txt',\n",
       " 'data_sg_exp-01_trial-023.txt',\n",
       " 'data_sg_exp-01_trial-024.txt',\n",
       " 'data_sg_exp-01_trial-025.txt',\n",
       " 'data_sg_exp-01_trial-026.txt',\n",
       " 'data_sg_exp-01_trial-027.txt',\n",
       " 'data_sg_exp-01_trial-028.txt',\n",
       " 'data_sg_exp-01_trial-029.txt',\n",
       " 'data_sg_exp-01_trial-030.txt',\n",
       " 'data_sg_exp-01_trial-031.txt',\n",
       " 'data_sg_exp-01_trial-032.txt',\n",
       " 'data_sg_exp-01_trial-033.txt',\n",
       " 'data_sg_exp-01_trial-034.txt',\n",
       " 'data_sg_exp-01_trial-035.txt',\n",
       " 'data_sg_exp-01_trial-036.txt',\n",
       " 'data_sg_exp-01_trial-037.txt',\n",
       " 'data_sg_exp-01_trial-038.txt',\n",
       " 'data_sg_exp-01_trial-039.txt',\n",
       " 'data_sg_exp-01_trial-040.txt',\n",
       " 'data_sg_exp-01_trial-041.txt',\n",
       " 'data_sg_exp-01_trial-042.txt',\n",
       " 'data_sg_exp-01_trial-043.txt',\n",
       " 'data_sg_exp-01_trial-044.txt',\n",
       " 'data_sg_exp-01_trial-045.txt',\n",
       " 'data_sg_exp-01_trial-046.txt',\n",
       " 'data_sg_exp-01_trial-047.txt',\n",
       " 'data_sg_exp-01_trial-048.txt',\n",
       " 'data_sg_exp-01_trial-049.txt',\n",
       " 'data_sg_exp-01_trial-050.txt',\n",
       " 'data_gb_exp-01_trial-001.txt',\n",
       " 'data_gb_exp-01_trial-002.txt',\n",
       " 'data_gb_exp-01_trial-003.txt',\n",
       " 'data_gb_exp-01_trial-004.txt',\n",
       " 'data_gb_exp-01_trial-005.txt',\n",
       " 'data_gb_exp-01_trial-006.txt',\n",
       " 'data_gb_exp-01_trial-007.txt',\n",
       " 'data_gb_exp-01_trial-008.txt',\n",
       " 'data_gb_exp-01_trial-009.txt',\n",
       " 'data_gb_exp-01_trial-010.txt',\n",
       " 'data_gb_exp-01_trial-011.txt',\n",
       " 'data_gb_exp-01_trial-012.txt',\n",
       " 'data_gb_exp-01_trial-013.txt',\n",
       " 'data_gb_exp-01_trial-014.txt',\n",
       " 'data_gb_exp-01_trial-015.txt',\n",
       " 'data_gb_exp-01_trial-016.txt',\n",
       " 'data_gb_exp-01_trial-017.txt',\n",
       " 'data_gb_exp-01_trial-018.txt',\n",
       " 'data_gb_exp-01_trial-019.txt',\n",
       " 'data_gb_exp-01_trial-020.txt',\n",
       " 'data_gb_exp-01_trial-021.txt',\n",
       " 'data_gb_exp-01_trial-022.txt',\n",
       " 'data_gb_exp-01_trial-023.txt',\n",
       " 'data_gb_exp-01_trial-024.txt',\n",
       " 'data_gb_exp-01_trial-025.txt',\n",
       " 'data_gb_exp-01_trial-026.txt',\n",
       " 'data_gb_exp-01_trial-027.txt',\n",
       " 'data_gb_exp-01_trial-028.txt',\n",
       " 'data_gb_exp-01_trial-029.txt',\n",
       " 'data_gb_exp-01_trial-030.txt',\n",
       " 'data_gb_exp-01_trial-031.txt',\n",
       " 'data_gb_exp-01_trial-032.txt',\n",
       " 'data_gb_exp-01_trial-033.txt',\n",
       " 'data_gb_exp-01_trial-034.txt',\n",
       " 'data_gb_exp-01_trial-035.txt',\n",
       " 'data_gb_exp-01_trial-036.txt',\n",
       " 'data_gb_exp-01_trial-037.txt',\n",
       " 'data_gb_exp-01_trial-038.txt',\n",
       " 'data_gb_exp-01_trial-039.txt',\n",
       " 'data_gb_exp-01_trial-040.txt',\n",
       " 'data_gb_exp-01_trial-041.txt',\n",
       " 'data_gb_exp-01_trial-042.txt',\n",
       " 'data_gb_exp-01_trial-043.txt',\n",
       " 'data_gb_exp-01_trial-044.txt',\n",
       " 'data_gb_exp-01_trial-045.txt',\n",
       " 'data_gb_exp-01_trial-046.txt',\n",
       " 'data_gb_exp-01_trial-047.txt',\n",
       " 'data_gb_exp-01_trial-048.txt',\n",
       " 'data_gb_exp-01_trial-049.txt',\n",
       " 'data_gb_exp-01_trial-050.txt',\n",
       " 'data_us_exp-01_trial-001.txt',\n",
       " 'data_us_exp-01_trial-002.txt',\n",
       " 'data_us_exp-01_trial-003.txt',\n",
       " 'data_us_exp-01_trial-004.txt',\n",
       " 'data_us_exp-01_trial-005.txt',\n",
       " 'data_us_exp-01_trial-006.txt',\n",
       " 'data_us_exp-01_trial-007.txt',\n",
       " 'data_us_exp-01_trial-008.txt',\n",
       " 'data_us_exp-01_trial-009.txt',\n",
       " 'data_us_exp-01_trial-010.txt',\n",
       " 'data_us_exp-01_trial-011.txt',\n",
       " 'data_us_exp-01_trial-012.txt',\n",
       " 'data_us_exp-01_trial-013.txt',\n",
       " 'data_us_exp-01_trial-014.txt',\n",
       " 'data_us_exp-01_trial-015.txt',\n",
       " 'data_us_exp-01_trial-016.txt',\n",
       " 'data_us_exp-01_trial-017.txt',\n",
       " 'data_us_exp-01_trial-018.txt',\n",
       " 'data_us_exp-01_trial-019.txt',\n",
       " 'data_us_exp-01_trial-020.txt',\n",
       " 'data_us_exp-01_trial-021.txt',\n",
       " 'data_us_exp-01_trial-022.txt',\n",
       " 'data_us_exp-01_trial-023.txt',\n",
       " 'data_us_exp-01_trial-024.txt',\n",
       " 'data_us_exp-01_trial-025.txt',\n",
       " 'data_us_exp-01_trial-026.txt',\n",
       " 'data_us_exp-01_trial-027.txt',\n",
       " 'data_us_exp-01_trial-028.txt',\n",
       " 'data_us_exp-01_trial-029.txt',\n",
       " 'data_us_exp-01_trial-030.txt',\n",
       " 'data_us_exp-01_trial-031.txt',\n",
       " 'data_us_exp-01_trial-032.txt',\n",
       " 'data_us_exp-01_trial-033.txt',\n",
       " 'data_us_exp-01_trial-034.txt',\n",
       " 'data_us_exp-01_trial-035.txt',\n",
       " 'data_us_exp-01_trial-036.txt',\n",
       " 'data_us_exp-01_trial-037.txt',\n",
       " 'data_us_exp-01_trial-038.txt',\n",
       " 'data_us_exp-01_trial-039.txt',\n",
       " 'data_us_exp-01_trial-040.txt',\n",
       " 'data_us_exp-01_trial-041.txt',\n",
       " 'data_us_exp-01_trial-042.txt',\n",
       " 'data_us_exp-01_trial-043.txt',\n",
       " 'data_us_exp-01_trial-044.txt',\n",
       " 'data_us_exp-01_trial-045.txt',\n",
       " 'data_us_exp-01_trial-046.txt',\n",
       " 'data_us_exp-01_trial-047.txt',\n",
       " 'data_us_exp-01_trial-048.txt',\n",
       " 'data_us_exp-01_trial-049.txt',\n",
       " 'data_us_exp-01_trial-050.txt',\n",
       " 'data_sg_exp-02_trial-001.txt',\n",
       " 'data_sg_exp-02_trial-002.txt',\n",
       " 'data_sg_exp-02_trial-003.txt',\n",
       " 'data_sg_exp-02_trial-004.txt',\n",
       " 'data_sg_exp-02_trial-005.txt',\n",
       " 'data_sg_exp-02_trial-006.txt',\n",
       " 'data_sg_exp-02_trial-007.txt',\n",
       " 'data_sg_exp-02_trial-008.txt',\n",
       " 'data_sg_exp-02_trial-009.txt',\n",
       " 'data_sg_exp-02_trial-010.txt',\n",
       " 'data_sg_exp-02_trial-011.txt',\n",
       " 'data_sg_exp-02_trial-012.txt',\n",
       " 'data_sg_exp-02_trial-013.txt',\n",
       " 'data_sg_exp-02_trial-014.txt',\n",
       " 'data_sg_exp-02_trial-015.txt',\n",
       " 'data_sg_exp-02_trial-016.txt',\n",
       " 'data_sg_exp-02_trial-017.txt',\n",
       " 'data_sg_exp-02_trial-018.txt',\n",
       " 'data_sg_exp-02_trial-019.txt',\n",
       " 'data_sg_exp-02_trial-020.txt',\n",
       " 'data_sg_exp-02_trial-021.txt',\n",
       " 'data_sg_exp-02_trial-022.txt',\n",
       " 'data_sg_exp-02_trial-023.txt',\n",
       " 'data_sg_exp-02_trial-024.txt',\n",
       " 'data_sg_exp-02_trial-025.txt',\n",
       " 'data_sg_exp-02_trial-026.txt',\n",
       " 'data_sg_exp-02_trial-027.txt',\n",
       " 'data_sg_exp-02_trial-028.txt',\n",
       " 'data_sg_exp-02_trial-029.txt',\n",
       " 'data_sg_exp-02_trial-030.txt',\n",
       " 'data_sg_exp-02_trial-031.txt',\n",
       " 'data_sg_exp-02_trial-032.txt',\n",
       " 'data_sg_exp-02_trial-033.txt',\n",
       " 'data_sg_exp-02_trial-034.txt',\n",
       " 'data_sg_exp-02_trial-035.txt',\n",
       " 'data_sg_exp-02_trial-036.txt',\n",
       " 'data_sg_exp-02_trial-037.txt',\n",
       " 'data_sg_exp-02_trial-038.txt',\n",
       " 'data_sg_exp-02_trial-039.txt',\n",
       " 'data_sg_exp-02_trial-040.txt',\n",
       " 'data_sg_exp-02_trial-041.txt',\n",
       " 'data_sg_exp-02_trial-042.txt',\n",
       " 'data_sg_exp-02_trial-043.txt',\n",
       " 'data_sg_exp-02_trial-044.txt',\n",
       " 'data_sg_exp-02_trial-045.txt',\n",
       " 'data_sg_exp-02_trial-046.txt',\n",
       " 'data_sg_exp-02_trial-047.txt',\n",
       " 'data_sg_exp-02_trial-048.txt',\n",
       " 'data_sg_exp-02_trial-049.txt',\n",
       " 'data_sg_exp-02_trial-050.txt',\n",
       " 'data_gb_exp-02_trial-001.txt',\n",
       " 'data_gb_exp-02_trial-002.txt',\n",
       " 'data_gb_exp-02_trial-003.txt',\n",
       " 'data_gb_exp-02_trial-004.txt',\n",
       " 'data_gb_exp-02_trial-005.txt',\n",
       " 'data_gb_exp-02_trial-006.txt',\n",
       " 'data_gb_exp-02_trial-007.txt',\n",
       " 'data_gb_exp-02_trial-008.txt',\n",
       " 'data_gb_exp-02_trial-009.txt',\n",
       " 'data_gb_exp-02_trial-010.txt',\n",
       " 'data_gb_exp-02_trial-011.txt',\n",
       " 'data_gb_exp-02_trial-012.txt',\n",
       " 'data_gb_exp-02_trial-013.txt',\n",
       " 'data_gb_exp-02_trial-014.txt',\n",
       " 'data_gb_exp-02_trial-015.txt',\n",
       " 'data_gb_exp-02_trial-016.txt',\n",
       " 'data_gb_exp-02_trial-017.txt',\n",
       " 'data_gb_exp-02_trial-018.txt',\n",
       " 'data_gb_exp-02_trial-019.txt',\n",
       " 'data_gb_exp-02_trial-020.txt',\n",
       " 'data_gb_exp-02_trial-021.txt',\n",
       " 'data_gb_exp-02_trial-022.txt',\n",
       " 'data_gb_exp-02_trial-023.txt',\n",
       " 'data_gb_exp-02_trial-024.txt',\n",
       " 'data_gb_exp-02_trial-025.txt',\n",
       " 'data_gb_exp-02_trial-026.txt',\n",
       " 'data_gb_exp-02_trial-027.txt',\n",
       " 'data_gb_exp-02_trial-028.txt',\n",
       " 'data_gb_exp-02_trial-029.txt',\n",
       " 'data_gb_exp-02_trial-030.txt',\n",
       " 'data_gb_exp-02_trial-031.txt',\n",
       " 'data_gb_exp-02_trial-032.txt',\n",
       " 'data_gb_exp-02_trial-033.txt',\n",
       " 'data_gb_exp-02_trial-034.txt',\n",
       " 'data_gb_exp-02_trial-035.txt',\n",
       " 'data_gb_exp-02_trial-036.txt',\n",
       " 'data_gb_exp-02_trial-037.txt',\n",
       " 'data_gb_exp-02_trial-038.txt',\n",
       " 'data_gb_exp-02_trial-039.txt',\n",
       " 'data_gb_exp-02_trial-040.txt',\n",
       " 'data_gb_exp-02_trial-041.txt',\n",
       " 'data_gb_exp-02_trial-042.txt',\n",
       " 'data_gb_exp-02_trial-043.txt',\n",
       " 'data_gb_exp-02_trial-044.txt',\n",
       " 'data_gb_exp-02_trial-045.txt',\n",
       " 'data_gb_exp-02_trial-046.txt',\n",
       " 'data_gb_exp-02_trial-047.txt',\n",
       " 'data_gb_exp-02_trial-048.txt',\n",
       " 'data_gb_exp-02_trial-049.txt',\n",
       " 'data_gb_exp-02_trial-050.txt',\n",
       " 'data_us_exp-02_trial-001.txt',\n",
       " 'data_us_exp-02_trial-002.txt',\n",
       " 'data_us_exp-02_trial-003.txt',\n",
       " 'data_us_exp-02_trial-004.txt',\n",
       " 'data_us_exp-02_trial-005.txt',\n",
       " 'data_us_exp-02_trial-006.txt',\n",
       " 'data_us_exp-02_trial-007.txt',\n",
       " 'data_us_exp-02_trial-008.txt',\n",
       " 'data_us_exp-02_trial-009.txt',\n",
       " 'data_us_exp-02_trial-010.txt',\n",
       " 'data_us_exp-02_trial-011.txt',\n",
       " 'data_us_exp-02_trial-012.txt',\n",
       " 'data_us_exp-02_trial-013.txt',\n",
       " 'data_us_exp-02_trial-014.txt',\n",
       " 'data_us_exp-02_trial-015.txt',\n",
       " 'data_us_exp-02_trial-016.txt',\n",
       " 'data_us_exp-02_trial-017.txt',\n",
       " 'data_us_exp-02_trial-018.txt',\n",
       " 'data_us_exp-02_trial-019.txt',\n",
       " 'data_us_exp-02_trial-020.txt',\n",
       " 'data_us_exp-02_trial-021.txt',\n",
       " 'data_us_exp-02_trial-022.txt',\n",
       " 'data_us_exp-02_trial-023.txt',\n",
       " 'data_us_exp-02_trial-024.txt',\n",
       " 'data_us_exp-02_trial-025.txt',\n",
       " 'data_us_exp-02_trial-026.txt',\n",
       " 'data_us_exp-02_trial-027.txt',\n",
       " 'data_us_exp-02_trial-028.txt',\n",
       " 'data_us_exp-02_trial-029.txt',\n",
       " 'data_us_exp-02_trial-030.txt',\n",
       " 'data_us_exp-02_trial-031.txt',\n",
       " 'data_us_exp-02_trial-032.txt',\n",
       " 'data_us_exp-02_trial-033.txt',\n",
       " 'data_us_exp-02_trial-034.txt',\n",
       " 'data_us_exp-02_trial-035.txt',\n",
       " 'data_us_exp-02_trial-036.txt',\n",
       " 'data_us_exp-02_trial-037.txt',\n",
       " 'data_us_exp-02_trial-038.txt',\n",
       " 'data_us_exp-02_trial-039.txt',\n",
       " 'data_us_exp-02_trial-040.txt',\n",
       " 'data_us_exp-02_trial-041.txt',\n",
       " 'data_us_exp-02_trial-042.txt',\n",
       " 'data_us_exp-02_trial-043.txt',\n",
       " 'data_us_exp-02_trial-044.txt',\n",
       " 'data_us_exp-02_trial-045.txt',\n",
       " 'data_us_exp-02_trial-046.txt',\n",
       " 'data_us_exp-02_trial-047.txt',\n",
       " 'data_us_exp-02_trial-048.txt',\n",
       " 'data_us_exp-02_trial-049.txt',\n",
       " 'data_us_exp-02_trial-050.txt',\n",
       " 'data_sg_exp-03_trial-001.txt',\n",
       " 'data_sg_exp-03_trial-002.txt',\n",
       " 'data_sg_exp-03_trial-003.txt',\n",
       " 'data_sg_exp-03_trial-004.txt',\n",
       " 'data_sg_exp-03_trial-005.txt',\n",
       " 'data_sg_exp-03_trial-006.txt',\n",
       " 'data_sg_exp-03_trial-007.txt',\n",
       " 'data_sg_exp-03_trial-008.txt',\n",
       " 'data_sg_exp-03_trial-009.txt',\n",
       " 'data_sg_exp-03_trial-010.txt',\n",
       " 'data_sg_exp-03_trial-011.txt',\n",
       " 'data_sg_exp-03_trial-012.txt',\n",
       " 'data_sg_exp-03_trial-013.txt',\n",
       " 'data_sg_exp-03_trial-014.txt',\n",
       " 'data_sg_exp-03_trial-015.txt',\n",
       " 'data_sg_exp-03_trial-016.txt',\n",
       " 'data_sg_exp-03_trial-017.txt',\n",
       " 'data_sg_exp-03_trial-018.txt',\n",
       " 'data_sg_exp-03_trial-019.txt',\n",
       " 'data_sg_exp-03_trial-020.txt',\n",
       " 'data_sg_exp-03_trial-021.txt',\n",
       " 'data_sg_exp-03_trial-022.txt',\n",
       " 'data_sg_exp-03_trial-023.txt',\n",
       " 'data_sg_exp-03_trial-024.txt',\n",
       " 'data_sg_exp-03_trial-025.txt',\n",
       " 'data_sg_exp-03_trial-026.txt',\n",
       " 'data_sg_exp-03_trial-027.txt',\n",
       " 'data_sg_exp-03_trial-028.txt',\n",
       " 'data_sg_exp-03_trial-029.txt',\n",
       " 'data_sg_exp-03_trial-030.txt',\n",
       " 'data_sg_exp-03_trial-031.txt',\n",
       " 'data_sg_exp-03_trial-032.txt',\n",
       " 'data_sg_exp-03_trial-033.txt',\n",
       " 'data_sg_exp-03_trial-034.txt',\n",
       " 'data_sg_exp-03_trial-035.txt',\n",
       " 'data_sg_exp-03_trial-036.txt',\n",
       " 'data_sg_exp-03_trial-037.txt',\n",
       " 'data_sg_exp-03_trial-038.txt',\n",
       " 'data_sg_exp-03_trial-039.txt',\n",
       " 'data_sg_exp-03_trial-040.txt',\n",
       " 'data_sg_exp-03_trial-041.txt',\n",
       " 'data_sg_exp-03_trial-042.txt',\n",
       " 'data_sg_exp-03_trial-043.txt',\n",
       " 'data_sg_exp-03_trial-044.txt',\n",
       " 'data_sg_exp-03_trial-045.txt',\n",
       " 'data_sg_exp-03_trial-046.txt',\n",
       " 'data_sg_exp-03_trial-047.txt',\n",
       " 'data_sg_exp-03_trial-048.txt',\n",
       " 'data_sg_exp-03_trial-049.txt',\n",
       " 'data_sg_exp-03_trial-050.txt',\n",
       " 'data_gb_exp-03_trial-001.txt',\n",
       " 'data_gb_exp-03_trial-002.txt',\n",
       " 'data_gb_exp-03_trial-003.txt',\n",
       " 'data_gb_exp-03_trial-004.txt',\n",
       " 'data_gb_exp-03_trial-005.txt',\n",
       " 'data_gb_exp-03_trial-006.txt',\n",
       " 'data_gb_exp-03_trial-007.txt',\n",
       " 'data_gb_exp-03_trial-008.txt',\n",
       " 'data_gb_exp-03_trial-009.txt',\n",
       " 'data_gb_exp-03_trial-010.txt',\n",
       " 'data_gb_exp-03_trial-011.txt',\n",
       " 'data_gb_exp-03_trial-012.txt',\n",
       " 'data_gb_exp-03_trial-013.txt',\n",
       " 'data_gb_exp-03_trial-014.txt',\n",
       " 'data_gb_exp-03_trial-015.txt',\n",
       " 'data_gb_exp-03_trial-016.txt',\n",
       " 'data_gb_exp-03_trial-017.txt',\n",
       " 'data_gb_exp-03_trial-018.txt',\n",
       " 'data_gb_exp-03_trial-019.txt',\n",
       " 'data_gb_exp-03_trial-020.txt',\n",
       " 'data_gb_exp-03_trial-021.txt',\n",
       " 'data_gb_exp-03_trial-022.txt',\n",
       " 'data_gb_exp-03_trial-023.txt',\n",
       " 'data_gb_exp-03_trial-024.txt',\n",
       " 'data_gb_exp-03_trial-025.txt',\n",
       " 'data_gb_exp-03_trial-026.txt',\n",
       " 'data_gb_exp-03_trial-027.txt',\n",
       " 'data_gb_exp-03_trial-028.txt',\n",
       " 'data_gb_exp-03_trial-029.txt',\n",
       " 'data_gb_exp-03_trial-030.txt',\n",
       " 'data_gb_exp-03_trial-031.txt',\n",
       " 'data_gb_exp-03_trial-032.txt',\n",
       " 'data_gb_exp-03_trial-033.txt',\n",
       " 'data_gb_exp-03_trial-034.txt',\n",
       " 'data_gb_exp-03_trial-035.txt',\n",
       " 'data_gb_exp-03_trial-036.txt',\n",
       " 'data_gb_exp-03_trial-037.txt',\n",
       " 'data_gb_exp-03_trial-038.txt',\n",
       " 'data_gb_exp-03_trial-039.txt',\n",
       " 'data_gb_exp-03_trial-040.txt',\n",
       " 'data_gb_exp-03_trial-041.txt',\n",
       " 'data_gb_exp-03_trial-042.txt',\n",
       " 'data_gb_exp-03_trial-043.txt',\n",
       " 'data_gb_exp-03_trial-044.txt',\n",
       " 'data_gb_exp-03_trial-045.txt',\n",
       " 'data_gb_exp-03_trial-046.txt',\n",
       " 'data_gb_exp-03_trial-047.txt',\n",
       " 'data_gb_exp-03_trial-048.txt',\n",
       " 'data_gb_exp-03_trial-049.txt',\n",
       " 'data_gb_exp-03_trial-050.txt',\n",
       " 'data_us_exp-03_trial-001.txt',\n",
       " 'data_us_exp-03_trial-002.txt',\n",
       " 'data_us_exp-03_trial-003.txt',\n",
       " 'data_us_exp-03_trial-004.txt',\n",
       " 'data_us_exp-03_trial-005.txt',\n",
       " 'data_us_exp-03_trial-006.txt',\n",
       " 'data_us_exp-03_trial-007.txt',\n",
       " 'data_us_exp-03_trial-008.txt',\n",
       " 'data_us_exp-03_trial-009.txt',\n",
       " 'data_us_exp-03_trial-010.txt',\n",
       " 'data_us_exp-03_trial-011.txt',\n",
       " 'data_us_exp-03_trial-012.txt',\n",
       " 'data_us_exp-03_trial-013.txt',\n",
       " 'data_us_exp-03_trial-014.txt',\n",
       " 'data_us_exp-03_trial-015.txt',\n",
       " 'data_us_exp-03_trial-016.txt',\n",
       " 'data_us_exp-03_trial-017.txt',\n",
       " 'data_us_exp-03_trial-018.txt',\n",
       " 'data_us_exp-03_trial-019.txt',\n",
       " 'data_us_exp-03_trial-020.txt',\n",
       " 'data_us_exp-03_trial-021.txt',\n",
       " 'data_us_exp-03_trial-022.txt',\n",
       " 'data_us_exp-03_trial-023.txt',\n",
       " 'data_us_exp-03_trial-024.txt',\n",
       " 'data_us_exp-03_trial-025.txt',\n",
       " 'data_us_exp-03_trial-026.txt',\n",
       " 'data_us_exp-03_trial-027.txt',\n",
       " 'data_us_exp-03_trial-028.txt',\n",
       " 'data_us_exp-03_trial-029.txt',\n",
       " 'data_us_exp-03_trial-030.txt',\n",
       " 'data_us_exp-03_trial-031.txt',\n",
       " 'data_us_exp-03_trial-032.txt',\n",
       " 'data_us_exp-03_trial-033.txt',\n",
       " 'data_us_exp-03_trial-034.txt',\n",
       " 'data_us_exp-03_trial-035.txt',\n",
       " 'data_us_exp-03_trial-036.txt',\n",
       " 'data_us_exp-03_trial-037.txt',\n",
       " 'data_us_exp-03_trial-038.txt',\n",
       " 'data_us_exp-03_trial-039.txt',\n",
       " 'data_us_exp-03_trial-040.txt',\n",
       " 'data_us_exp-03_trial-041.txt',\n",
       " 'data_us_exp-03_trial-042.txt',\n",
       " 'data_us_exp-03_trial-043.txt',\n",
       " 'data_us_exp-03_trial-044.txt',\n",
       " 'data_us_exp-03_trial-045.txt',\n",
       " 'data_us_exp-03_trial-046.txt',\n",
       " 'data_us_exp-03_trial-047.txt',\n",
       " 'data_us_exp-03_trial-048.txt',\n",
       " 'data_us_exp-03_trial-049.txt',\n",
       " 'data_us_exp-03_trial-050.txt']"
      ]
     },
     "execution_count": 232,
     "metadata": {},
     "output_type": "execute_result"
    }
   ],
   "source": [
    "#5\n",
    "exp_list=[\"exp-01\",\"exp-02\",\"exp-03\"]\n",
    "country_list=[\"sg\",\"gb\",\"us\"]\n",
    "final_list=[]\n",
    "for exp in exp_list:\n",
    "    for country in country_list:\n",
    "        for i in range (1,51):\n",
    "            string=f'data_{country}_{exp}_trial-'+f'{i:03d}.txt'\n",
    "            final_list.append(string)\n",
    "final_list"
   ]
  },
  {
   "cell_type": "markdown",
   "id": "d1efcd7c",
   "metadata": {},
   "source": [
    "## Exercise 2 :  Tutti frutti"
   ]
  },
  {
   "cell_type": "code",
   "execution_count": 157,
   "id": "98a45c2d",
   "metadata": {},
   "outputs": [],
   "source": [
    "fruits = [\"apple\", \"banana\", \"pineapple\", \"jackfruit\",\n",
    "        \"peach\", \"durian\", \"watermelon\", \"mango\",\n",
    "        \"strawberry\", \"passionfruit\"]"
   ]
  },
  {
   "cell_type": "code",
   "execution_count": 152,
   "id": "863f1860",
   "metadata": {},
   "outputs": [
    {
     "data": {
      "text/plain": [
       "False"
      ]
     },
     "execution_count": 152,
     "metadata": {},
     "output_type": "execute_result"
    }
   ],
   "source": [
    "#1\n",
    "fruits == \"mango\""
   ]
  },
  {
   "cell_type": "code",
   "execution_count": 153,
   "id": "35138ac8",
   "metadata": {},
   "outputs": [
    {
     "name": "stdout",
     "output_type": "stream",
     "text": [
      "a e\n",
      "b a\n",
      "p e\n",
      "j t\n",
      "p h\n",
      "d n\n",
      "w n\n",
      "m o\n",
      "s y\n",
      "p t\n"
     ]
    }
   ],
   "source": [
    "#2\n",
    "for fruit in fruits:\n",
    "    print(fruit[0], fruit[-1])"
   ]
  },
  {
   "cell_type": "code",
   "execution_count": 154,
   "id": "1e4c4464",
   "metadata": {},
   "outputs": [
    {
     "data": {
      "text/plain": [
       "True"
      ]
     },
     "execution_count": 154,
     "metadata": {},
     "output_type": "execute_result"
    }
   ],
   "source": [
    "fruit[0] == \"p\""
   ]
  },
  {
   "cell_type": "code",
   "execution_count": 155,
   "id": "396c5381",
   "metadata": {},
   "outputs": [
    {
     "name": "stdout",
     "output_type": "stream",
     "text": [
      "apple\n",
      "banana\n",
      "PINEAPPLE\n",
      "jackfruit\n",
      "PEACH\n",
      "durian\n",
      "watermelon\n",
      "mango\n",
      "strawberry\n",
      "PASSIONFRUIT\n"
     ]
    }
   ],
   "source": [
    "#3\n",
    "for fruit in fruits:\n",
    "    if fruit[0] == \"p\":\n",
    "        print(fruit.upper())\n",
    "    else:\n",
    "        print(fruit)"
   ]
  },
  {
   "cell_type": "code",
   "execution_count": 160,
   "id": "4afe5732",
   "metadata": {},
   "outputs": [
    {
     "name": "stdout",
     "output_type": "stream",
     "text": [
      "['apple', 'banana', 'pineapple', 'jackfruit', 'peach', 'durian', 'watermelon', 'mango', 'strawberry', 'passionfruit', 'dragon fruit', 'apricots', 'oranges']\n"
     ]
    }
   ],
   "source": [
    "#4.1\n",
    "fruits = [\"apple\", \"banana\", \"pineapple\", \"jackfruit\",\n",
    "        \"peach\", \"durian\", \"watermelon\", \"mango\",\n",
    "        \"strawberry\", \"passionfruit\"]\n",
    "new_fruits=[\"dragon fruit\", \"apricots\", \"oranges\"]\n",
    "total_fruits_1=fruits+new_fruits\n",
    "print(total_fruits_1)"
   ]
  },
  {
   "cell_type": "code",
   "execution_count": 108,
   "id": "3fed1637",
   "metadata": {},
   "outputs": [
    {
     "name": "stdout",
     "output_type": "stream",
     "text": [
      "['dragon fruit', 'apricots', 'oranges', 'apple', 'banana', 'pineapple', 'jackfruit', 'peach', 'durian', 'watermelon', 'mango', 'strawberry', 'passionfruit']\n"
     ]
    }
   ],
   "source": [
    "#4.2\n",
    "total_fruits_2=new_fruits+fruits\n",
    "print(total_fruits_2)"
   ]
  },
  {
   "cell_type": "code",
   "execution_count": 163,
   "id": "5326740e",
   "metadata": {},
   "outputs": [
    {
     "data": {
      "text/plain": [
       "5"
      ]
     },
     "execution_count": 163,
     "metadata": {},
     "output_type": "execute_result"
    }
   ],
   "source": [
    "#4.3\n",
    "x=len(fruits)//2\n",
    "x"
   ]
  },
  {
   "cell_type": "code",
   "execution_count": 168,
   "id": "dd3a39cc",
   "metadata": {},
   "outputs": [
    {
     "name": "stdout",
     "output_type": "stream",
     "text": [
      "['apple', 'banana', 'pineapple', 'jackfruit', 'peach', ['dragon fruit', 'apricots', 'oranges'], 'durian', 'watermelon', 'mango', 'strawberry', 'passionfruit']\n"
     ]
    }
   ],
   "source": [
    "#4.3 try 1 (list in list)\n",
    "fruits = [\"apple\", \"banana\", \"pineapple\", \"jackfruit\",\n",
    "        \"peach\", \"durian\", \"watermelon\", \"mango\",\n",
    "        \"strawberry\", \"passionfruit\"]\n",
    "new_fruits=[\"dragon fruit\", \"apricots\", \"oranges\"]\n",
    "fruits.insert(x,new_fruits) #insert(index no,element)\n",
    "print(fruits) #insert() adds element by element, cannot remove []"
   ]
  },
  {
   "cell_type": "code",
   "execution_count": 176,
   "id": "70f9be65",
   "metadata": {
    "scrolled": true
   },
   "outputs": [
    {
     "name": "stdout",
     "output_type": "stream",
     "text": [
      "['apple', 'banana', 'pineapple', 'jackfruit', 'peach', 'dragon fruit', 'apricots', 'oranges', 'durian', 'watermelon', 'mango', 'strawberry', 'passionfruit']\n"
     ]
    }
   ],
   "source": [
    "#4.3 try 2 (loops)\n",
    "fruits = [\"apple\", \"banana\", \"pineapple\", \"jackfruit\",\n",
    "        \"peach\", \"durian\", \"watermelon\", \"mango\",\n",
    "        \"strawberry\", \"passionfruit\"]\n",
    "new_fruits=[\"dragon fruit\", \"apricots\", \"oranges\"]\n",
    "numbers=[0,1,2]\n",
    "\n",
    "for number in numbers:\n",
    "    fruits.insert(x+number,new_fruits[number])\n",
    "print(fruits)\n",
    "#else, try enumerate()"
   ]
  },
  {
   "cell_type": "code",
   "execution_count": 196,
   "id": "1f3a8fab",
   "metadata": {},
   "outputs": [
    {
     "name": "stdout",
     "output_type": "stream",
     "text": [
      "['apple', 'banana', 'pineapple', 'jackfruit', 'peach', 'dragon fruit', 'apricots', 'oranges', 'durian', 'watermelon', 'mango', 'strawberry', 'passionfruit']\n"
     ]
    }
   ],
   "source": [
    "#4.3 try 3 (splicing of list)\n",
    "fruits = [\"apple\", \"banana\", \"pineapple\", \"jackfruit\",\n",
    "        \"peach\", \"durian\", \"watermelon\", \"mango\",\n",
    "        \"strawberry\", \"passionfruit\"]\n",
    "new_fruits=[\"dragon fruit\", \"apricots\", \"oranges\"]\n",
    "fruits_1= fruits[0:x]\n",
    "fruits_2= fruits[x:]\n",
    "total_fruits=fruits_1+new_fruits+fruits_2\n",
    "print(total_fruits)"
   ]
  },
  {
   "cell_type": "code",
   "execution_count": 214,
   "id": "47a807bb",
   "metadata": {},
   "outputs": [
    {
     "data": {
      "text/plain": [
       "['pineapple', 'jackfruit', 'watermelon', 'strawberry', 'passionfruit']"
      ]
     },
     "execution_count": 214,
     "metadata": {},
     "output_type": "execute_result"
    }
   ],
   "source": [
    "#5\n",
    "fruits = [\"apple\", \"banana\", \"pineapple\", \"jackfruit\",\n",
    "        \"peach\", \"durian\", \"watermelon\", \"mango\",\n",
    "        \"strawberry\", \"passionfruit\"]\n",
    "\n",
    "\n",
    "[i for i in fruits if len(i)>=8] \n",
    "#for i(element) in fruits(lists), output left i\n",
    "#if number of letters in i = 8"
   ]
  },
  {
   "cell_type": "code",
   "execution_count": 212,
   "id": "2a9b6808",
   "metadata": {},
   "outputs": [
    {
     "data": {
      "text/plain": [
       "5"
      ]
     },
     "execution_count": 212,
     "metadata": {},
     "output_type": "execute_result"
    }
   ],
   "source": [
    "len(\"apple\")"
   ]
  },
  {
   "cell_type": "markdown",
   "id": "bb20c694",
   "metadata": {},
   "source": [
    "## Exercise 3 :  Ciao Fibonacci"
   ]
  },
  {
   "cell_type": "code",
   "execution_count": 221,
   "id": "fabf5351",
   "metadata": {},
   "outputs": [
    {
     "data": {
      "text/plain": [
       "1"
      ]
     },
     "execution_count": 221,
     "metadata": {},
     "output_type": "execute_result"
    }
   ],
   "source": [
    "fibonnaci=[0,1]\n",
    "fibonnaci[1]"
   ]
  },
  {
   "cell_type": "code",
   "execution_count": 230,
   "id": "100da0b6",
   "metadata": {},
   "outputs": [
    {
     "name": "stdout",
     "output_type": "stream",
     "text": [
      "[0, 1, 1]\n",
      "[0, 1, 1, 2]\n",
      "[0, 1, 1, 2, 3]\n",
      "[0, 1, 1, 2, 3, 5]\n",
      "[0, 1, 1, 2, 3, 5, 8]\n",
      "[0, 1, 1, 2, 3, 5, 8, 13]\n",
      "[0, 1, 1, 2, 3, 5, 8, 13, 21]\n",
      "[0, 1, 1, 2, 3, 5, 8, 13, 21, 34]\n",
      "[0, 1, 1, 2, 3, 5, 8, 13, 21, 34, 55]\n",
      "[0, 1, 1, 2, 3, 5, 8, 13, 21, 34, 55, 89]\n",
      "[0, 1, 1, 2, 3, 5, 8, 13, 21, 34, 55, 89, 144]\n",
      "[0, 1, 1, 2, 3, 5, 8, 13, 21, 34, 55, 89, 144, 233]\n",
      "[0, 1, 1, 2, 3, 5, 8, 13, 21, 34, 55, 89, 144, 233, 377]\n"
     ]
    }
   ],
   "source": [
    "fibonnaci=[0,1]\n",
    "for i in range(1,14):\n",
    "    fibonnaci.append(fibonnaci[i-1]+fibonnaci[i])\n",
    "    #fibonnaci[i-1]+fibonnaci[i] is one element added to the list\n",
    "    #third element added and so on\n",
    "    print(fibonnaci)"
   ]
  },
  {
   "cell_type": "code",
   "execution_count": 231,
   "id": "6b207d02",
   "metadata": {},
   "outputs": [
    {
     "name": "stdout",
     "output_type": "stream",
     "text": [
      "[0, 1, 1, 2, 3, 5, 8, 13, 21, 34, 55, 89, 144, 233, 377]\n"
     ]
    }
   ],
   "source": [
    "#Answer\n",
    "fibonnaci=[0,1]\n",
    "for i in range(1,14):\n",
    "    fibonnaci.append(fibonnaci[i-1]+fibonnaci[i])\n",
    "print(fibonnaci)"
   ]
  },
  {
   "cell_type": "markdown",
   "id": "e194b5eb",
   "metadata": {},
   "source": [
    "## Exercise 4 :  A function for Fibonacci"
   ]
  },
  {
   "cell_type": "code",
   "execution_count": null,
   "id": "57bd2873",
   "metadata": {},
   "outputs": [],
   "source": [
    "\n",
    "\n",
    "\n",
    "# Your solution here\n",
    "\n",
    "\n"
   ]
  },
  {
   "cell_type": "markdown",
   "id": "2735375c",
   "metadata": {},
   "source": [
    "## Exercise 5 :  max_info() without NumPy"
   ]
  },
  {
   "cell_type": "code",
   "execution_count": null,
   "id": "ca21c8a8",
   "metadata": {},
   "outputs": [],
   "source": [
    "\n",
    "\n",
    "\n",
    "# Your solution here\n",
    "\n",
    "\n"
   ]
  },
  {
   "cell_type": "markdown",
   "id": "c5265cfe",
   "metadata": {},
   "source": [
    "## Exercise 6 :  Take count"
   ]
  },
  {
   "cell_type": "code",
   "execution_count": null,
   "id": "6a2407ba",
   "metadata": {},
   "outputs": [],
   "source": [
    "\n",
    "\n",
    "\n",
    "# Your solution here\n",
    "\n",
    "\n"
   ]
  }
 ],
 "metadata": {
  "kernelspec": {
   "display_name": "Python 3 (ipykernel)",
   "language": "python",
   "name": "python3"
  },
  "language_info": {
   "codemirror_mode": {
    "name": "ipython",
    "version": 3
   },
   "file_extension": ".py",
   "mimetype": "text/x-python",
   "name": "python",
   "nbconvert_exporter": "python",
   "pygments_lexer": "ipython3",
   "version": "3.10.8"
  },
  "toc": {
   "base_numbering": 1,
   "nav_menu": {},
   "number_sections": true,
   "sideBar": true,
   "skip_h1_title": false,
   "title_cell": "Table of Contents",
   "title_sidebar": "Contents",
   "toc_cell": false,
   "toc_position": {},
   "toc_section_display": true,
   "toc_window_display": false
  },
  "varInspector": {
   "cols": {
    "lenName": 16,
    "lenType": 16,
    "lenVar": 40
   },
   "kernels_config": {
    "python": {
     "delete_cmd_postfix": "",
     "delete_cmd_prefix": "del ",
     "library": "var_list.py",
     "varRefreshCmd": "print(var_dic_list())"
    },
    "r": {
     "delete_cmd_postfix": ") ",
     "delete_cmd_prefix": "rm(",
     "library": "var_list.r",
     "varRefreshCmd": "cat(var_dic_list()) "
    }
   },
   "types_to_exclude": [
    "module",
    "function",
    "builtin_function_or_method",
    "instance",
    "_Feature"
   ],
   "window_display": false
  },
  "vscode": {
   "interpreter": {
    "hash": "31f2aee4e71d21fbe5cf8b01ff0e069b9275f58929596ceb00d14d90e3e16cd6"
   }
  }
 },
 "nbformat": 4,
 "nbformat_minor": 5
}
